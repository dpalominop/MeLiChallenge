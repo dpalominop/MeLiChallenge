{
 "cells": [
  {
   "cell_type": "markdown",
   "id": "1c45f84f-b1c6-4653-899f-434a73a361d4",
   "metadata": {},
   "source": [
    "<h1>Data Exploration<h1/>"
   ]
  },
  {
   "cell_type": "code",
   "execution_count": 1,
   "id": "dfef6ad8-d195-40fd-97cd-b1f0b59f3ea5",
   "metadata": {},
   "outputs": [],
   "source": [
    "import pandas as pd\n",
    "from data.new_or_used import build_dataset"
   ]
  },
  {
   "cell_type": "markdown",
   "id": "1ec4f926-2bfc-4dfc-b32e-3c66602a1b4d",
   "metadata": {},
   "source": [
    "<br/>"
   ]
  },
  {
   "cell_type": "markdown",
   "id": "fe789d9a-a893-411f-8421-affb1cc42dba",
   "metadata": {},
   "source": [
    "<h2> 1. Loading Dataset<h2/>"
   ]
  },
  {
   "cell_type": "code",
   "execution_count": 2,
   "id": "a23c942a-eedd-441d-8f4c-05804e724bcc",
   "metadata": {},
   "outputs": [],
   "source": [
    "X_train, y_train, X_test, y_test = build_dataset()"
   ]
  },
  {
   "cell_type": "markdown",
   "id": "f219d163-cbc6-4b89-80be-2b51ac61c1d4",
   "metadata": {},
   "source": [
    "Printing some examples:"
   ]
  },
  {
   "cell_type": "code",
   "execution_count": 3,
   "id": "919fac85-bfc8-4392-8aad-e1dba000b19c",
   "metadata": {},
   "outputs": [
    {
     "name": "stdout",
     "output_type": "stream",
     "text": [
      "Training Size: 90000\n",
      "\n",
      "y_train[0]: new\n",
      "\n",
      "X_train[0]: {'seller_address': {'comment': '', 'longitude': -58.3986709, 'id': 78162842, 'country': {'name': 'Argentina', 'id': 'AR'}, 'address_line': '', 'latitude': -34.6280698, 'search_location': {'neighborhood': {'name': 'San Cristóbal', 'id': 'TUxBQlNBTjkwNTZa'}, 'state': {'name': 'Capital Federal', 'id': 'TUxBUENBUGw3M2E1'}, 'city': {'name': 'Capital Federal', 'id': 'TUxBQ0NBUGZlZG1sYQ'}}, 'zip_code': '', 'city': {'name': 'San Cristóbal', 'id': 'TUxBQlNBTjkwNTZa'}, 'state': {'name': 'Capital Federal', 'id': 'AR-C'}}, 'warranty': None, 'sub_status': [], 'condition': 'new', 'seller_contact': None, 'deal_ids': [], 'base_price': 80, 'shipping': {'local_pick_up': True, 'methods': [], 'tags': [], 'free_shipping': False, 'mode': 'not_specified', 'dimensions': None}, 'non_mercado_pago_payment_methods': [{'description': 'Transferencia bancaria', 'id': 'MLATB', 'type': 'G'}, {'description': 'Acordar con el comprador', 'id': 'MLAWC', 'type': 'G'}, {'description': 'Efectivo', 'id': 'MLAMO', 'type': 'G'}], 'seller_id': 74952096, 'variations': [], 'location': {}, 'site_id': 'MLA', 'listing_type_id': 'bronze', 'price': 80, 'attributes': [], 'buying_mode': 'buy_it_now', 'tags': ['dragged_bids_and_visits'], 'listing_source': '', 'parent_item_id': 'MLA568261029', 'coverage_areas': [], 'category_id': 'MLA126406', 'descriptions': [{'id': 'MLA578052519-912855983'}], 'last_updated': '2015-09-05T20:42:58.000Z', 'international_delivery_mode': 'none', 'pictures': [{'size': '500x375', 'secure_url': 'https://a248.e.akamai.net/mla-s1-p.mlstatic.com/5386-MLA4352067878_052013-O.jpg', 'max_size': '1200x900', 'url': 'http://mla-s1-p.mlstatic.com/5386-MLA4352067878_052013-O.jpg', 'quality': '', 'id': '5386-MLA4352067878_052013'}, {'size': '500x375', 'secure_url': 'https://a248.e.akamai.net/mla-s1-p.mlstatic.com/5361-MLA4352068035_052013-O.jpg', 'max_size': '1200x900', 'url': 'http://mla-s1-p.mlstatic.com/5361-MLA4352068035_052013-O.jpg', 'quality': '', 'id': '5361-MLA4352068035_052013'}], 'id': 'MLA578052519', 'official_store_id': None, 'differential_pricing': None, 'accepts_mercadopago': True, 'original_price': None, 'currency_id': 'ARS', 'thumbnail': 'http://mla-s1-p.mlstatic.com/5386-MLA4352067878_052013-I.jpg', 'title': 'Auriculares Samsung Originales Manos Libres Cable Usb Oferta', 'automatic_relist': False, 'date_created': '2015-09-05T20:42:53.000Z', 'secure_thumbnail': 'https://a248.e.akamai.net/mla-s1-p.mlstatic.com/5386-MLA4352067878_052013-I.jpg', 'stop_time': '2015-11-04T20:42:53.000Z', 'status': 'active', 'video_id': None, 'catalog_product_id': None, 'subtitle': None, 'initial_quantity': 1, 'start_time': '2015-09-05T20:42:53.000Z', 'permalink': 'http://articulo.mercadolibre.com.ar/MLA-578052519-auriculares-samsung-originales-manos-libres-cable-usb-oferta-_JM', 'geolocation': {'latitude': -34.6280698, 'longitude': -58.3986709}, 'sold_quantity': 0, 'available_quantity': 1}\n"
     ]
    }
   ],
   "source": [
    "print(f\"Training Size: {len(X_train)}\\n\")\n",
    "print(f\"y_train[0]: {y_train[0]}\\n\")\n",
    "print(f\"X_train[0]: {X_train[0]}\")"
   ]
  },
  {
   "cell_type": "markdown",
   "id": "bf385b18-3913-4739-9783-6d3d7e4812a9",
   "metadata": {},
   "source": [
    "### 1.1 Creating DataFrame:"
   ]
  },
  {
   "cell_type": "code",
   "execution_count": 4,
   "id": "5b3c1c63-62d4-404d-9353-ed32163ce677",
   "metadata": {},
   "outputs": [
    {
     "data": {
      "text/html": [
       "<div>\n",
       "<style scoped>\n",
       "    .dataframe tbody tr th:only-of-type {\n",
       "        vertical-align: middle;\n",
       "    }\n",
       "\n",
       "    .dataframe tbody tr th {\n",
       "        vertical-align: top;\n",
       "    }\n",
       "\n",
       "    .dataframe thead th {\n",
       "        text-align: right;\n",
       "    }\n",
       "</style>\n",
       "<table border=\"1\" class=\"dataframe\">\n",
       "  <thead>\n",
       "    <tr style=\"text-align: right;\">\n",
       "      <th></th>\n",
       "      <th>seller_address</th>\n",
       "      <th>warranty</th>\n",
       "      <th>sub_status</th>\n",
       "      <th>condition</th>\n",
       "      <th>seller_contact</th>\n",
       "      <th>deal_ids</th>\n",
       "      <th>base_price</th>\n",
       "      <th>shipping</th>\n",
       "      <th>non_mercado_pago_payment_methods</th>\n",
       "      <th>seller_id</th>\n",
       "      <th>...</th>\n",
       "      <th>status</th>\n",
       "      <th>video_id</th>\n",
       "      <th>catalog_product_id</th>\n",
       "      <th>subtitle</th>\n",
       "      <th>initial_quantity</th>\n",
       "      <th>start_time</th>\n",
       "      <th>permalink</th>\n",
       "      <th>geolocation</th>\n",
       "      <th>sold_quantity</th>\n",
       "      <th>available_quantity</th>\n",
       "    </tr>\n",
       "  </thead>\n",
       "  <tbody>\n",
       "    <tr>\n",
       "      <th>0</th>\n",
       "      <td>{'comment': '', 'longitude': -58.3986709, 'id'...</td>\n",
       "      <td>None</td>\n",
       "      <td>[]</td>\n",
       "      <td>new</td>\n",
       "      <td>None</td>\n",
       "      <td>[]</td>\n",
       "      <td>80.0</td>\n",
       "      <td>{'local_pick_up': True, 'methods': [], 'tags':...</td>\n",
       "      <td>[{'description': 'Transferencia bancaria', 'id...</td>\n",
       "      <td>74952096</td>\n",
       "      <td>...</td>\n",
       "      <td>active</td>\n",
       "      <td>None</td>\n",
       "      <td>NaN</td>\n",
       "      <td>None</td>\n",
       "      <td>1</td>\n",
       "      <td>2015-09-05T20:42:53.000Z</td>\n",
       "      <td>http://articulo.mercadolibre.com.ar/MLA-578052...</td>\n",
       "      <td>{'latitude': -34.6280698, 'longitude': -58.398...</td>\n",
       "      <td>0</td>\n",
       "      <td>1</td>\n",
       "    </tr>\n",
       "    <tr>\n",
       "      <th>1</th>\n",
       "      <td>{'comment': '', 'longitude': -58.5059173, 'id'...</td>\n",
       "      <td>NUESTRA REPUTACION</td>\n",
       "      <td>[]</td>\n",
       "      <td>used</td>\n",
       "      <td>None</td>\n",
       "      <td>[]</td>\n",
       "      <td>2650.0</td>\n",
       "      <td>{'local_pick_up': True, 'methods': [], 'tags':...</td>\n",
       "      <td>[{'description': 'Transferencia bancaria', 'id...</td>\n",
       "      <td>42093335</td>\n",
       "      <td>...</td>\n",
       "      <td>active</td>\n",
       "      <td>None</td>\n",
       "      <td>NaN</td>\n",
       "      <td>None</td>\n",
       "      <td>1</td>\n",
       "      <td>2015-09-26T18:08:30.000Z</td>\n",
       "      <td>http://articulo.mercadolibre.com.ar/MLA-581565...</td>\n",
       "      <td>{'latitude': -34.5935524, 'longitude': -58.505...</td>\n",
       "      <td>0</td>\n",
       "      <td>1</td>\n",
       "    </tr>\n",
       "    <tr>\n",
       "      <th>2</th>\n",
       "      <td>{'comment': '', 'longitude': -58.4143948, 'id'...</td>\n",
       "      <td>None</td>\n",
       "      <td>[]</td>\n",
       "      <td>used</td>\n",
       "      <td>None</td>\n",
       "      <td>[]</td>\n",
       "      <td>60.0</td>\n",
       "      <td>{'local_pick_up': True, 'methods': [], 'tags':...</td>\n",
       "      <td>[{'description': 'Transferencia bancaria', 'id...</td>\n",
       "      <td>133384258</td>\n",
       "      <td>...</td>\n",
       "      <td>active</td>\n",
       "      <td>None</td>\n",
       "      <td>NaN</td>\n",
       "      <td>None</td>\n",
       "      <td>1</td>\n",
       "      <td>2015-09-09T23:57:07.000Z</td>\n",
       "      <td>http://articulo.mercadolibre.com.ar/MLA-578780...</td>\n",
       "      <td>{'latitude': -34.6233907, 'longitude': -58.414...</td>\n",
       "      <td>0</td>\n",
       "      <td>1</td>\n",
       "    </tr>\n",
       "    <tr>\n",
       "      <th>3</th>\n",
       "      <td>{'comment': '', 'longitude': -58.4929208, 'id'...</td>\n",
       "      <td>None</td>\n",
       "      <td>[]</td>\n",
       "      <td>new</td>\n",
       "      <td>None</td>\n",
       "      <td>[]</td>\n",
       "      <td>580.0</td>\n",
       "      <td>{'local_pick_up': True, 'methods': [], 'tags':...</td>\n",
       "      <td>[{'description': 'Transferencia bancaria', 'id...</td>\n",
       "      <td>143001605</td>\n",
       "      <td>...</td>\n",
       "      <td>active</td>\n",
       "      <td>None</td>\n",
       "      <td>NaN</td>\n",
       "      <td>None</td>\n",
       "      <td>1</td>\n",
       "      <td>2015-09-28T18:47:56.000Z</td>\n",
       "      <td>http://articulo.mercadolibre.com.ar/MLA-581877...</td>\n",
       "      <td>{'latitude': -34.6281894, 'longitude': -58.492...</td>\n",
       "      <td>0</td>\n",
       "      <td>1</td>\n",
       "    </tr>\n",
       "    <tr>\n",
       "      <th>4</th>\n",
       "      <td>{'comment': '', 'longitude': -58.5495042, 'id'...</td>\n",
       "      <td>MI REPUTACION.</td>\n",
       "      <td>[]</td>\n",
       "      <td>used</td>\n",
       "      <td>None</td>\n",
       "      <td>[]</td>\n",
       "      <td>30.0</td>\n",
       "      <td>{'local_pick_up': True, 'methods': [], 'tags':...</td>\n",
       "      <td>[{'description': 'Transferencia bancaria', 'id...</td>\n",
       "      <td>96873449</td>\n",
       "      <td>...</td>\n",
       "      <td>active</td>\n",
       "      <td>None</td>\n",
       "      <td>NaN</td>\n",
       "      <td>None</td>\n",
       "      <td>1</td>\n",
       "      <td>2015-08-24T22:07:20.000Z</td>\n",
       "      <td>http://articulo.mercadolibre.com.ar/MLA-576112...</td>\n",
       "      <td>{'latitude': -34.6346547, 'longitude': -58.549...</td>\n",
       "      <td>0</td>\n",
       "      <td>1</td>\n",
       "    </tr>\n",
       "  </tbody>\n",
       "</table>\n",
       "<p>5 rows × 48 columns</p>\n",
       "</div>"
      ],
      "text/plain": [
       "                                      seller_address            warranty  \\\n",
       "0  {'comment': '', 'longitude': -58.3986709, 'id'...                None   \n",
       "1  {'comment': '', 'longitude': -58.5059173, 'id'...  NUESTRA REPUTACION   \n",
       "2  {'comment': '', 'longitude': -58.4143948, 'id'...                None   \n",
       "3  {'comment': '', 'longitude': -58.4929208, 'id'...                None   \n",
       "4  {'comment': '', 'longitude': -58.5495042, 'id'...      MI REPUTACION.   \n",
       "\n",
       "  sub_status condition seller_contact deal_ids  base_price  \\\n",
       "0         []       new           None       []        80.0   \n",
       "1         []      used           None       []      2650.0   \n",
       "2         []      used           None       []        60.0   \n",
       "3         []       new           None       []       580.0   \n",
       "4         []      used           None       []        30.0   \n",
       "\n",
       "                                            shipping  \\\n",
       "0  {'local_pick_up': True, 'methods': [], 'tags':...   \n",
       "1  {'local_pick_up': True, 'methods': [], 'tags':...   \n",
       "2  {'local_pick_up': True, 'methods': [], 'tags':...   \n",
       "3  {'local_pick_up': True, 'methods': [], 'tags':...   \n",
       "4  {'local_pick_up': True, 'methods': [], 'tags':...   \n",
       "\n",
       "                    non_mercado_pago_payment_methods  seller_id  ...  status  \\\n",
       "0  [{'description': 'Transferencia bancaria', 'id...   74952096  ...  active   \n",
       "1  [{'description': 'Transferencia bancaria', 'id...   42093335  ...  active   \n",
       "2  [{'description': 'Transferencia bancaria', 'id...  133384258  ...  active   \n",
       "3  [{'description': 'Transferencia bancaria', 'id...  143001605  ...  active   \n",
       "4  [{'description': 'Transferencia bancaria', 'id...   96873449  ...  active   \n",
       "\n",
       "  video_id catalog_product_id subtitle  initial_quantity  \\\n",
       "0     None                NaN     None                 1   \n",
       "1     None                NaN     None                 1   \n",
       "2     None                NaN     None                 1   \n",
       "3     None                NaN     None                 1   \n",
       "4     None                NaN     None                 1   \n",
       "\n",
       "                 start_time  \\\n",
       "0  2015-09-05T20:42:53.000Z   \n",
       "1  2015-09-26T18:08:30.000Z   \n",
       "2  2015-09-09T23:57:07.000Z   \n",
       "3  2015-09-28T18:47:56.000Z   \n",
       "4  2015-08-24T22:07:20.000Z   \n",
       "\n",
       "                                           permalink  \\\n",
       "0  http://articulo.mercadolibre.com.ar/MLA-578052...   \n",
       "1  http://articulo.mercadolibre.com.ar/MLA-581565...   \n",
       "2  http://articulo.mercadolibre.com.ar/MLA-578780...   \n",
       "3  http://articulo.mercadolibre.com.ar/MLA-581877...   \n",
       "4  http://articulo.mercadolibre.com.ar/MLA-576112...   \n",
       "\n",
       "                                         geolocation sold_quantity  \\\n",
       "0  {'latitude': -34.6280698, 'longitude': -58.398...             0   \n",
       "1  {'latitude': -34.5935524, 'longitude': -58.505...             0   \n",
       "2  {'latitude': -34.6233907, 'longitude': -58.414...             0   \n",
       "3  {'latitude': -34.6281894, 'longitude': -58.492...             0   \n",
       "4  {'latitude': -34.6346547, 'longitude': -58.549...             0   \n",
       "\n",
       "  available_quantity  \n",
       "0                  1  \n",
       "1                  1  \n",
       "2                  1  \n",
       "3                  1  \n",
       "4                  1  \n",
       "\n",
       "[5 rows x 48 columns]"
      ]
     },
     "execution_count": 4,
     "metadata": {},
     "output_type": "execute_result"
    }
   ],
   "source": [
    "df = pd.DataFrame.from_records(X_train)\n",
    "df.head()"
   ]
  },
  {
   "cell_type": "code",
   "execution_count": 5,
   "id": "5e917163-5fc3-442c-a291-c6e5bbcefa1d",
   "metadata": {},
   "outputs": [
    {
     "data": {
      "text/plain": [
       "Index(['seller_address', 'warranty', 'sub_status', 'condition',\n",
       "       'seller_contact', 'deal_ids', 'base_price', 'shipping',\n",
       "       'non_mercado_pago_payment_methods', 'seller_id', 'variations',\n",
       "       'location', 'site_id', 'listing_type_id', 'price', 'attributes',\n",
       "       'buying_mode', 'tags', 'listing_source', 'parent_item_id',\n",
       "       'coverage_areas', 'category_id', 'descriptions', 'last_updated',\n",
       "       'international_delivery_mode', 'pictures', 'id', 'official_store_id',\n",
       "       'differential_pricing', 'accepts_mercadopago', 'original_price',\n",
       "       'currency_id', 'thumbnail', 'title', 'automatic_relist', 'date_created',\n",
       "       'secure_thumbnail', 'stop_time', 'status', 'video_id',\n",
       "       'catalog_product_id', 'subtitle', 'initial_quantity', 'start_time',\n",
       "       'permalink', 'geolocation', 'sold_quantity', 'available_quantity'],\n",
       "      dtype='object')"
      ]
     },
     "execution_count": 5,
     "metadata": {},
     "output_type": "execute_result"
    }
   ],
   "source": [
    "df.columns"
   ]
  },
  {
   "cell_type": "markdown",
   "id": "6d4e827f-6a2b-48cd-b83d-35124bdedc0f",
   "metadata": {},
   "source": [
    "<br/>"
   ]
  },
  {
   "cell_type": "markdown",
   "id": "aae12460-a7c1-45d4-8dd0-b089b9a08ba2",
   "metadata": {},
   "source": [
    "<h2> 2. Exploration<h2/>"
   ]
  },
  {
   "cell_type": "markdown",
   "id": "0a05841e-b8ba-4d2c-9625-8b4156230733",
   "metadata": {},
   "source": [
    "### 2.1 Reviewing Target"
   ]
  },
  {
   "cell_type": "code",
   "execution_count": 6,
   "id": "fd61bddc-467e-41c8-b55e-728e7916b8e0",
   "metadata": {},
   "outputs": [
    {
     "data": {
      "text/plain": [
       "new     48352\n",
       "used    41648\n",
       "Name: condition, dtype: int64"
      ]
     },
     "execution_count": 6,
     "metadata": {},
     "output_type": "execute_result"
    }
   ],
   "source": [
    "df[\"condition\"].value_counts(dropna=False)"
   ]
  },
  {
   "cell_type": "markdown",
   "id": "6f826e3a-bdd3-430b-bf7a-486983c55da8",
   "metadata": {},
   "source": [
    "### 2.2 Removing useless columns considering target"
   ]
  },
  {
   "cell_type": "code",
   "execution_count": 7,
   "id": "a97cd66a-736d-4d0d-aefd-db29edb0400b",
   "metadata": {},
   "outputs": [
    {
     "data": {
      "text/html": [
       "<div>\n",
       "<style scoped>\n",
       "    .dataframe tbody tr th:only-of-type {\n",
       "        vertical-align: middle;\n",
       "    }\n",
       "\n",
       "    .dataframe tbody tr th {\n",
       "        vertical-align: top;\n",
       "    }\n",
       "\n",
       "    .dataframe thead th {\n",
       "        text-align: right;\n",
       "    }\n",
       "</style>\n",
       "<table border=\"1\" class=\"dataframe\">\n",
       "  <thead>\n",
       "    <tr style=\"text-align: right;\">\n",
       "      <th></th>\n",
       "      <th>warranty</th>\n",
       "      <th>sub_status</th>\n",
       "      <th>condition</th>\n",
       "      <th>deal_ids</th>\n",
       "      <th>base_price</th>\n",
       "      <th>shipping</th>\n",
       "      <th>non_mercado_pago_payment_methods</th>\n",
       "      <th>variations</th>\n",
       "      <th>location</th>\n",
       "      <th>site_id</th>\n",
       "      <th>...</th>\n",
       "      <th>currency_id</th>\n",
       "      <th>title</th>\n",
       "      <th>automatic_relist</th>\n",
       "      <th>status</th>\n",
       "      <th>video_id</th>\n",
       "      <th>catalog_product_id</th>\n",
       "      <th>subtitle</th>\n",
       "      <th>initial_quantity</th>\n",
       "      <th>sold_quantity</th>\n",
       "      <th>available_quantity</th>\n",
       "    </tr>\n",
       "  </thead>\n",
       "  <tbody>\n",
       "    <tr>\n",
       "      <th>0</th>\n",
       "      <td>None</td>\n",
       "      <td>[]</td>\n",
       "      <td>new</td>\n",
       "      <td>[]</td>\n",
       "      <td>80.0</td>\n",
       "      <td>{'local_pick_up': True, 'methods': [], 'tags':...</td>\n",
       "      <td>[{'description': 'Transferencia bancaria', 'id...</td>\n",
       "      <td>[]</td>\n",
       "      <td>{}</td>\n",
       "      <td>MLA</td>\n",
       "      <td>...</td>\n",
       "      <td>ARS</td>\n",
       "      <td>Auriculares Samsung Originales Manos Libres Ca...</td>\n",
       "      <td>False</td>\n",
       "      <td>active</td>\n",
       "      <td>None</td>\n",
       "      <td>NaN</td>\n",
       "      <td>None</td>\n",
       "      <td>1</td>\n",
       "      <td>0</td>\n",
       "      <td>1</td>\n",
       "    </tr>\n",
       "    <tr>\n",
       "      <th>1</th>\n",
       "      <td>NUESTRA REPUTACION</td>\n",
       "      <td>[]</td>\n",
       "      <td>used</td>\n",
       "      <td>[]</td>\n",
       "      <td>2650.0</td>\n",
       "      <td>{'local_pick_up': True, 'methods': [], 'tags':...</td>\n",
       "      <td>[{'description': 'Transferencia bancaria', 'id...</td>\n",
       "      <td>[]</td>\n",
       "      <td>{}</td>\n",
       "      <td>MLA</td>\n",
       "      <td>...</td>\n",
       "      <td>ARS</td>\n",
       "      <td>Cuchillo Daga Acero Carbón Casco Yelmo Solinge...</td>\n",
       "      <td>False</td>\n",
       "      <td>active</td>\n",
       "      <td>None</td>\n",
       "      <td>NaN</td>\n",
       "      <td>None</td>\n",
       "      <td>1</td>\n",
       "      <td>0</td>\n",
       "      <td>1</td>\n",
       "    </tr>\n",
       "    <tr>\n",
       "      <th>2</th>\n",
       "      <td>None</td>\n",
       "      <td>[]</td>\n",
       "      <td>used</td>\n",
       "      <td>[]</td>\n",
       "      <td>60.0</td>\n",
       "      <td>{'local_pick_up': True, 'methods': [], 'tags':...</td>\n",
       "      <td>[{'description': 'Transferencia bancaria', 'id...</td>\n",
       "      <td>[]</td>\n",
       "      <td>{}</td>\n",
       "      <td>MLA</td>\n",
       "      <td>...</td>\n",
       "      <td>ARS</td>\n",
       "      <td>Antigua Revista Billiken, N° 1826, Año 1954</td>\n",
       "      <td>False</td>\n",
       "      <td>active</td>\n",
       "      <td>None</td>\n",
       "      <td>NaN</td>\n",
       "      <td>None</td>\n",
       "      <td>1</td>\n",
       "      <td>0</td>\n",
       "      <td>1</td>\n",
       "    </tr>\n",
       "    <tr>\n",
       "      <th>3</th>\n",
       "      <td>None</td>\n",
       "      <td>[]</td>\n",
       "      <td>new</td>\n",
       "      <td>[]</td>\n",
       "      <td>580.0</td>\n",
       "      <td>{'local_pick_up': True, 'methods': [], 'tags':...</td>\n",
       "      <td>[{'description': 'Transferencia bancaria', 'id...</td>\n",
       "      <td>[]</td>\n",
       "      <td>{}</td>\n",
       "      <td>MLA</td>\n",
       "      <td>...</td>\n",
       "      <td>ARS</td>\n",
       "      <td>Alarma Guardtex Gx412 Seguridad Para El Automo...</td>\n",
       "      <td>False</td>\n",
       "      <td>active</td>\n",
       "      <td>None</td>\n",
       "      <td>NaN</td>\n",
       "      <td>None</td>\n",
       "      <td>1</td>\n",
       "      <td>0</td>\n",
       "      <td>1</td>\n",
       "    </tr>\n",
       "    <tr>\n",
       "      <th>4</th>\n",
       "      <td>MI REPUTACION.</td>\n",
       "      <td>[]</td>\n",
       "      <td>used</td>\n",
       "      <td>[]</td>\n",
       "      <td>30.0</td>\n",
       "      <td>{'local_pick_up': True, 'methods': [], 'tags':...</td>\n",
       "      <td>[{'description': 'Transferencia bancaria', 'id...</td>\n",
       "      <td>[]</td>\n",
       "      <td>{}</td>\n",
       "      <td>MLA</td>\n",
       "      <td>...</td>\n",
       "      <td>ARS</td>\n",
       "      <td>Serenata - Jennifer Blake</td>\n",
       "      <td>False</td>\n",
       "      <td>active</td>\n",
       "      <td>None</td>\n",
       "      <td>NaN</td>\n",
       "      <td>None</td>\n",
       "      <td>1</td>\n",
       "      <td>0</td>\n",
       "      <td>1</td>\n",
       "    </tr>\n",
       "  </tbody>\n",
       "</table>\n",
       "<p>5 rows × 37 columns</p>\n",
       "</div>"
      ],
      "text/plain": [
       "             warranty sub_status condition deal_ids  base_price  \\\n",
       "0                None         []       new       []        80.0   \n",
       "1  NUESTRA REPUTACION         []      used       []      2650.0   \n",
       "2                None         []      used       []        60.0   \n",
       "3                None         []       new       []       580.0   \n",
       "4      MI REPUTACION.         []      used       []        30.0   \n",
       "\n",
       "                                            shipping  \\\n",
       "0  {'local_pick_up': True, 'methods': [], 'tags':...   \n",
       "1  {'local_pick_up': True, 'methods': [], 'tags':...   \n",
       "2  {'local_pick_up': True, 'methods': [], 'tags':...   \n",
       "3  {'local_pick_up': True, 'methods': [], 'tags':...   \n",
       "4  {'local_pick_up': True, 'methods': [], 'tags':...   \n",
       "\n",
       "                    non_mercado_pago_payment_methods variations location  \\\n",
       "0  [{'description': 'Transferencia bancaria', 'id...         []       {}   \n",
       "1  [{'description': 'Transferencia bancaria', 'id...         []       {}   \n",
       "2  [{'description': 'Transferencia bancaria', 'id...         []       {}   \n",
       "3  [{'description': 'Transferencia bancaria', 'id...         []       {}   \n",
       "4  [{'description': 'Transferencia bancaria', 'id...         []       {}   \n",
       "\n",
       "  site_id  ... currency_id                                              title  \\\n",
       "0     MLA  ...         ARS  Auriculares Samsung Originales Manos Libres Ca...   \n",
       "1     MLA  ...         ARS  Cuchillo Daga Acero Carbón Casco Yelmo Solinge...   \n",
       "2     MLA  ...         ARS        Antigua Revista Billiken, N° 1826, Año 1954   \n",
       "3     MLA  ...         ARS  Alarma Guardtex Gx412 Seguridad Para El Automo...   \n",
       "4     MLA  ...         ARS                          Serenata - Jennifer Blake   \n",
       "\n",
       "  automatic_relist  status video_id catalog_product_id subtitle  \\\n",
       "0            False  active     None                NaN     None   \n",
       "1            False  active     None                NaN     None   \n",
       "2            False  active     None                NaN     None   \n",
       "3            False  active     None                NaN     None   \n",
       "4            False  active     None                NaN     None   \n",
       "\n",
       "  initial_quantity sold_quantity available_quantity  \n",
       "0                1             0                  1  \n",
       "1                1             0                  1  \n",
       "2                1             0                  1  \n",
       "3                1             0                  1  \n",
       "4                1             0                  1  \n",
       "\n",
       "[5 rows x 37 columns]"
      ]
     },
     "execution_count": 7,
     "metadata": {},
     "output_type": "execute_result"
    }
   ],
   "source": [
    "df.drop([\"start_time\", \"stop_time\", \"date_created\", \"permalink\", \"thumbnail\", \"secure_thumbnail\", \"geolocation\", \"seller_contact\", \"seller_address\", \"last_updated\", \"seller_id\"], axis=1, inplace=True)\n",
    "df.head()"
   ]
  },
  {
   "cell_type": "code",
   "execution_count": 8,
   "id": "7b6e58b0-7dc9-4252-b3d9-cdbe4e09c0cf",
   "metadata": {},
   "outputs": [
    {
     "data": {
      "text/plain": [
       "Index(['warranty', 'sub_status', 'condition', 'deal_ids', 'base_price',\n",
       "       'shipping', 'non_mercado_pago_payment_methods', 'variations',\n",
       "       'location', 'site_id', 'listing_type_id', 'price', 'attributes',\n",
       "       'buying_mode', 'tags', 'listing_source', 'parent_item_id',\n",
       "       'coverage_areas', 'category_id', 'descriptions',\n",
       "       'international_delivery_mode', 'pictures', 'id', 'official_store_id',\n",
       "       'differential_pricing', 'accepts_mercadopago', 'original_price',\n",
       "       'currency_id', 'title', 'automatic_relist', 'status', 'video_id',\n",
       "       'catalog_product_id', 'subtitle', 'initial_quantity', 'sold_quantity',\n",
       "       'available_quantity'],\n",
       "      dtype='object')"
      ]
     },
     "execution_count": 8,
     "metadata": {},
     "output_type": "execute_result"
    }
   ],
   "source": [
    "df.columns"
   ]
  },
  {
   "cell_type": "markdown",
   "id": "87d56ebc-64c2-49c1-83c3-e77e6468579b",
   "metadata": {},
   "source": [
    "### 2.3 Removing columns where almost all values are None"
   ]
  },
  {
   "cell_type": "markdown",
   "id": "07d0a244-1104-4882-b1e9-fc9e43556b91",
   "metadata": {},
   "source": [
    "#### 2.3.1 Columns sub_status"
   ]
  },
  {
   "cell_type": "code",
   "execution_count": 9,
   "id": "a77d34a9-0562-4489-ac9c-183edaf80700",
   "metadata": {
    "tags": []
   },
   "outputs": [
    {
     "ename": "TypeError",
     "evalue": "unhashable type: 'list'",
     "output_type": "error",
     "traceback": [
      "\u001b[0;31m---------------------------------------------------------------------------\u001b[0m",
      "\u001b[0;31mTypeError\u001b[0m                                 Traceback (most recent call last)",
      "\u001b[0;32mpandas/_libs/hashtable_class_helper.pxi\u001b[0m in \u001b[0;36mpandas._libs.hashtable.PyObjectHashTable.map_locations\u001b[0;34m()\u001b[0m\n",
      "\u001b[0;31mTypeError\u001b[0m: unhashable type: 'list'"
     ]
    },
    {
     "name": "stderr",
     "output_type": "stream",
     "text": [
      "Exception ignored in: 'pandas._libs.index.IndexEngine._call_map_locations'\n",
      "Traceback (most recent call last):\n",
      "  File \"pandas/_libs/hashtable_class_helper.pxi\", line 1709, in pandas._libs.hashtable.PyObjectHashTable.map_locations\n",
      "TypeError: unhashable type: 'list'\n"
     ]
    },
    {
     "data": {
      "text/plain": [
       "[]             89109\n",
       "[suspended]      871\n",
       "[expired]         13\n",
       "[deleted]          7\n",
       "Name: sub_status, dtype: int64"
      ]
     },
     "execution_count": 9,
     "metadata": {},
     "output_type": "execute_result"
    }
   ],
   "source": [
    "df[\"sub_status\"].value_counts(dropna=False)"
   ]
  },
  {
   "cell_type": "markdown",
   "id": "d684a9d3-bbce-42cb-beb3-1702f1422dae",
   "metadata": {},
   "source": [
    "#### 2.3.2 Column deal_ids"
   ]
  },
  {
   "cell_type": "code",
   "execution_count": 10,
   "id": "d381897b-1801-44a8-b2bd-8b9962bc800a",
   "metadata": {
    "tags": []
   },
   "outputs": [
    {
     "ename": "TypeError",
     "evalue": "unhashable type: 'list'",
     "output_type": "error",
     "traceback": [
      "\u001b[0;31m---------------------------------------------------------------------------\u001b[0m",
      "\u001b[0;31mTypeError\u001b[0m                                 Traceback (most recent call last)",
      "\u001b[0;32mpandas/_libs/hashtable_class_helper.pxi\u001b[0m in \u001b[0;36mpandas._libs.hashtable.PyObjectHashTable.map_locations\u001b[0;34m()\u001b[0m\n",
      "\u001b[0;31mTypeError\u001b[0m: unhashable type: 'list'"
     ]
    },
    {
     "name": "stderr",
     "output_type": "stream",
     "text": [
      "Exception ignored in: 'pandas._libs.index.IndexEngine._call_map_locations'\n",
      "Traceback (most recent call last):\n",
      "  File \"pandas/_libs/hashtable_class_helper.pxi\", line 1709, in pandas._libs.hashtable.PyObjectHashTable.map_locations\n",
      "TypeError: unhashable type: 'list'\n"
     ]
    },
    {
     "data": {
      "text/plain": [
       "[]                             89783\n",
       "[MLA58]                           52\n",
       "[MLA69]                           36\n",
       "[MLA4]                            27\n",
       "[MLA60]                           26\n",
       "[MLA70]                           22\n",
       "[MLA25]                            6\n",
       "[MLA3]                             6\n",
       "[MLA70, MLA71]                     6\n",
       "[MLA99]                            5\n",
       "[MLA60, MLA58]                     3\n",
       "[MLA4, MLA58]                      2\n",
       "[MLA4, MLA60]                      2\n",
       "[MLA60, MLA69]                     2\n",
       "[MLA3, MLA60, MLA58]               2\n",
       "[MLA58, MLA70]                     2\n",
       "[MLA4, MLA69]                      2\n",
       "[MLA17]                            2\n",
       "[MLA60, MLA70]                     2\n",
       "[MLA60, MLA4]                      1\n",
       "[MLA3, MLA4]                       1\n",
       "[MLA70, MLA58]                     1\n",
       "[MLA4, MLA60, MLA62, MLA69]        1\n",
       "[MLA3, MLA60, MLA70]               1\n",
       "[MLA60, MLA69, MLA58]              1\n",
       "[MLA4, MLA70]                      1\n",
       "[MLA4, MLA60, MLA69]               1\n",
       "[MLA3, MLA70]                      1\n",
       "[MLA58, MLA69]                     1\n",
       "[MLA68]                            1\n",
       "[MLA3, MLA58]                      1\n",
       "Name: deal_ids, dtype: int64"
      ]
     },
     "execution_count": 10,
     "metadata": {},
     "output_type": "execute_result"
    }
   ],
   "source": [
    "df[\"deal_ids\"].value_counts(dropna=False)"
   ]
  },
  {
   "cell_type": "markdown",
   "id": "276fa8da-be0c-4cd5-a9c1-341a12276702",
   "metadata": {},
   "source": [
    "#### 2.3.3 Column site_id"
   ]
  },
  {
   "cell_type": "code",
   "execution_count": 11,
   "id": "9b5e1acf-81f5-44c6-b5d9-e5c8547891f5",
   "metadata": {
    "tags": []
   },
   "outputs": [
    {
     "data": {
      "text/plain": [
       "MLA    90000\n",
       "Name: site_id, dtype: int64"
      ]
     },
     "execution_count": 11,
     "metadata": {},
     "output_type": "execute_result"
    }
   ],
   "source": [
    "df[\"site_id\"].value_counts(dropna=False)"
   ]
  },
  {
   "cell_type": "markdown",
   "id": "15ad609d-f771-43b1-ae23-f70dfcbc55e1",
   "metadata": {},
   "source": [
    "#### 2.3.4 Column listing_source"
   ]
  },
  {
   "cell_type": "code",
   "execution_count": 12,
   "id": "ea4b8178-e652-40d5-9db9-ffb2e7538307",
   "metadata": {},
   "outputs": [
    {
     "data": {
      "text/plain": [
       "    90000\n",
       "Name: listing_source, dtype: int64"
      ]
     },
     "execution_count": 12,
     "metadata": {},
     "output_type": "execute_result"
    }
   ],
   "source": [
    "df[\"listing_source\"].value_counts(dropna=False)"
   ]
  },
  {
   "cell_type": "markdown",
   "id": "36136ca4-41fc-4cc2-aa62-f166a8e94209",
   "metadata": {},
   "source": [
    "#### 2.3.5 Column coverage_areas"
   ]
  },
  {
   "cell_type": "code",
   "execution_count": 13,
   "id": "152e1e4e-bbb4-4349-b185-d3e76e6a5127",
   "metadata": {
    "tags": []
   },
   "outputs": [
    {
     "ename": "TypeError",
     "evalue": "unhashable type: 'list'",
     "output_type": "error",
     "traceback": [
      "\u001b[0;31m---------------------------------------------------------------------------\u001b[0m",
      "\u001b[0;31mTypeError\u001b[0m                                 Traceback (most recent call last)",
      "\u001b[0;32mpandas/_libs/hashtable_class_helper.pxi\u001b[0m in \u001b[0;36mpandas._libs.hashtable.PyObjectHashTable.map_locations\u001b[0;34m()\u001b[0m\n",
      "\u001b[0;31mTypeError\u001b[0m: unhashable type: 'list'"
     ]
    },
    {
     "name": "stderr",
     "output_type": "stream",
     "text": [
      "Exception ignored in: 'pandas._libs.index.IndexEngine._call_map_locations'\n",
      "Traceback (most recent call last):\n",
      "  File \"pandas/_libs/hashtable_class_helper.pxi\", line 1709, in pandas._libs.hashtable.PyObjectHashTable.map_locations\n",
      "TypeError: unhashable type: 'list'\n"
     ]
    },
    {
     "data": {
      "text/plain": [
       "[]    90000\n",
       "Name: coverage_areas, dtype: int64"
      ]
     },
     "execution_count": 13,
     "metadata": {},
     "output_type": "execute_result"
    }
   ],
   "source": [
    "df[\"coverage_areas\"].value_counts(dropna=False)"
   ]
  },
  {
   "cell_type": "markdown",
   "id": "e87dbd63-670f-4def-a6d0-2a879bd6b357",
   "metadata": {},
   "source": [
    "#### 2.3.6 Column international_delivery_mode"
   ]
  },
  {
   "cell_type": "code",
   "execution_count": 14,
   "id": "8b94cb19-e6dc-4bd8-9f35-81f24e54aea7",
   "metadata": {},
   "outputs": [
    {
     "data": {
      "text/plain": [
       "none    90000\n",
       "Name: international_delivery_mode, dtype: int64"
      ]
     },
     "execution_count": 14,
     "metadata": {},
     "output_type": "execute_result"
    }
   ],
   "source": [
    "df[\"international_delivery_mode\"].value_counts(dropna=False)"
   ]
  },
  {
   "cell_type": "markdown",
   "id": "83218893-3035-4906-b3a6-59dc9c8b2d36",
   "metadata": {},
   "source": [
    "#### 2.3.7 Column official_store_id"
   ]
  },
  {
   "cell_type": "code",
   "execution_count": 15,
   "id": "e67ed89f-1bfb-41f1-b8a3-d78cf17e891c",
   "metadata": {
    "tags": []
   },
   "outputs": [
    {
     "data": {
      "text/plain": [
       "NaN      89255\n",
       "197.0       37\n",
       "84.0        27\n",
       "371.0       23\n",
       "158.0       21\n",
       "         ...  \n",
       "110.0        1\n",
       "113.0        1\n",
       "285.0        1\n",
       "367.0        1\n",
       "106.0        1\n",
       "Name: official_store_id, Length: 198, dtype: int64"
      ]
     },
     "execution_count": 15,
     "metadata": {},
     "output_type": "execute_result"
    }
   ],
   "source": [
    "df[\"official_store_id\"].value_counts(dropna=False)"
   ]
  },
  {
   "cell_type": "markdown",
   "id": "78fabd6c-a7e0-41e7-91cd-41ae1c9f05aa",
   "metadata": {},
   "source": [
    "#### 2.3.8 Column differential_pricing"
   ]
  },
  {
   "cell_type": "code",
   "execution_count": 16,
   "id": "f47b0222-eb4c-45fa-99a9-3aa8432f4ace",
   "metadata": {
    "tags": []
   },
   "outputs": [
    {
     "data": {
      "text/plain": [
       "NaN    90000\n",
       "Name: differential_pricing, dtype: int64"
      ]
     },
     "execution_count": 16,
     "metadata": {},
     "output_type": "execute_result"
    }
   ],
   "source": [
    "df[\"differential_pricing\"].value_counts(dropna=False)"
   ]
  },
  {
   "cell_type": "markdown",
   "id": "11af7f54-8e58-4573-89bf-80422b563785",
   "metadata": {},
   "source": [
    "#### 2.3.9 Column original_price"
   ]
  },
  {
   "cell_type": "code",
   "execution_count": 17,
   "id": "d74f101d-2fb9-419b-9a5f-b6f16a89a8e2",
   "metadata": {
    "tags": []
   },
   "outputs": [
    {
     "data": {
      "text/plain": [
       "NaN       89870\n",
       "750.0         3\n",
       "1500.0        3\n",
       "850.0         3\n",
       "1900.0        3\n",
       "          ...  \n",
       "159.9         1\n",
       "1199.0        1\n",
       "150.0         1\n",
       "4810.0        1\n",
       "1148.0        1\n",
       "Name: original_price, Length: 106, dtype: int64"
      ]
     },
     "execution_count": 17,
     "metadata": {},
     "output_type": "execute_result"
    }
   ],
   "source": [
    "df[\"original_price\"].value_counts(dropna=False)"
   ]
  },
  {
   "cell_type": "markdown",
   "id": "c4845ef9-8d9f-4963-8250-abbed3927992",
   "metadata": {},
   "source": [
    "#### 2.3.10 Column currency_id"
   ]
  },
  {
   "cell_type": "code",
   "execution_count": 18,
   "id": "0344277b-69d9-4b0d-860a-72281ffb3503",
   "metadata": {
    "tags": []
   },
   "outputs": [
    {
     "data": {
      "text/plain": [
       "ARS    89496\n",
       "USD      504\n",
       "Name: currency_id, dtype: int64"
      ]
     },
     "execution_count": 18,
     "metadata": {},
     "output_type": "execute_result"
    }
   ],
   "source": [
    "df[\"currency_id\"].value_counts(dropna=False)"
   ]
  },
  {
   "cell_type": "markdown",
   "id": "6b353898-d58f-4486-94bd-34f014357393",
   "metadata": {},
   "source": [
    "#### 2.3.11 Column status"
   ]
  },
  {
   "cell_type": "code",
   "execution_count": 19,
   "id": "865914ea-ff57-4bb0-a0bb-2f3c09cd7a06",
   "metadata": {
    "tags": []
   },
   "outputs": [
    {
     "data": {
      "text/plain": [
       "active            86116\n",
       "paused             3863\n",
       "closed               20\n",
       "not_yet_active        1\n",
       "Name: status, dtype: int64"
      ]
     },
     "execution_count": 19,
     "metadata": {},
     "output_type": "execute_result"
    }
   ],
   "source": [
    "df[\"status\"].value_counts(dropna=False)"
   ]
  },
  {
   "cell_type": "markdown",
   "id": "b4621cca-205c-4e45-afae-633b720c6c24",
   "metadata": {},
   "source": [
    "#### 2.3.12 Column video_id"
   ]
  },
  {
   "cell_type": "code",
   "execution_count": 20,
   "id": "8f6ae53d-b167-4aef-b33f-ac8dc0de7a83",
   "metadata": {
    "tags": []
   },
   "outputs": [
    {
     "data": {
      "text/plain": [
       "NaN            87324\n",
       "QQNfOicE_o8      278\n",
       "EVCQuwl7RIE       82\n",
       "mYNRC5Ia1sk       35\n",
       "U7okRYLuBNo       25\n",
       "               ...  \n",
       "gvLHXiKcsH4        1\n",
       "50FWi6OHsEA        1\n",
       "sUZzWprFp54        1\n",
       "q4YJkgyDSlo        1\n",
       "_Wovzii--Rc        1\n",
       "Name: video_id, Length: 1887, dtype: int64"
      ]
     },
     "execution_count": 20,
     "metadata": {},
     "output_type": "execute_result"
    }
   ],
   "source": [
    "df[\"video_id\"].value_counts(dropna=False)"
   ]
  },
  {
   "cell_type": "markdown",
   "id": "4f23e16a-a649-46d9-b7c6-4a4aae077e3b",
   "metadata": {},
   "source": [
    "#### 2.3.13 Column catalog_product_id"
   ]
  },
  {
   "cell_type": "code",
   "execution_count": 21,
   "id": "20c3f2e9-3fa2-4c16-9625-e16665061e23",
   "metadata": {
    "tags": []
   },
   "outputs": [
    {
     "data": {
      "text/plain": [
       "NaN          89993\n",
       "5126117.0        1\n",
       "5093232.0        1\n",
       "3053998.0        1\n",
       "3051112.0        1\n",
       "3050291.0        1\n",
       "94404.0          1\n",
       "800744.0         1\n",
       "Name: catalog_product_id, dtype: int64"
      ]
     },
     "execution_count": 21,
     "metadata": {},
     "output_type": "execute_result"
    }
   ],
   "source": [
    "df[\"catalog_product_id\"].value_counts(dropna=False)"
   ]
  },
  {
   "cell_type": "markdown",
   "id": "449f6f4f-5b0b-45af-b080-db78ab6ba691",
   "metadata": {},
   "source": [
    "#### 2.3.14 Column subtitle"
   ]
  },
  {
   "cell_type": "code",
   "execution_count": 22,
   "id": "73f1807e-7f35-47fa-9e23-7b6f4bb06496",
   "metadata": {
    "tags": []
   },
   "outputs": [
    {
     "data": {
      "text/plain": [
       "NaN    90000\n",
       "Name: subtitle, dtype: int64"
      ]
     },
     "execution_count": 22,
     "metadata": {},
     "output_type": "execute_result"
    }
   ],
   "source": [
    "df[\"subtitle\"].value_counts(dropna=False)"
   ]
  },
  {
   "cell_type": "markdown",
   "id": "ef1e160d-6a9b-4afd-8b1b-c198332d046f",
   "metadata": {},
   "source": [
    "<h3> Finally, droping all columns with almost none values:<h3/>"
   ]
  },
  {
   "cell_type": "code",
   "execution_count": 23,
   "id": "eb4211ea-d251-45c5-8ff7-30a42a9c7f0e",
   "metadata": {},
   "outputs": [
    {
     "data": {
      "text/html": [
       "<div>\n",
       "<style scoped>\n",
       "    .dataframe tbody tr th:only-of-type {\n",
       "        vertical-align: middle;\n",
       "    }\n",
       "\n",
       "    .dataframe tbody tr th {\n",
       "        vertical-align: top;\n",
       "    }\n",
       "\n",
       "    .dataframe thead th {\n",
       "        text-align: right;\n",
       "    }\n",
       "</style>\n",
       "<table border=\"1\" class=\"dataframe\">\n",
       "  <thead>\n",
       "    <tr style=\"text-align: right;\">\n",
       "      <th></th>\n",
       "      <th>warranty</th>\n",
       "      <th>condition</th>\n",
       "      <th>base_price</th>\n",
       "      <th>shipping</th>\n",
       "      <th>non_mercado_pago_payment_methods</th>\n",
       "      <th>variations</th>\n",
       "      <th>location</th>\n",
       "      <th>listing_type_id</th>\n",
       "      <th>price</th>\n",
       "      <th>attributes</th>\n",
       "      <th>...</th>\n",
       "      <th>category_id</th>\n",
       "      <th>descriptions</th>\n",
       "      <th>pictures</th>\n",
       "      <th>id</th>\n",
       "      <th>accepts_mercadopago</th>\n",
       "      <th>title</th>\n",
       "      <th>automatic_relist</th>\n",
       "      <th>initial_quantity</th>\n",
       "      <th>sold_quantity</th>\n",
       "      <th>available_quantity</th>\n",
       "    </tr>\n",
       "  </thead>\n",
       "  <tbody>\n",
       "    <tr>\n",
       "      <th>0</th>\n",
       "      <td>None</td>\n",
       "      <td>new</td>\n",
       "      <td>80.0</td>\n",
       "      <td>{'local_pick_up': True, 'methods': [], 'tags':...</td>\n",
       "      <td>[{'description': 'Transferencia bancaria', 'id...</td>\n",
       "      <td>[]</td>\n",
       "      <td>{}</td>\n",
       "      <td>bronze</td>\n",
       "      <td>80.0</td>\n",
       "      <td>[]</td>\n",
       "      <td>...</td>\n",
       "      <td>MLA126406</td>\n",
       "      <td>[{'id': 'MLA578052519-912855983'}]</td>\n",
       "      <td>[{'size': '500x375', 'secure_url': 'https://a2...</td>\n",
       "      <td>MLA578052519</td>\n",
       "      <td>True</td>\n",
       "      <td>Auriculares Samsung Originales Manos Libres Ca...</td>\n",
       "      <td>False</td>\n",
       "      <td>1</td>\n",
       "      <td>0</td>\n",
       "      <td>1</td>\n",
       "    </tr>\n",
       "    <tr>\n",
       "      <th>1</th>\n",
       "      <td>NUESTRA REPUTACION</td>\n",
       "      <td>used</td>\n",
       "      <td>2650.0</td>\n",
       "      <td>{'local_pick_up': True, 'methods': [], 'tags':...</td>\n",
       "      <td>[{'description': 'Transferencia bancaria', 'id...</td>\n",
       "      <td>[]</td>\n",
       "      <td>{}</td>\n",
       "      <td>silver</td>\n",
       "      <td>2650.0</td>\n",
       "      <td>[]</td>\n",
       "      <td>...</td>\n",
       "      <td>MLA10267</td>\n",
       "      <td>[{'id': 'MLA581565358-930764806'}]</td>\n",
       "      <td>[{'size': '499x334', 'secure_url': 'https://a2...</td>\n",
       "      <td>MLA581565358</td>\n",
       "      <td>True</td>\n",
       "      <td>Cuchillo Daga Acero Carbón Casco Yelmo Solinge...</td>\n",
       "      <td>False</td>\n",
       "      <td>1</td>\n",
       "      <td>0</td>\n",
       "      <td>1</td>\n",
       "    </tr>\n",
       "    <tr>\n",
       "      <th>2</th>\n",
       "      <td>None</td>\n",
       "      <td>used</td>\n",
       "      <td>60.0</td>\n",
       "      <td>{'local_pick_up': True, 'methods': [], 'tags':...</td>\n",
       "      <td>[{'description': 'Transferencia bancaria', 'id...</td>\n",
       "      <td>[]</td>\n",
       "      <td>{}</td>\n",
       "      <td>bronze</td>\n",
       "      <td>60.0</td>\n",
       "      <td>[]</td>\n",
       "      <td>...</td>\n",
       "      <td>MLA1227</td>\n",
       "      <td>[{'id': 'MLA578780872-916478256'}]</td>\n",
       "      <td>[{'size': '375x500', 'secure_url': 'https://a2...</td>\n",
       "      <td>MLA578780872</td>\n",
       "      <td>True</td>\n",
       "      <td>Antigua Revista Billiken, N° 1826, Año 1954</td>\n",
       "      <td>False</td>\n",
       "      <td>1</td>\n",
       "      <td>0</td>\n",
       "      <td>1</td>\n",
       "    </tr>\n",
       "    <tr>\n",
       "      <th>3</th>\n",
       "      <td>None</td>\n",
       "      <td>new</td>\n",
       "      <td>580.0</td>\n",
       "      <td>{'local_pick_up': True, 'methods': [], 'tags':...</td>\n",
       "      <td>[{'description': 'Transferencia bancaria', 'id...</td>\n",
       "      <td>[]</td>\n",
       "      <td>{}</td>\n",
       "      <td>silver</td>\n",
       "      <td>580.0</td>\n",
       "      <td>[]</td>\n",
       "      <td>...</td>\n",
       "      <td>MLA86345</td>\n",
       "      <td>[{'id': 'MLA581877385-932309698'}]</td>\n",
       "      <td>[{'size': '441x423', 'secure_url': 'https://a2...</td>\n",
       "      <td>MLA581877385</td>\n",
       "      <td>True</td>\n",
       "      <td>Alarma Guardtex Gx412 Seguridad Para El Automo...</td>\n",
       "      <td>False</td>\n",
       "      <td>1</td>\n",
       "      <td>0</td>\n",
       "      <td>1</td>\n",
       "    </tr>\n",
       "    <tr>\n",
       "      <th>4</th>\n",
       "      <td>MI REPUTACION.</td>\n",
       "      <td>used</td>\n",
       "      <td>30.0</td>\n",
       "      <td>{'local_pick_up': True, 'methods': [], 'tags':...</td>\n",
       "      <td>[{'description': 'Transferencia bancaria', 'id...</td>\n",
       "      <td>[]</td>\n",
       "      <td>{}</td>\n",
       "      <td>bronze</td>\n",
       "      <td>30.0</td>\n",
       "      <td>[]</td>\n",
       "      <td>...</td>\n",
       "      <td>MLA41287</td>\n",
       "      <td>[{'id': 'MLA576112692-902981678'}]</td>\n",
       "      <td>[{'size': '375x500', 'secure_url': 'https://a2...</td>\n",
       "      <td>MLA576112692</td>\n",
       "      <td>True</td>\n",
       "      <td>Serenata - Jennifer Blake</td>\n",
       "      <td>False</td>\n",
       "      <td>1</td>\n",
       "      <td>0</td>\n",
       "      <td>1</td>\n",
       "    </tr>\n",
       "  </tbody>\n",
       "</table>\n",
       "<p>5 rows × 23 columns</p>\n",
       "</div>"
      ],
      "text/plain": [
       "             warranty condition  base_price  \\\n",
       "0                None       new        80.0   \n",
       "1  NUESTRA REPUTACION      used      2650.0   \n",
       "2                None      used        60.0   \n",
       "3                None       new       580.0   \n",
       "4      MI REPUTACION.      used        30.0   \n",
       "\n",
       "                                            shipping  \\\n",
       "0  {'local_pick_up': True, 'methods': [], 'tags':...   \n",
       "1  {'local_pick_up': True, 'methods': [], 'tags':...   \n",
       "2  {'local_pick_up': True, 'methods': [], 'tags':...   \n",
       "3  {'local_pick_up': True, 'methods': [], 'tags':...   \n",
       "4  {'local_pick_up': True, 'methods': [], 'tags':...   \n",
       "\n",
       "                    non_mercado_pago_payment_methods variations location  \\\n",
       "0  [{'description': 'Transferencia bancaria', 'id...         []       {}   \n",
       "1  [{'description': 'Transferencia bancaria', 'id...         []       {}   \n",
       "2  [{'description': 'Transferencia bancaria', 'id...         []       {}   \n",
       "3  [{'description': 'Transferencia bancaria', 'id...         []       {}   \n",
       "4  [{'description': 'Transferencia bancaria', 'id...         []       {}   \n",
       "\n",
       "  listing_type_id   price attributes  ... category_id  \\\n",
       "0          bronze    80.0         []  ...   MLA126406   \n",
       "1          silver  2650.0         []  ...    MLA10267   \n",
       "2          bronze    60.0         []  ...     MLA1227   \n",
       "3          silver   580.0         []  ...    MLA86345   \n",
       "4          bronze    30.0         []  ...    MLA41287   \n",
       "\n",
       "                         descriptions  \\\n",
       "0  [{'id': 'MLA578052519-912855983'}]   \n",
       "1  [{'id': 'MLA581565358-930764806'}]   \n",
       "2  [{'id': 'MLA578780872-916478256'}]   \n",
       "3  [{'id': 'MLA581877385-932309698'}]   \n",
       "4  [{'id': 'MLA576112692-902981678'}]   \n",
       "\n",
       "                                            pictures            id  \\\n",
       "0  [{'size': '500x375', 'secure_url': 'https://a2...  MLA578052519   \n",
       "1  [{'size': '499x334', 'secure_url': 'https://a2...  MLA581565358   \n",
       "2  [{'size': '375x500', 'secure_url': 'https://a2...  MLA578780872   \n",
       "3  [{'size': '441x423', 'secure_url': 'https://a2...  MLA581877385   \n",
       "4  [{'size': '375x500', 'secure_url': 'https://a2...  MLA576112692   \n",
       "\n",
       "  accepts_mercadopago                                              title  \\\n",
       "0                True  Auriculares Samsung Originales Manos Libres Ca...   \n",
       "1                True  Cuchillo Daga Acero Carbón Casco Yelmo Solinge...   \n",
       "2                True        Antigua Revista Billiken, N° 1826, Año 1954   \n",
       "3                True  Alarma Guardtex Gx412 Seguridad Para El Automo...   \n",
       "4                True                          Serenata - Jennifer Blake   \n",
       "\n",
       "  automatic_relist  initial_quantity sold_quantity  available_quantity  \n",
       "0            False                 1             0                   1  \n",
       "1            False                 1             0                   1  \n",
       "2            False                 1             0                   1  \n",
       "3            False                 1             0                   1  \n",
       "4            False                 1             0                   1  \n",
       "\n",
       "[5 rows x 23 columns]"
      ]
     },
     "execution_count": 23,
     "metadata": {},
     "output_type": "execute_result"
    }
   ],
   "source": [
    "df.drop([\"sub_status\", \"deal_ids\", \"site_id\", \"listing_source\", \"coverage_areas\", \n",
    "         \"international_delivery_mode\", \"official_store_id\", \"differential_pricing\", \n",
    "         \"original_price\", \"currency_id\", \"status\", \"video_id\", \"catalog_product_id\", \n",
    "         \"subtitle\"], axis=1, inplace=True)\n",
    "df.head()"
   ]
  },
  {
   "cell_type": "code",
   "execution_count": 24,
   "id": "80f20a03-04e8-4afe-8b3c-369fa74d5760",
   "metadata": {},
   "outputs": [
    {
     "data": {
      "text/plain": [
       "Index(['warranty', 'condition', 'base_price', 'shipping',\n",
       "       'non_mercado_pago_payment_methods', 'variations', 'location',\n",
       "       'listing_type_id', 'price', 'attributes', 'buying_mode', 'tags',\n",
       "       'parent_item_id', 'category_id', 'descriptions', 'pictures', 'id',\n",
       "       'accepts_mercadopago', 'title', 'automatic_relist', 'initial_quantity',\n",
       "       'sold_quantity', 'available_quantity'],\n",
       "      dtype='object')"
      ]
     },
     "execution_count": 24,
     "metadata": {},
     "output_type": "execute_result"
    }
   ],
   "source": [
    "df.columns"
   ]
  },
  {
   "cell_type": "markdown",
   "id": "0d3aa3aa-4341-49b4-9701-aced4c9dcff8",
   "metadata": {},
   "source": [
    "### 2.4 Exploring aditional columns"
   ]
  },
  {
   "cell_type": "markdown",
   "id": "c373c76c-3187-4da6-a4f7-14308ed7ac55",
   "metadata": {},
   "source": [
    "#### 2.4.1 Converting column pictures"
   ]
  },
  {
   "cell_type": "code",
   "execution_count": 25,
   "id": "4c8b7433-00a5-4a02-a9a5-1ef1e6e5b680",
   "metadata": {},
   "outputs": [],
   "source": [
    "df[\"pictures\"] = df[\"pictures\"].apply(lambda x: len(x) if x else 0)"
   ]
  },
  {
   "cell_type": "markdown",
   "id": "1ed028ac-a353-467d-afa8-1c2f4315f7be",
   "metadata": {},
   "source": [
    "#### 2.4.2 Exploring column descriptions"
   ]
  },
  {
   "cell_type": "code",
   "execution_count": 26,
   "id": "3583a1d8-3a23-4f96-945d-10d7bcba7b6f",
   "metadata": {},
   "outputs": [
    {
     "data": {
      "text/plain": [
       "[[{'id': 'MLA578052519-912855983'}],\n",
       " [{'id': 'MLA581565358-930764806'}],\n",
       " [{'id': 'MLA578780872-916478256'}],\n",
       " [{'id': 'MLA581877385-932309698'}],\n",
       " [{'id': 'MLA576112692-902981678'}],\n",
       " [{'id': 'MLA576999902-907239038'}],\n",
       " [{'id': 'MLA583349401-939033580'}],\n",
       " [{'id': 'MLA584657993-944499723'}],\n",
       " [{'id': 'MLA582290832-934355208'}],\n",
       " [{'id': 'MLA582819613-936622752'}]]"
      ]
     },
     "execution_count": 26,
     "metadata": {},
     "output_type": "execute_result"
    }
   ],
   "source": [
    "df[\"descriptions\"].to_list()[:10]"
   ]
  },
  {
   "cell_type": "code",
   "execution_count": 27,
   "id": "31fafd5d-8a31-4989-a240-14a54ec1d250",
   "metadata": {},
   "outputs": [],
   "source": [
    "df.drop([\"descriptions\"], axis=1, inplace=True)"
   ]
  },
  {
   "cell_type": "markdown",
   "id": "35754eb7-e9b3-40c1-9411-c0f95b4307a9",
   "metadata": {},
   "source": [
    "#### 2.4.3 Exploring column non_mercado_pago_payment_methods"
   ]
  },
  {
   "cell_type": "code",
   "execution_count": 28,
   "id": "a9bd31a4-3426-4573-94e6-c8697cceb809",
   "metadata": {},
   "outputs": [
    {
     "data": {
      "text/plain": [
       "[{'description': 'Transferencia bancaria', 'id': 'MLATB', 'type': 'G'},\n",
       " {'description': 'Acordar con el comprador', 'id': 'MLAWC', 'type': 'G'},\n",
       " {'description': 'Efectivo', 'id': 'MLAMO', 'type': 'G'}]"
      ]
     },
     "execution_count": 28,
     "metadata": {},
     "output_type": "execute_result"
    }
   ],
   "source": [
    "df[\"non_mercado_pago_payment_methods\"].to_list()[0]"
   ]
  },
  {
   "cell_type": "code",
   "execution_count": 29,
   "id": "675c9bf7-56e4-4113-9a2d-55bb15697f79",
   "metadata": {},
   "outputs": [],
   "source": [
    "df[\"non_mercado_pago\"] = df.pop(\"non_mercado_pago_payment_methods\").apply(lambda x: [d[\"description\"] for d in x] if x else [\"N/a\"])"
   ]
  },
  {
   "cell_type": "markdown",
   "id": "9d8fa35c-bff1-4c84-85ad-4362f3b5dadd",
   "metadata": {},
   "source": [
    "#### 2.4.4 Exploring column shipping"
   ]
  },
  {
   "cell_type": "code",
   "execution_count": 30,
   "id": "ad731fa0-aca5-4280-8669-7610b0066606",
   "metadata": {
    "tags": []
   },
   "outputs": [
    {
     "data": {
      "text/html": [
       "<div>\n",
       "<style scoped>\n",
       "    .dataframe tbody tr th:only-of-type {\n",
       "        vertical-align: middle;\n",
       "    }\n",
       "\n",
       "    .dataframe tbody tr th {\n",
       "        vertical-align: top;\n",
       "    }\n",
       "\n",
       "    .dataframe thead th {\n",
       "        text-align: right;\n",
       "    }\n",
       "</style>\n",
       "<table border=\"1\" class=\"dataframe\">\n",
       "  <thead>\n",
       "    <tr style=\"text-align: right;\">\n",
       "      <th></th>\n",
       "      <th>shippinglocal_pick_up</th>\n",
       "      <th>shippingmethods</th>\n",
       "      <th>shippingtags</th>\n",
       "      <th>shippingfree_shipping</th>\n",
       "      <th>shippingmode</th>\n",
       "      <th>shippingdimensions</th>\n",
       "      <th>shippingfree_methods</th>\n",
       "    </tr>\n",
       "  </thead>\n",
       "  <tbody>\n",
       "    <tr>\n",
       "      <th>0</th>\n",
       "      <td>True</td>\n",
       "      <td>[]</td>\n",
       "      <td>[]</td>\n",
       "      <td>False</td>\n",
       "      <td>not_specified</td>\n",
       "      <td>None</td>\n",
       "      <td>NaN</td>\n",
       "    </tr>\n",
       "    <tr>\n",
       "      <th>1</th>\n",
       "      <td>True</td>\n",
       "      <td>[]</td>\n",
       "      <td>[]</td>\n",
       "      <td>False</td>\n",
       "      <td>me2</td>\n",
       "      <td>None</td>\n",
       "      <td>NaN</td>\n",
       "    </tr>\n",
       "    <tr>\n",
       "      <th>2</th>\n",
       "      <td>True</td>\n",
       "      <td>[]</td>\n",
       "      <td>[]</td>\n",
       "      <td>False</td>\n",
       "      <td>me2</td>\n",
       "      <td>None</td>\n",
       "      <td>NaN</td>\n",
       "    </tr>\n",
       "    <tr>\n",
       "      <th>3</th>\n",
       "      <td>True</td>\n",
       "      <td>[]</td>\n",
       "      <td>[]</td>\n",
       "      <td>False</td>\n",
       "      <td>me2</td>\n",
       "      <td>None</td>\n",
       "      <td>NaN</td>\n",
       "    </tr>\n",
       "    <tr>\n",
       "      <th>4</th>\n",
       "      <td>True</td>\n",
       "      <td>[]</td>\n",
       "      <td>[]</td>\n",
       "      <td>False</td>\n",
       "      <td>not_specified</td>\n",
       "      <td>None</td>\n",
       "      <td>NaN</td>\n",
       "    </tr>\n",
       "    <tr>\n",
       "      <th>...</th>\n",
       "      <td>...</td>\n",
       "      <td>...</td>\n",
       "      <td>...</td>\n",
       "      <td>...</td>\n",
       "      <td>...</td>\n",
       "      <td>...</td>\n",
       "      <td>...</td>\n",
       "    </tr>\n",
       "    <tr>\n",
       "      <th>89995</th>\n",
       "      <td>False</td>\n",
       "      <td>[]</td>\n",
       "      <td>[]</td>\n",
       "      <td>False</td>\n",
       "      <td>me2</td>\n",
       "      <td>None</td>\n",
       "      <td>NaN</td>\n",
       "    </tr>\n",
       "    <tr>\n",
       "      <th>89996</th>\n",
       "      <td>True</td>\n",
       "      <td>[]</td>\n",
       "      <td>[]</td>\n",
       "      <td>False</td>\n",
       "      <td>custom</td>\n",
       "      <td>None</td>\n",
       "      <td>NaN</td>\n",
       "    </tr>\n",
       "    <tr>\n",
       "      <th>89997</th>\n",
       "      <td>True</td>\n",
       "      <td>[]</td>\n",
       "      <td>[]</td>\n",
       "      <td>False</td>\n",
       "      <td>not_specified</td>\n",
       "      <td>None</td>\n",
       "      <td>NaN</td>\n",
       "    </tr>\n",
       "    <tr>\n",
       "      <th>89998</th>\n",
       "      <td>False</td>\n",
       "      <td>[]</td>\n",
       "      <td>[]</td>\n",
       "      <td>False</td>\n",
       "      <td>not_specified</td>\n",
       "      <td>None</td>\n",
       "      <td>NaN</td>\n",
       "    </tr>\n",
       "    <tr>\n",
       "      <th>89999</th>\n",
       "      <td>True</td>\n",
       "      <td>[]</td>\n",
       "      <td>[]</td>\n",
       "      <td>False</td>\n",
       "      <td>not_specified</td>\n",
       "      <td>None</td>\n",
       "      <td>NaN</td>\n",
       "    </tr>\n",
       "  </tbody>\n",
       "</table>\n",
       "<p>90000 rows × 7 columns</p>\n",
       "</div>"
      ],
      "text/plain": [
       "       shippinglocal_pick_up shippingmethods shippingtags  \\\n",
       "0                       True              []           []   \n",
       "1                       True              []           []   \n",
       "2                       True              []           []   \n",
       "3                       True              []           []   \n",
       "4                       True              []           []   \n",
       "...                      ...             ...          ...   \n",
       "89995                  False              []           []   \n",
       "89996                   True              []           []   \n",
       "89997                   True              []           []   \n",
       "89998                  False              []           []   \n",
       "89999                   True              []           []   \n",
       "\n",
       "       shippingfree_shipping   shippingmode shippingdimensions  \\\n",
       "0                      False  not_specified               None   \n",
       "1                      False            me2               None   \n",
       "2                      False            me2               None   \n",
       "3                      False            me2               None   \n",
       "4                      False  not_specified               None   \n",
       "...                      ...            ...                ...   \n",
       "89995                  False            me2               None   \n",
       "89996                  False         custom               None   \n",
       "89997                  False  not_specified               None   \n",
       "89998                  False  not_specified               None   \n",
       "89999                  False  not_specified               None   \n",
       "\n",
       "      shippingfree_methods  \n",
       "0                      NaN  \n",
       "1                      NaN  \n",
       "2                      NaN  \n",
       "3                      NaN  \n",
       "4                      NaN  \n",
       "...                    ...  \n",
       "89995                  NaN  \n",
       "89996                  NaN  \n",
       "89997                  NaN  \n",
       "89998                  NaN  \n",
       "89999                  NaN  \n",
       "\n",
       "[90000 rows x 7 columns]"
      ]
     },
     "execution_count": 30,
     "metadata": {},
     "output_type": "execute_result"
    }
   ],
   "source": [
    "df1 = pd.json_normalize(df[\"shipping\"]).add_prefix(\"shipping\")\n",
    "df1"
   ]
  },
  {
   "cell_type": "code",
   "execution_count": 31,
   "id": "0880f6f2-2173-47ed-ae7c-e124627e396e",
   "metadata": {},
   "outputs": [
    {
     "data": {
      "text/plain": [
       "me2              46059\n",
       "not_specified    40725\n",
       "custom            3130\n",
       "me1                 86\n",
       "Name: shippingmode, dtype: int64"
      ]
     },
     "execution_count": 31,
     "metadata": {},
     "output_type": "execute_result"
    }
   ],
   "source": [
    "df1[\"shippingmode\"].value_counts(dropna=False)"
   ]
  },
  {
   "cell_type": "code",
   "execution_count": 32,
   "id": "2f0df623-fda8-488b-9f5a-ee9a9e25ce68",
   "metadata": {},
   "outputs": [],
   "source": [
    "df[\"shipping_mode\"] = df.pop(\"shipping\").apply(lambda x: x[\"mode\"])"
   ]
  },
  {
   "cell_type": "markdown",
   "id": "a34fc24e-5345-435d-a716-90e5d072ac1c",
   "metadata": {},
   "source": [
    "#### 2.4.5 Exploring column parent_item_id"
   ]
  },
  {
   "cell_type": "code",
   "execution_count": 33,
   "id": "ab9965d1-6861-4f56-9299-55bf5f871c49",
   "metadata": {},
   "outputs": [
    {
     "data": {
      "text/plain": [
       "'MLA568261029'"
      ]
     },
     "execution_count": 33,
     "metadata": {},
     "output_type": "execute_result"
    }
   ],
   "source": [
    "df.loc[0, \"parent_item_id\"]"
   ]
  },
  {
   "cell_type": "code",
   "execution_count": 34,
   "id": "95ab2a5f-911a-44f0-987a-3a531a1eb0be",
   "metadata": {
    "tags": []
   },
   "outputs": [
    {
     "data": {
      "text/html": [
       "<div>\n",
       "<style scoped>\n",
       "    .dataframe tbody tr th:only-of-type {\n",
       "        vertical-align: middle;\n",
       "    }\n",
       "\n",
       "    .dataframe tbody tr th {\n",
       "        vertical-align: top;\n",
       "    }\n",
       "\n",
       "    .dataframe thead th {\n",
       "        text-align: right;\n",
       "    }\n",
       "</style>\n",
       "<table border=\"1\" class=\"dataframe\">\n",
       "  <thead>\n",
       "    <tr style=\"text-align: right;\">\n",
       "      <th></th>\n",
       "      <th>parent_item_id</th>\n",
       "      <th>id</th>\n",
       "      <th>condition</th>\n",
       "    </tr>\n",
       "  </thead>\n",
       "  <tbody>\n",
       "    <tr>\n",
       "      <th>0</th>\n",
       "      <td>MLA568261029</td>\n",
       "      <td>NaN</td>\n",
       "      <td>NaN</td>\n",
       "    </tr>\n",
       "    <tr>\n",
       "      <th>1</th>\n",
       "      <td>MLA561574487</td>\n",
       "      <td>NaN</td>\n",
       "      <td>NaN</td>\n",
       "    </tr>\n",
       "    <tr>\n",
       "      <th>2</th>\n",
       "      <td>MLA568881256</td>\n",
       "      <td>NaN</td>\n",
       "      <td>NaN</td>\n",
       "    </tr>\n",
       "    <tr>\n",
       "      <th>3</th>\n",
       "      <td>None</td>\n",
       "      <td>NaN</td>\n",
       "      <td>NaN</td>\n",
       "    </tr>\n",
       "    <tr>\n",
       "      <th>4</th>\n",
       "      <td>MLA566354576</td>\n",
       "      <td>NaN</td>\n",
       "      <td>NaN</td>\n",
       "    </tr>\n",
       "    <tr>\n",
       "      <th>...</th>\n",
       "      <td>...</td>\n",
       "      <td>...</td>\n",
       "      <td>...</td>\n",
       "    </tr>\n",
       "    <tr>\n",
       "      <th>89995</th>\n",
       "      <td>MLA572492635</td>\n",
       "      <td>NaN</td>\n",
       "      <td>NaN</td>\n",
       "    </tr>\n",
       "    <tr>\n",
       "      <th>89996</th>\n",
       "      <td>MLA570752414</td>\n",
       "      <td>NaN</td>\n",
       "      <td>NaN</td>\n",
       "    </tr>\n",
       "    <tr>\n",
       "      <th>89997</th>\n",
       "      <td>MLA566408503</td>\n",
       "      <td>NaN</td>\n",
       "      <td>NaN</td>\n",
       "    </tr>\n",
       "    <tr>\n",
       "      <th>89998</th>\n",
       "      <td>MLA572550955</td>\n",
       "      <td>NaN</td>\n",
       "      <td>NaN</td>\n",
       "    </tr>\n",
       "    <tr>\n",
       "      <th>89999</th>\n",
       "      <td>MLA572851987</td>\n",
       "      <td>NaN</td>\n",
       "      <td>NaN</td>\n",
       "    </tr>\n",
       "  </tbody>\n",
       "</table>\n",
       "<p>90000 rows × 3 columns</p>\n",
       "</div>"
      ],
      "text/plain": [
       "      parent_item_id   id condition\n",
       "0       MLA568261029  NaN       NaN\n",
       "1       MLA561574487  NaN       NaN\n",
       "2       MLA568881256  NaN       NaN\n",
       "3               None  NaN       NaN\n",
       "4       MLA566354576  NaN       NaN\n",
       "...              ...  ...       ...\n",
       "89995   MLA572492635  NaN       NaN\n",
       "89996   MLA570752414  NaN       NaN\n",
       "89997   MLA566408503  NaN       NaN\n",
       "89998   MLA572550955  NaN       NaN\n",
       "89999   MLA572851987  NaN       NaN\n",
       "\n",
       "[90000 rows x 3 columns]"
      ]
     },
     "execution_count": 34,
     "metadata": {},
     "output_type": "execute_result"
    }
   ],
   "source": [
    "df2 = pd.merge(df[[\"parent_item_id\"]], df[[\"id\", \"condition\"]], how=\"left\", left_on=\"parent_item_id\", right_on=\"id\")\n",
    "df2"
   ]
  },
  {
   "cell_type": "code",
   "execution_count": 35,
   "id": "ab6cc9a5-5eb4-42de-9b72-5ae1bdf07f74",
   "metadata": {},
   "outputs": [
    {
     "data": {
      "text/plain": [
       "NaN    90000\n",
       "Name: condition, dtype: int64"
      ]
     },
     "execution_count": 35,
     "metadata": {},
     "output_type": "execute_result"
    }
   ],
   "source": [
    "df2[\"condition\"].value_counts(dropna=False)"
   ]
  },
  {
   "cell_type": "code",
   "execution_count": 36,
   "id": "0639e24e-13c9-4cbb-b4f8-12ecc9461f44",
   "metadata": {},
   "outputs": [],
   "source": [
    "df.drop([\"id\", \"parent_item_id\"], axis=1, inplace=True)"
   ]
  },
  {
   "cell_type": "markdown",
   "id": "0c13c925-89ce-454c-9179-ef762d575540",
   "metadata": {},
   "source": [
    "#### 2.4.6 Exploring column location"
   ]
  },
  {
   "cell_type": "code",
   "execution_count": 37,
   "id": "c084f38a-e885-4893-a6be-85b273a9e669",
   "metadata": {
    "tags": []
   },
   "outputs": [
    {
     "data": {
      "text/html": [
       "<div>\n",
       "<style scoped>\n",
       "    .dataframe tbody tr th:only-of-type {\n",
       "        vertical-align: middle;\n",
       "    }\n",
       "\n",
       "    .dataframe tbody tr th {\n",
       "        vertical-align: top;\n",
       "    }\n",
       "\n",
       "    .dataframe thead th {\n",
       "        text-align: right;\n",
       "    }\n",
       "</style>\n",
       "<table border=\"1\" class=\"dataframe\">\n",
       "  <thead>\n",
       "    <tr style=\"text-align: right;\">\n",
       "      <th></th>\n",
       "      <th>location.open_hours</th>\n",
       "      <th>location.longitude</th>\n",
       "      <th>location.address_line</th>\n",
       "      <th>location.latitude</th>\n",
       "      <th>location.zip_code</th>\n",
       "      <th>location.neighborhood.name</th>\n",
       "      <th>location.neighborhood.id</th>\n",
       "      <th>location.country.name</th>\n",
       "      <th>location.country.id</th>\n",
       "      <th>location.city.name</th>\n",
       "      <th>location.city.id</th>\n",
       "      <th>location.state.name</th>\n",
       "      <th>location.state.id</th>\n",
       "    </tr>\n",
       "  </thead>\n",
       "  <tbody>\n",
       "    <tr>\n",
       "      <th>0</th>\n",
       "      <td>NaN</td>\n",
       "      <td>NaN</td>\n",
       "      <td>NaN</td>\n",
       "      <td>NaN</td>\n",
       "      <td>NaN</td>\n",
       "      <td>NaN</td>\n",
       "      <td>NaN</td>\n",
       "      <td>NaN</td>\n",
       "      <td>NaN</td>\n",
       "      <td>NaN</td>\n",
       "      <td>NaN</td>\n",
       "      <td>NaN</td>\n",
       "      <td>NaN</td>\n",
       "    </tr>\n",
       "    <tr>\n",
       "      <th>1</th>\n",
       "      <td>NaN</td>\n",
       "      <td>NaN</td>\n",
       "      <td>NaN</td>\n",
       "      <td>NaN</td>\n",
       "      <td>NaN</td>\n",
       "      <td>NaN</td>\n",
       "      <td>NaN</td>\n",
       "      <td>NaN</td>\n",
       "      <td>NaN</td>\n",
       "      <td>NaN</td>\n",
       "      <td>NaN</td>\n",
       "      <td>NaN</td>\n",
       "      <td>NaN</td>\n",
       "    </tr>\n",
       "    <tr>\n",
       "      <th>2</th>\n",
       "      <td>NaN</td>\n",
       "      <td>NaN</td>\n",
       "      <td>NaN</td>\n",
       "      <td>NaN</td>\n",
       "      <td>NaN</td>\n",
       "      <td>NaN</td>\n",
       "      <td>NaN</td>\n",
       "      <td>NaN</td>\n",
       "      <td>NaN</td>\n",
       "      <td>NaN</td>\n",
       "      <td>NaN</td>\n",
       "      <td>NaN</td>\n",
       "      <td>NaN</td>\n",
       "    </tr>\n",
       "    <tr>\n",
       "      <th>3</th>\n",
       "      <td>NaN</td>\n",
       "      <td>NaN</td>\n",
       "      <td>NaN</td>\n",
       "      <td>NaN</td>\n",
       "      <td>NaN</td>\n",
       "      <td>NaN</td>\n",
       "      <td>NaN</td>\n",
       "      <td>NaN</td>\n",
       "      <td>NaN</td>\n",
       "      <td>NaN</td>\n",
       "      <td>NaN</td>\n",
       "      <td>NaN</td>\n",
       "      <td>NaN</td>\n",
       "    </tr>\n",
       "    <tr>\n",
       "      <th>4</th>\n",
       "      <td>NaN</td>\n",
       "      <td>NaN</td>\n",
       "      <td>NaN</td>\n",
       "      <td>NaN</td>\n",
       "      <td>NaN</td>\n",
       "      <td>NaN</td>\n",
       "      <td>NaN</td>\n",
       "      <td>NaN</td>\n",
       "      <td>NaN</td>\n",
       "      <td>NaN</td>\n",
       "      <td>NaN</td>\n",
       "      <td>NaN</td>\n",
       "      <td>NaN</td>\n",
       "    </tr>\n",
       "    <tr>\n",
       "      <th>...</th>\n",
       "      <td>...</td>\n",
       "      <td>...</td>\n",
       "      <td>...</td>\n",
       "      <td>...</td>\n",
       "      <td>...</td>\n",
       "      <td>...</td>\n",
       "      <td>...</td>\n",
       "      <td>...</td>\n",
       "      <td>...</td>\n",
       "      <td>...</td>\n",
       "      <td>...</td>\n",
       "      <td>...</td>\n",
       "      <td>...</td>\n",
       "    </tr>\n",
       "    <tr>\n",
       "      <th>89995</th>\n",
       "      <td>NaN</td>\n",
       "      <td>NaN</td>\n",
       "      <td>NaN</td>\n",
       "      <td>NaN</td>\n",
       "      <td>NaN</td>\n",
       "      <td>NaN</td>\n",
       "      <td>NaN</td>\n",
       "      <td>NaN</td>\n",
       "      <td>NaN</td>\n",
       "      <td>NaN</td>\n",
       "      <td>NaN</td>\n",
       "      <td>NaN</td>\n",
       "      <td>NaN</td>\n",
       "    </tr>\n",
       "    <tr>\n",
       "      <th>89996</th>\n",
       "      <td>NaN</td>\n",
       "      <td>NaN</td>\n",
       "      <td>NaN</td>\n",
       "      <td>NaN</td>\n",
       "      <td>NaN</td>\n",
       "      <td>NaN</td>\n",
       "      <td>NaN</td>\n",
       "      <td>NaN</td>\n",
       "      <td>NaN</td>\n",
       "      <td>NaN</td>\n",
       "      <td>NaN</td>\n",
       "      <td>NaN</td>\n",
       "      <td>NaN</td>\n",
       "    </tr>\n",
       "    <tr>\n",
       "      <th>89997</th>\n",
       "      <td>NaN</td>\n",
       "      <td>NaN</td>\n",
       "      <td>NaN</td>\n",
       "      <td>NaN</td>\n",
       "      <td>NaN</td>\n",
       "      <td>NaN</td>\n",
       "      <td>NaN</td>\n",
       "      <td>NaN</td>\n",
       "      <td>NaN</td>\n",
       "      <td>NaN</td>\n",
       "      <td>NaN</td>\n",
       "      <td>NaN</td>\n",
       "      <td>NaN</td>\n",
       "    </tr>\n",
       "    <tr>\n",
       "      <th>89998</th>\n",
       "      <td>NaN</td>\n",
       "      <td>NaN</td>\n",
       "      <td>NaN</td>\n",
       "      <td>NaN</td>\n",
       "      <td>NaN</td>\n",
       "      <td>NaN</td>\n",
       "      <td>NaN</td>\n",
       "      <td>NaN</td>\n",
       "      <td>NaN</td>\n",
       "      <td>NaN</td>\n",
       "      <td>NaN</td>\n",
       "      <td>NaN</td>\n",
       "      <td>NaN</td>\n",
       "    </tr>\n",
       "    <tr>\n",
       "      <th>89999</th>\n",
       "      <td>NaN</td>\n",
       "      <td>NaN</td>\n",
       "      <td>NaN</td>\n",
       "      <td>NaN</td>\n",
       "      <td>NaN</td>\n",
       "      <td>NaN</td>\n",
       "      <td>NaN</td>\n",
       "      <td>NaN</td>\n",
       "      <td>NaN</td>\n",
       "      <td>NaN</td>\n",
       "      <td>NaN</td>\n",
       "      <td>NaN</td>\n",
       "      <td>NaN</td>\n",
       "    </tr>\n",
       "  </tbody>\n",
       "</table>\n",
       "<p>90000 rows × 13 columns</p>\n",
       "</div>"
      ],
      "text/plain": [
       "      location.open_hours location.longitude location.address_line  \\\n",
       "0                     NaN                NaN                   NaN   \n",
       "1                     NaN                NaN                   NaN   \n",
       "2                     NaN                NaN                   NaN   \n",
       "3                     NaN                NaN                   NaN   \n",
       "4                     NaN                NaN                   NaN   \n",
       "...                   ...                ...                   ...   \n",
       "89995                 NaN                NaN                   NaN   \n",
       "89996                 NaN                NaN                   NaN   \n",
       "89997                 NaN                NaN                   NaN   \n",
       "89998                 NaN                NaN                   NaN   \n",
       "89999                 NaN                NaN                   NaN   \n",
       "\n",
       "      location.latitude location.zip_code location.neighborhood.name  \\\n",
       "0                   NaN               NaN                        NaN   \n",
       "1                   NaN               NaN                        NaN   \n",
       "2                   NaN               NaN                        NaN   \n",
       "3                   NaN               NaN                        NaN   \n",
       "4                   NaN               NaN                        NaN   \n",
       "...                 ...               ...                        ...   \n",
       "89995               NaN               NaN                        NaN   \n",
       "89996               NaN               NaN                        NaN   \n",
       "89997               NaN               NaN                        NaN   \n",
       "89998               NaN               NaN                        NaN   \n",
       "89999               NaN               NaN                        NaN   \n",
       "\n",
       "      location.neighborhood.id location.country.name location.country.id  \\\n",
       "0                          NaN                   NaN                 NaN   \n",
       "1                          NaN                   NaN                 NaN   \n",
       "2                          NaN                   NaN                 NaN   \n",
       "3                          NaN                   NaN                 NaN   \n",
       "4                          NaN                   NaN                 NaN   \n",
       "...                        ...                   ...                 ...   \n",
       "89995                      NaN                   NaN                 NaN   \n",
       "89996                      NaN                   NaN                 NaN   \n",
       "89997                      NaN                   NaN                 NaN   \n",
       "89998                      NaN                   NaN                 NaN   \n",
       "89999                      NaN                   NaN                 NaN   \n",
       "\n",
       "      location.city.name location.city.id location.state.name  \\\n",
       "0                    NaN              NaN                 NaN   \n",
       "1                    NaN              NaN                 NaN   \n",
       "2                    NaN              NaN                 NaN   \n",
       "3                    NaN              NaN                 NaN   \n",
       "4                    NaN              NaN                 NaN   \n",
       "...                  ...              ...                 ...   \n",
       "89995                NaN              NaN                 NaN   \n",
       "89996                NaN              NaN                 NaN   \n",
       "89997                NaN              NaN                 NaN   \n",
       "89998                NaN              NaN                 NaN   \n",
       "89999                NaN              NaN                 NaN   \n",
       "\n",
       "      location.state.id  \n",
       "0                   NaN  \n",
       "1                   NaN  \n",
       "2                   NaN  \n",
       "3                   NaN  \n",
       "4                   NaN  \n",
       "...                 ...  \n",
       "89995               NaN  \n",
       "89996               NaN  \n",
       "89997               NaN  \n",
       "89998               NaN  \n",
       "89999               NaN  \n",
       "\n",
       "[90000 rows x 13 columns]"
      ]
     },
     "execution_count": 37,
     "metadata": {},
     "output_type": "execute_result"
    }
   ],
   "source": [
    "df3 = pd.json_normalize(df[\"location\"]).add_prefix(\"location.\")\n",
    "df3"
   ]
  },
  {
   "cell_type": "code",
   "execution_count": 38,
   "id": "6b63aaee-6529-4f5a-80a0-c0e61eb58d6e",
   "metadata": {
    "tags": []
   },
   "outputs": [
    {
     "data": {
      "text/plain": [
       "NaN                       88018\n",
       "Capital Federal             505\n",
       "Bs.as. G.b.a. Norte         450\n",
       "Bs.as. G.b.a. Oeste         294\n",
       "Bs.as. G.b.a. Sur           261\n",
       "Bs.as. Costa Atlántica      139\n",
       "Buenos Aires Interior        95\n",
       "Córdoba                      59\n",
       "Santa Fe                     32\n",
       "Uruguay                      25\n",
       "Entre Ríos                   19\n",
       "Río Negro                    16\n",
       "Mendoza                      14\n",
       "Neuquén                      11\n",
       "San Luis                      9\n",
       "Salta                         8\n",
       "Corrientes                    7\n",
       "Usa                           6\n",
       "Chaco                         6\n",
       "Chubut                        6\n",
       "Misiones                      4\n",
       "Formosa                       3\n",
       "Tucumán                       3\n",
       "Brasil                        2\n",
       "La Rioja                      2\n",
       "La Pampa                      1\n",
       "Santa Cruz                    1\n",
       "San Juan                      1\n",
       "Catamarca                     1\n",
       "Tierra Del Fuego              1\n",
       "Santiago Del Estero           1\n",
       "Name: location.state.name, dtype: int64"
      ]
     },
     "execution_count": 38,
     "metadata": {},
     "output_type": "execute_result"
    }
   ],
   "source": [
    "df3[\"location.state.name\"].value_counts(dropna=False)"
   ]
  },
  {
   "cell_type": "code",
   "execution_count": 39,
   "id": "133ad291-f5d7-4094-bea0-a9b80e94d1c9",
   "metadata": {},
   "outputs": [],
   "source": [
    "df.drop([\"location\"], axis=1, inplace=True)"
   ]
  },
  {
   "cell_type": "markdown",
   "id": "e17b5fc5-4a26-47ef-b719-57965482a795",
   "metadata": {},
   "source": [
    "#### 2.4.7 Exploring column title"
   ]
  },
  {
   "cell_type": "code",
   "execution_count": 40,
   "id": "8db90ba9-d32f-44a8-90ad-dfb52814278c",
   "metadata": {},
   "outputs": [
    {
     "data": {
      "text/plain": [
       "['Auriculares Samsung Originales Manos Libres Cable Usb Oferta',\n",
       " 'Cuchillo Daga Acero Carbón Casco Yelmo Solingen Con Vaina',\n",
       " 'Antigua Revista Billiken, N° 1826, Año 1954',\n",
       " 'Alarma Guardtex Gx412 Seguridad Para El Automotor!!!',\n",
       " 'Serenata - Jennifer Blake']"
      ]
     },
     "execution_count": 40,
     "metadata": {},
     "output_type": "execute_result"
    }
   ],
   "source": [
    "df[\"title\"].to_list()[:5]"
   ]
  },
  {
   "cell_type": "markdown",
   "id": "278e548a-58f3-4ce8-b162-af18fbc7dd67",
   "metadata": {},
   "source": [
    "#### 2.4.8 Exploring column warranty"
   ]
  },
  {
   "cell_type": "code",
   "execution_count": 41,
   "id": "380fee95-1eda-4c17-a4eb-3663c22b8674",
   "metadata": {},
   "outputs": [
    {
     "data": {
      "text/plain": [
       "NaN                                                                                                                                                                                                                54757\n",
       "Sí                                                                                                                                                                                                                  5107\n",
       "Sin garantía                                                                                                                                                                                                        4907\n",
       "SI                                                                                                                                                                                                                   545\n",
       "6 meses                                                                                                                                                                                                              489\n",
       "                                                                                                                                                                                                                   ...  \n",
       "Si no estás satisfecho con la compra de un producto, podés cambiarlo o devolverlo. La devuloción del producto será aceptada siempre y cuando sea devuelto en el mismo estado de conservación que fue entregado.        1\n",
       "todos nuestros productos tienen cambio y garantia                                                                                                                                                                      1\n",
       "Garantía y Calidad Lumilagro Argentina                                                                                                                                                                                 1\n",
       "12 meses , disco rigido 6 meses                                                                                                                                                                                        1\n",
       "Sí, garantía sobre el material (PVC) por 10 años.                                                                                                                                                                      1\n",
       "Name: warranty, Length: 9537, dtype: int64"
      ]
     },
     "execution_count": 41,
     "metadata": {},
     "output_type": "execute_result"
    }
   ],
   "source": [
    "df[\"warranty\"].value_counts(dropna=False)"
   ]
  },
  {
   "cell_type": "markdown",
   "id": "e3b36ea5-01d3-47c7-b398-39ed52af95e7",
   "metadata": {},
   "source": [
    "#### 2.4.9 Exploring column variations"
   ]
  },
  {
   "cell_type": "code",
   "execution_count": 42,
   "id": "242687fa-d90f-4ae0-af21-877c81561db4",
   "metadata": {
    "tags": []
   },
   "outputs": [
    {
     "ename": "TypeError",
     "evalue": "unhashable type: 'list'",
     "output_type": "error",
     "traceback": [
      "\u001b[0;31m---------------------------------------------------------------------------\u001b[0m",
      "\u001b[0;31mTypeError\u001b[0m                                 Traceback (most recent call last)",
      "\u001b[0;32mpandas/_libs/hashtable_class_helper.pxi\u001b[0m in \u001b[0;36mpandas._libs.hashtable.PyObjectHashTable.map_locations\u001b[0;34m()\u001b[0m\n",
      "\u001b[0;31mTypeError\u001b[0m: unhashable type: 'list'"
     ]
    },
    {
     "name": "stderr",
     "output_type": "stream",
     "text": [
      "Exception ignored in: 'pandas._libs.index.IndexEngine._call_map_locations'\n",
      "Traceback (most recent call last):\n",
      "  File \"pandas/_libs/hashtable_class_helper.pxi\", line 1709, in pandas._libs.hashtable.PyObjectHashTable.map_locations\n",
      "TypeError: unhashable type: 'list'\n"
     ]
    },
    {
     "data": {
      "text/plain": [
       "[]                                                                                                                                                                                                                                                                                                                                                                                                                                                                                                                                                                                82626\n",
       "[{'attribute_combinations': [{'value_id': '91998', 'name': 'Color Primario', 'value_name': 'Beige', 'id': '83000'}, {'value_id': '101996', 'name': 'Talle', 'value_name': 'L', 'id': '93000'}], 'seller_custom_field': None, 'picture_ids': ['850601-MLA20357179514_072015', '811601-MLA20357179547_072015', '158501-MLA20357178838_072015', '954601-MLA20357178869_072015', '956501-MLA20357178920_072015', '180601-MLA20357178956_072015'], 'sold_quantity': 0, 'available_quantity': 1, 'id': 9718676232, 'price': 550}]                                                           1\n",
       "[{'attribute_combinations': [{'value_id': '91996', 'name': 'Color Primario', 'value_name': 'Bordó', 'id': '83000'}, {'value_id': '101994', 'name': 'Talle', 'value_name': 'S', 'id': '93000'}], 'seller_custom_field': None, 'picture_ids': ['687801-MLA20396852217_082015'], 'sold_quantity': 0, 'available_quantity': 1, 'id': 9376831755, 'price': 100}]                                                                                                                                                                                                                           1\n",
       "[{'attribute_combinations': [{'value_id': '92014', 'name': 'Color Primario', 'value_name': 'Celeste', 'id': '83000'}, {'value_id': '82068', 'name': 'Talle', 'value_name': '38', 'id': '73002'}], 'seller_custom_field': None, 'picture_ids': ['886301-MLA20313126172_062015', '211401-MLA20313126188_062015', '307301-MLA20313126163_062015', '362401-MLA20313126185_062015'], 'sold_quantity': 0, 'available_quantity': 1, 'id': 9696690603, 'price': 850}]                                                                                                                         1\n",
       "[{'attribute_combinations': [{'value_id': '91994', 'name': 'Color Primario', 'value_name': 'Rosa', 'id': '83000'}, {'value_id': '82040', 'name': 'Color Secundario', 'value_name': 'Esmeralda', 'id': '73001'}, {'value_id': 'dd0db76', 'name': 'Talle', 'value_name': '3-6 M', 'id': '30000'}], 'seller_custom_field': None, 'picture_ids': ['4020-MLA131479599_759', '4015-MLA131479599_3210'], 'sold_quantity': 0, 'available_quantity': 1, 'id': 9716749267, 'price': 449.99}]                                                                                                    1\n",
       "                                                                                                                                                                                                                                                                                                                                                                                                                                                                                                                                                                                  ...  \n",
       "[{'attribute_combinations': [{'value_id': '92015', 'name': 'Color Primario', 'value_name': 'Azul acero', 'id': '83000'}, {'value_id': '101996', 'name': 'Talle', 'value_name': 'L', 'id': '93000'}], 'seller_custom_field': None, 'picture_ids': ['952801-MLA20399310830_082015', '964801-MLA20399311252_082015', '938801-MLA20399311249_082015'], 'sold_quantity': 0, 'available_quantity': 1, 'id': 9396977486, 'price': 200}]                                                                                                                                                      1\n",
       "[{'attribute_combinations': [{'value_id': '92028', 'name': 'Color Primario', 'value_name': 'Blanco', 'id': '83000'}, {'value_id': '101995', 'name': 'Talle', 'value_name': 'M', 'id': '93000'}], 'seller_custom_field': None, 'picture_ids': ['12595-MLA20061391460_032014', '12598-MLA20061392696_032014', '12581-MLA20061393139_032014', '12544-MLA20061393198_032014'], 'sold_quantity': 0, 'available_quantity': 1, 'id': 9708412340, 'price': 195}]                                                                                                                              1\n",
       "[{'attribute_combinations': [{'value_id': '92025', 'name': 'Color Primario', 'value_name': 'Negro', 'id': '83000'}], 'seller_custom_field': None, 'picture_ids': ['22998-MLA20239810522_022015', '22950-MLA20239810796_022015', '22987-MLA20239810335_022015', '22991-MLA20239809385_022015'], 'sold_quantity': 0, 'available_quantity': 10, 'id': 9615185654, 'price': 400}]                                                                                                                                                                                                         1\n",
       "[{'attribute_combinations': [{'value_id': '91998', 'name': 'Color Primario', 'value_name': 'Beige', 'id': '83000'}, {'value_id': '82041', 'name': 'Color Secundario', 'value_name': 'Verde oscuro', 'id': '73001'}, {'value_id': '82fd2e9', 'name': 'Talle', 'value_name': '9-12 M', 'id': '30000'}], 'seller_custom_field': None, 'picture_ids': ['10120-MLA20025256456_122013', '10112-MLA20025258517_122013', '10179-MLA20025258072_122013'], 'sold_quantity': 0, 'available_quantity': 1, 'id': 9414129041, 'price': 90}]                                                         1\n",
       "[{'attribute_combinations': [{'value_id': '92000', 'name': 'Color Primario', 'value_name': 'Marrón', 'id': '83000'}, {'value_id': '82046', 'name': 'Color Secundario', 'value_name': 'Azul', 'id': '73001'}, {'value_id': '101994', 'name': 'Talle', 'value_name': 'S', 'id': '93000'}], 'seller_custom_field': None, 'picture_ids': ['22181-MLA20224803473_012015', '22162-MLA20224803877_012015', '22117-MLA20224805092_012015', '21580-MLA20212629238_122014', '21504-MLA20212629189_122014'], 'sold_quantity': 0, 'available_quantity': 1, 'id': 9776436719, 'price': 80}]        1\n",
       "Name: variations, Length: 7375, dtype: int64"
      ]
     },
     "execution_count": 42,
     "metadata": {},
     "output_type": "execute_result"
    }
   ],
   "source": [
    "df[\"variations\"].value_counts(dropna=False)"
   ]
  },
  {
   "cell_type": "code",
   "execution_count": 43,
   "id": "0eb3a63b-78af-42b4-89ac-7c2cc626c055",
   "metadata": {},
   "outputs": [],
   "source": [
    "df[\"num_vars\"] = df.pop(\"variations\").apply(lambda x: len(x))"
   ]
  },
  {
   "cell_type": "markdown",
   "id": "7f780ddd-0b6c-4aa5-a28c-ac7c4a0b92c6",
   "metadata": {},
   "source": [
    "#### 2.4.10 Exploring column attributes"
   ]
  },
  {
   "cell_type": "code",
   "execution_count": 44,
   "id": "4d34bde0-5fe7-4c15-99ff-48c5d3ef9e7c",
   "metadata": {
    "tags": []
   },
   "outputs": [
    {
     "ename": "TypeError",
     "evalue": "unhashable type: 'list'",
     "output_type": "error",
     "traceback": [
      "\u001b[0;31m---------------------------------------------------------------------------\u001b[0m",
      "\u001b[0;31mTypeError\u001b[0m                                 Traceback (most recent call last)",
      "\u001b[0;32mpandas/_libs/hashtable_class_helper.pxi\u001b[0m in \u001b[0;36mpandas._libs.hashtable.PyObjectHashTable.map_locations\u001b[0;34m()\u001b[0m\n",
      "\u001b[0;31mTypeError\u001b[0m: unhashable type: 'list'"
     ]
    },
    {
     "name": "stderr",
     "output_type": "stream",
     "text": [
      "Exception ignored in: 'pandas._libs.index.IndexEngine._call_map_locations'\n",
      "Traceback (most recent call last):\n",
      "  File \"pandas/_libs/hashtable_class_helper.pxi\", line 1709, in pandas._libs.hashtable.PyObjectHashTable.map_locations\n",
      "TypeError: unhashable type: 'list'\n"
     ]
    },
    {
     "data": {
      "text/plain": [
       "[]                                                                                                                                                                                                                                                                                                                                                                                                                                                                                                                                                                                                                                                                                                                                                                                                                                                                                                                                                                                                                                                                                                                                                                                                                                                                                                                                                                                                                                                                                                                                                                                                                                                                                                                                                                                                                                                                                                                                                                                                                                                                                                                                                                                                                                                                                                                                                                                                                                                                                                                                                                                                                                                                                                                                                                                                                                                                                                                                                                                                                                                                                                                                                                                                                                                                                                                                                                                                                                                                                                                                                                                                                                                                                                                                                                                                                                                                                                                                                                                                                                                                                                                                                                                                                                                                                                                                                                                                                                                                                                                                                                                                                                                                                                                                                                                                                                                                                                                                                                                                                                                                                                                                                                                                                                                                                                                                                                                                                                                                                                                                                                                                                                                                                                                                                                                                                                                                                                                                                                                                                                                                                                                                                                                                                                                                                                                                                                                                                                                                                                                                                                                                                                                                                                                                                                                                                                                                                                                                                                                                                                                                                                                                                                                                                                                                                                                                                                                                                                                                                                                                                                                                                                                                                                                                                                                                                                                                                                                                                                                                                                                                                                                                                                                                                                                                                                                                                                                                                                                                                                                                                                                                                                                                                                                                                                                                                                                                                                                                                                                                                                                                                                                                                                                                                                                                                                                                                                                                                                                                                                                                                                                                                                                                                                                                                                                                                                                                                                                                                                                                                                                                                                                                                                                                                                                                                                                                                                                                                                                                                                                                                                                                                                                                                                                                                                                                                                                                                                                                                                                                                                                                                                                                                                                                                                                                                                                                                                                                                                                                                                                                                                                                                                                                                                                                                                                                                                                                                                                                                                                                                                                          78850\n",
       "[{'value_id': 'female', 'attribute_group_id': 'DFLT', 'name': 'Género', 'value_name': 'Mujer', 'attribute_group_name': 'Otros', 'id': 'GENDER'}, {'value_id': 'Season-All-Season', 'attribute_group_id': 'FIND', 'name': 'Season', 'value_name': 'All-Season', 'attribute_group_name': 'Ficha técnica', 'id': 'Season'}]                                                                                                                                                                                                                                                                                                                                                                                                                                                                                                                                                                                                                                                                                                                                                                                                                                                                                                                                                                                                                                                                                                                                                                                                                                                                                                                                                                                                                                                                                                                                                                                                                                                                                                                                                                                                                                                                                                                                                                                                                                                                                                                                                                                                                                                                                                                                                                                                                                                                                                                                                                                                                                                                                                                                                                                                                                                                                                                                                                                                                                                                                                                                                                                                                                                                                                                                                                                                                                                                                                                                                                                                                                                                                                                                                                                                                                                                                                                                                                                                                                                                                                                                                                                                                                                                                                                                                                                                                                                                                                                                                                                                                                                                                                                                                                                                                                                                                                                                                                                                                                                                                                                                                                                                                                                                                                                                                                                                                                                                                                                                                                                                                                                                                                                                                                                                                                                                                                                                                                                                                                                                                                                                                                                                                                                                                                                                                                                                                                                                                                                                                                                                                                                                                                                                                                                                                                                                                                                                                                                                                                                                                                                                                                                                                                                                                                                                                                                                                                                                                                                                                                                                                                                                                                                                                                                                                                                                                                                                                                                                                                                                                                                                                                                                                                                                                                                                                                                                                                                                                                                                                                                                                                                                                                                                                                                                                                                                                                                                                                                                                                                                                                                                                                                                                                                                                                                                                                                                                                                                                                                                                                                                                                                                                                                                                                                                                                                                                                                                                                                                                                                                                                                                                                                                                                                                                                                                                                                                                                                                                                                                                                                                                                                                                                                                                                                                                                                                                                                                                                                                                                                                                                                                                                                                                                                                                                                                                                                                                                                                                                                                                                                                                                                                                                                                     1039\n",
       "[{'value_id': 'female', 'attribute_group_id': 'DFLT', 'name': 'Género', 'value_name': 'Mujer', 'attribute_group_name': 'Otros', 'id': 'GENDER'}, {'value_id': 'Season-All-Season', 'attribute_group_id': 'DFLT', 'name': 'Season', 'value_name': 'All-Season', 'attribute_group_name': 'Otros', 'id': 'Season'}]                                                                                                                                                                                                                                                                                                                                                                                                                                                                                                                                                                                                                                                                                                                                                                                                                                                                                                                                                                                                                                                                                                                                                                                                                                                                                                                                                                                                                                                                                                                                                                                                                                                                                                                                                                                                                                                                                                                                                                                                                                                                                                                                                                                                                                                                                                                                                                                                                                                                                                                                                                                                                                                                                                                                                                                                                                                                                                                                                                                                                                                                                                                                                                                                                                                                                                                                                                                                                                                                                                                                                                                                                                                                                                                                                                                                                                                                                                                                                                                                                                                                                                                                                                                                                                                                                                                                                                                                                                                                                                                                                                                                                                                                                                                                                                                                                                                                                                                                                                                                                                                                                                                                                                                                                                                                                                                                                                                                                                                                                                                                                                                                                                                                                                                                                                                                                                                                                                                                                                                                                                                                                                                                                                                                                                                                                                                                                                                                                                                                                                                                                                                                                                                                                                                                                                                                                                                                                                                                                                                                                                                                                                                                                                                                                                                                                                                                                                                                                                                                                                                                                                                                                                                                                                                                                                                                                                                                                                                                                                                                                                                                                                                                                                                                                                                                                                                                                                                                                                                                                                                                                                                                                                                                                                                                                                                                                                                                                                                                                                                                                                                                                                                                                                                                                                                                                                                                                                                                                                                                                                                                                                                                                                                                                                                                                                                                                                                                                                                                                                                                                                                                                                                                                                                                                                                                                                                                                                                                                                                                                                                                                                                                                                                                                                                                                                                                                                                                                                                                                                                                                                                                                                                                                                                                                                                                                                                                                                                                                                                                                                                                                                                                                                                                                                                                              997\n",
       "[{'value_id': 'male', 'attribute_group_id': 'DFLT', 'name': 'Género', 'value_name': 'Hombre', 'attribute_group_name': 'Otros', 'id': 'GENDER'}, {'value_id': 'Season-All-Season', 'attribute_group_id': 'FIND', 'name': 'Season', 'value_name': 'All-Season', 'attribute_group_name': 'Ficha técnica', 'id': 'Season'}]                                                                                                                                                                                                                                                                                                                                                                                                                                                                                                                                                                                                                                                                                                                                                                                                                                                                                                                                                                                                                                                                                                                                                                                                                                                                                                                                                                                                                                                                                                                                                                                                                                                                                                                                                                                                                                                                                                                                                                                                                                                                                                                                                                                                                                                                                                                                                                                                                                                                                                                                                                                                                                                                                                                                                                                                                                                                                                                                                                                                                                                                                                                                                                                                                                                                                                                                                                                                                                                                                                                                                                                                                                                                                                                                                                                                                                                                                                                                                                                                                                                                                                                                                                                                                                                                                                                                                                                                                                                                                                                                                                                                                                                                                                                                                                                                                                                                                                                                                                                                                                                                                                                                                                                                                                                                                                                                                                                                                                                                                                                                                                                                                                                                                                                                                                                                                                                                                                                                                                                                                                                                                                                                                                                                                                                                                                                                                                                                                                                                                                                                                                                                                                                                                                                                                                                                                                                                                                                                                                                                                                                                                                                                                                                                                                                                                                                                                                                                                                                                                                                                                                                                                                                                                                                                                                                                                                                                                                                                                                                                                                                                                                                                                                                                                                                                                                                                                                                                                                                                                                                                                                                                                                                                                                                                                                                                                                                                                                                                                                                                                                                                                                                                                                                                                                                                                                                                                                                                                                                                                                                                                                                                                                                                                                                                                                                                                                                                                                                                                                                                                                                                                                                                                                                                                                                                                                                                                                                                                                                                                                                                                                                                                                                                                                                                                                                                                                                                                                                                                                                                                                                                                                                                                                                                                                                                                                                                                                                                                                                                                                                                                                                                                                                                                                                                       921\n",
       "[{'value_id': 'female', 'attribute_group_id': 'DFLT', 'name': 'Género', 'value_name': 'Mujer', 'attribute_group_name': 'Otros', 'id': 'GENDER'}, {'value_id': 'Season-Autumn-Winter', 'attribute_group_id': 'FIND', 'name': 'Season', 'value_name': 'Autumn-Winter', 'attribute_group_name': 'Ficha técnica', 'id': 'Season'}]                                                                                                                                                                                                                                                                                                                                                                                                                                                                                                                                                                                                                                                                                                                                                                                                                                                                                                                                                                                                                                                                                                                                                                                                                                                                                                                                                                                                                                                                                                                                                                                                                                                                                                                                                                                                                                                                                                                                                                                                                                                                                                                                                                                                                                                                                                                                                                                                                                                                                                                                                                                                                                                                                                                                                                                                                                                                                                                                                                                                                                                                                                                                                                                                                                                                                                                                                                                                                                                                                                                                                                                                                                                                                                                                                                                                                                                                                                                                                                                                                                                                                                                                                                                                                                                                                                                                                                                                                                                                                                                                                                                                                                                                                                                                                                                                                                                                                                                                                                                                                                                                                                                                                                                                                                                                                                                                                                                                                                                                                                                                                                                                                                                                                                                                                                                                                                                                                                                                                                                                                                                                                                                                                                                                                                                                                                                                                                                                                                                                                                                                                                                                                                                                                                                                                                                                                                                                                                                                                                                                                                                                                                                                                                                                                                                                                                                                                                                                                                                                                                                                                                                                                                                                                                                                                                                                                                                                                                                                                                                                                                                                                                                                                                                                                                                                                                                                                                                                                                                                                                                                                                                                                                                                                                                                                                                                                                                                                                                                                                                                                                                                                                                                                                                                                                                                                                                                                                                                                                                                                                                                                                                                                                                                                                                                                                                                                                                                                                                                                                                                                                                                                                                                                                                                                                                                                                                                                                                                                                                                                                                                                                                                                                                                                                                                                                                                                                                                                                                                                                                                                                                                                                                                                                                                                                                                                                                                                                                                                                                                                                                                                                                                                                                                                                                                724\n",
       "                                                                                                                                                                                                                                                                                                                                                                                                                                                                                                                                                                                                                                                                                                                                                                                                                                                                                                                                                                                                                                                                                                                                                                                                                                                                                                                                                                                                                                                                                                                                                                                                                                                                                                                                                                                                                                                                                                                                                                                                                                                                                                                                                                                                                                                                                                                                                                                                                                                                                                                                                                                                                                                                                                                                                                                                                                                                                                                                                                                                                                                                                                                                                                                                                                                                                                                                                                                                                                                                                                                                                                                                                                                                                                                                                                                                                                                                                                                                                                                                                                                                                                                                                                                                                                                                                                                                                                                                                                                                                                                                                                                                                                                                                                                                                                                                                                                                                                                                                                                                                                                                                                                                                                                                                                                                                                                                                                                                                                                                                                                                                                                                                                                                                                                                                                                                                                                                                                                                                                                                                                                                                                                                                                                                                                                                                                                                                                                                                                                                                                                                                                                                                                                                                                                                                                                                                                                                                                                                                                                                                                                                                                                                                                                                                                                                                                                                                                                                                                                                                                                                                                                                                                                                                                                                                                                                                                                                                                                                                                                                                                                                                                                                                                                                                                                                                                                                                                                                                                                                                                                                                                                                                                                                                                                                                                                                                                                                                                                                                                                                                                                                                                                                                                                                                                                                                                                                                                                                                                                                                                                                                                                                                                                                                                                                                                                                                                                                                                                                                                                                                                                                                                                                                                                                                                                                                                                                                                                                                                                                                                                                                                                                                                                                                                                                                                                                                                                                                                                                                                                                                                                                                                                                                                                                                                                                                                                                                                                                                                                                                                                                                                                                                                                                                                                                                                                                                                                                                                                                                                                                                                                            ...  \n",
       "[{'value_id': '', 'attribute_group_id': 'ADICIONALES', 'name': 'Horario de contacto', 'value_name': '', 'attribute_group_name': 'Adicionales', 'id': 'MLA1743-HORPREF'}, {'value_id': 'MLA1744-COLOREXT-BLANCO', 'attribute_group_id': 'ADICIONALES', 'name': 'Color', 'value_name': 'Blanco', 'attribute_group_name': 'Adicionales', 'id': 'MLA1744-COLOREXT'}, {'value_id': 'MLA1744-DIREC-ASISTIDA', 'attribute_group_id': 'ADICIONALES', 'name': 'Dirección', 'value_name': 'Asistida', 'attribute_group_name': 'Adicionales', 'id': 'MLA1744-DIREC'}, {'value_id': 'MLA1744-OWNER-SI', 'attribute_group_id': 'ADICIONALES', 'name': 'Único dueño', 'value_name': 'Sí', 'attribute_group_name': 'Adicionales', 'id': 'MLA1744-OWNER'}, {'value_id': 'MLA1744-AIRACON-Y', 'attribute_group_id': 'CONFORT', 'name': 'Aire acondicionado', 'value_name': 'Sí', 'attribute_group_name': 'Confort', 'id': 'MLA1744-AIRACON'}, {'value_id': 'MLA1744-ALARMLUC-Y', 'attribute_group_id': 'CONFORT', 'name': 'Alarma de luces encendidas', 'value_name': 'Sí', 'attribute_group_name': 'Confort', 'id': 'MLA1744-ALARMLUC'}, {'value_id': 'MLA1744-APERBAUL-Y', 'attribute_group_id': 'CONFORT', 'name': 'Apertura remota de baúl', 'value_name': 'Sí', 'attribute_group_name': 'Confort', 'id': 'MLA1744-APERBAUL'}, {'value_id': 'MLA1744-ASIENELEC-N', 'attribute_group_id': 'CONFORT', 'name': 'Asientos eléctricos', 'value_name': 'No', 'attribute_group_name': 'Confort', 'id': 'MLA1744-ASIENELEC'}, {'value_id': 'MLA1744-ASREBAT-N', 'attribute_group_id': 'CONFORT', 'name': 'Asiento trasero rebatible', 'value_name': 'No', 'attribute_group_name': 'Confort', 'id': 'MLA1744-ASREBAT'}, {'value_id': 'MLA1744-ASREGULA-Y', 'attribute_group_id': 'CONFORT', 'name': 'Asiento conductor regulable en altura', 'value_name': 'Sí', 'attribute_group_name': 'Confort', 'id': 'MLA1744-ASREGULA'}, {'value_id': 'MLA1744-BLQCNTDOOR-Y', 'attribute_group_id': 'CONFORT', 'name': 'Cierre centralizado de puertas', 'value_name': 'Sí', 'attribute_group_name': 'Confort', 'id': 'MLA1744-BLQCNTDOOR'}, {'value_id': 'MLA1744-CLIMAUT-N', 'attribute_group_id': 'CONFORT', 'name': 'Climatizador automático', 'value_name': 'No', 'attribute_group_name': 'Confort', 'id': 'MLA1744-CLIMAUT'}, {'value_id': 'MLA1744-COMPABO-N', 'attribute_group_id': 'CONFORT', 'name': 'Computadora de abordo', 'value_name': 'No', 'attribute_group_name': 'Confort', 'id': 'MLA1744-COMPABO'}, {'value_id': 'MLA1744-CTRLVEL-N', 'attribute_group_id': 'CONFORT', 'name': 'Control de velocidad de crucero', 'value_name': 'No', 'attribute_group_name': 'Confort', 'id': 'MLA1744-CTRLVEL'}, {'value_id': 'MLA1744-ESPELEC-Y', 'attribute_group_id': 'CONFORT', 'name': 'Espejos eléctricos', 'value_name': 'Sí', 'attribute_group_name': 'Confort', 'id': 'MLA1744-ESPELEC'}, {'value_id': 'MLA1744-ESTACIONAM-N', 'attribute_group_id': 'CONFORT', 'name': 'Sensor de estacionamiento', 'value_name': 'No', 'attribute_group_name': 'Confort', 'id': 'MLA1744-ESTACIONAM'}, {'value_id': 'MLA1744-FAROREG-N', 'attribute_group_id': 'CONFORT', 'name': 'Faros regulables desde el interior', 'value_name': 'No', 'attribute_group_name': 'Confort', 'id': 'MLA1744-FAROREG'}, {'value_id': 'MLA1744-GPS-N', 'attribute_group_id': 'CONFORT', 'name': 'GPS', 'value_name': 'No', 'attribute_group_name': 'Confort', 'id': 'MLA1744-GPS'}, {'value_id': 'MLA1744-SENSLL-N', 'attribute_group_id': 'CONFORT', 'name': 'Sensor de lluvia', 'value_name': 'No', 'attribute_group_name': 'Confort', 'id': 'MLA1744-SENSLL'}, {'value_id': 'MLA1744-SENSLUZ-N', 'attribute_group_id': 'CONFORT', 'name': 'Sensor de luz', 'value_name': 'No', 'attribute_group_name': 'Confort', 'id': 'MLA1744-SENSLUZ'}, {'value_id': 'MLA1744-TAPCUERO-N', 'attribute_group_id': 'CONFORT', 'name': 'Tapizado de cuero', 'value_name': 'No', 'attribute_group_name': 'Confort', 'id': 'MLA1744-TAPCUERO'}, {'value_id': 'MLA1744-TECHOCORR-N', 'attribute_group_id': 'CONFORT', 'name': 'Techo corredizo', 'value_name': 'No', 'attribute_group_name': 'Confort', 'id': 'MLA1744-TECHOCORR'}, {'value_id': 'MLA1744-VIDELEC-Y', 'attribute_group_id': 'CONFORT', 'name': 'Cristales eléctricos', 'value_name': 'Sí', 'attribute_group_name': 'Confort', 'id': 'MLA1744-VIDELEC'}, {'value_id': 'MLA1744-LIMPIA/LAV-N', 'attribute_group_id': 'EXTERIOR', 'name': 'Limpia/lava luneta', 'value_name': 'No', 'attribute_group_name': 'Exterior', 'id': 'MLA1744-LIMPIA_LAV'}, {'value_id': 'MLA1744-LLANALEAC-Y', 'attribute_group_id': 'EXTERIOR', 'name': 'Llantas de aleación', 'value_name': 'Sí', 'attribute_group_name': 'Exterior', 'id': 'MLA1744-LLANALEAC'}, {'value_id': 'MLA1744-PARAGOLPES-N', 'attribute_group_id': 'EXTERIOR', 'name': 'Paragolpes pintados', 'value_name': 'No', 'attribute_group_name': 'Exterior', 'id': 'MLA1744-PARAGOLPES'}, {'value_id': 'MLA1744-VIDPOLARIZ-Y', 'attribute_group_id': 'EXTERIOR', 'name': 'Vidrios polarizados', 'value_name': 'Sí', 'attribute_group_name': 'Exterior', 'id': 'MLA1744-VIDPOLARIZ'}, {'value_id': 'MLA1744-COMBUS-NAFTA', 'attribute_group_id': 'FIND', 'name': 'Combustible', 'value_name': 'Nafta', 'attribute_group_name': 'Ficha técnica', 'id': 'MLA1744-COMBUS'}, {'value_id': 'MLA1744-DOOR-5', 'attribute_group_id': 'FIND', 'name': 'Cant. de puertas', 'value_name': '5', 'attribute_group_name': 'Ficha técnica', 'id': 'MLA1744-DOOR'}, {'value_id': '', 'attribute_group_id': 'FIND', 'name': 'Kilómetros', 'value_name': '90000', 'attribute_group_name': 'Ficha técnica', 'id': 'MLA1744-KMTS'}, {'value_id': 'MLA1744-MARC-FIAT', 'attribute_group_id': 'FIND', 'name': 'Marca', 'value_name': 'Fiat', 'attribute_group_name': 'Ficha técnica', 'id': 'MLA1744-MARC'}, {'value_id': 'MLA1744-MODL-SIENA', 'attribute_group_id': 'FIND', 'name': 'Modelo', 'value_name': 'Siena', 'attribute_group_name': 'Ficha técnica', 'id': 'MLA1744-MODL'}, {'value_id': 'MLA1744-TRANS-MANUAL', 'attribute_group_id': 'FIND', 'name': 'Transmisión', 'value_name': 'Manual', 'attribute_group_name': 'Ficha técnica', 'id': 'MLA1744-TRANS'}, {'value_id': 'MLA1744-YEAR-2011', 'attribute_group_id': 'FIND', 'name': 'Año', 'value_name': '2011', 'attribute_group_name': 'Ficha técnica', 'id': 'MLA1744-YEAR'}, {'value_id': 'MLA0140019062-MLA24320', 'attribute_group_id': 'FIND', 'name': 'Versión', 'value_name': 'Essence 1.6 16v Pack Emotion (L10)', 'attribute_group_name': 'Ficha técnica', 'id': 'MLA24320-VERS'}, {'value_id': 'MLA1744-3LUZSTOP-N', 'attribute_group_id': 'SECURITY', 'name': 'Tercer stop', 'value_name': 'No', 'attribute_group_name': 'Seguridad', 'id': 'MLA1744-3LUZSTOP'}, {'value_id': 'MLA1744-ABS-Y', 'attribute_group_id': 'SECURITY', 'name': 'Frenos ABS', 'value_name': 'Sí', 'attribute_group_name': 'Seguridad', 'id': 'MLA1744-ABS'}, {'value_id': 'MLA1744-AIR1-Y', 'attribute_group_id': 'SECURITY', 'name': 'Airbag conductor', 'value_name': 'Sí', 'attribute_group_name': 'Seguridad', 'id': 'MLA1744-AIR1'}, {'value_id': 'MLA1744-AIR2-Y', 'attribute_group_id': 'SECURITY', 'name': 'Airbag pasajero', 'value_name': 'Sí', 'attribute_group_name': 'Seguridad', 'id': 'MLA1744-AIR2'}, {'value_id': 'MLA1744-AIR3-Y', 'attribute_group_id': 'SECURITY', 'name': 'Airbag laterales', 'value_name': 'Sí', 'attribute_group_name': 'Seguridad', 'id': 'MLA1744-AIR3'}, {'value_id': 'MLA1744-AIRBAGCORT-N', 'attribute_group_id': 'SECURITY', 'name': 'Airbag de cortina', 'value_name': 'No', 'attribute_group_name': 'Seguridad', 'id': 'MLA1744-AIRBAGCORT'}, {'value_id': 'MLA1744-ALAR-Y', 'attribute_group_id': 'SECURITY', 'name': 'Alarma', 'value_name': 'Sí', 'attribute_group_name': 'Seguridad', 'id': 'MLA1744-ALAR'}, {'value_id': 'MLA1744-APCABEZA-Y', 'attribute_group_id': 'SECURITY', 'name': 'Apoya cabeza en asientos traseros', 'value_name': 'Sí', 'attribute_group_name': 'Seguridad', 'id': 'MLA1744-APCABEZA'}, {'value_id': 'MLA1744-BLIND-N', 'attribute_group_id': 'SECURITY', 'name': 'Blindado', 'value_name': 'No', 'attribute_group_name': 'Seguridad', 'id': 'MLA1744-BLIND'}, {'value_id': 'MLA1744-CNTTRACC-N', 'attribute_group_id': 'SECURITY', 'name': 'Control de tracción', 'value_name': 'No', 'attribute_group_name': 'Seguridad', 'id': 'MLA1744-CNTTRACC'}, {'value_id': 'MLA1744-CONTR-N', 'attribute_group_id': 'SECURITY', 'name': 'Control de estabilidad', 'value_name': 'No', 'attribute_group_name': 'Seguridad', 'id': 'MLA1744-CONTR'}, {'value_id': 'MLA1744-DOBTRACC-N', 'attribute_group_id': 'SECURITY', 'name': 'Doble tracción', 'value_name': 'No', 'attribute_group_name': 'Seguridad', 'id': 'MLA1744-DOBTRACC'}, {'value_id': 'MLA1744-FARANTI-Y', 'attribute_group_id': 'SECURITY', 'name': 'Faros antinieblas delanteros', 'value_name': 'Sí', 'attribute_group_name': 'Seguridad', 'id': 'MLA1744-FARANTI'}, {'value_id': 'MLA1744-FAROXEN-N', 'attribute_group_id': 'SECURITY', 'name': 'Faros de xenón', 'value_name': 'No', 'attribute_group_name': 'Seguridad', 'id': 'MLA1744-FAROXEN'}, {'value_id': 'MLA1744-INMOVMOT-N', 'attribute_group_id': 'SECURITY', 'name': 'Inmovilizador de motor', 'value_name': 'No', 'attribute_group_name': 'Seguridad', 'id': 'MLA1744-INMOVMOT'}, {'value_id': 'MLA1744-ISOFIX-N', 'attribute_group_id': 'SECURITY', 'name': 'Isofix', 'value_name': 'No', 'attribute_group_name': 'Seguridad', 'id': 'MLA1744-ISOFIX'}, {'value_id': 'MLA1744-NEBLTRAS-N', 'attribute_group_id': 'SECURITY', 'name': 'Faros antinieblas traseros', 'value_name': 'No', 'attribute_group_name': 'Seguridad', 'id': 'MLA1744-NEBLTRAS'}, {'value_id': 'MLA1744-REPFUERZA-N', 'attribute_group_id': 'SECURITY', 'name': 'Repartidor electrónico de fuerza de frenado', 'value_name': 'No', 'attribute_group_name': 'Seguridad', 'id': 'MLA1744-REPFUERZA'}, {'value_id': 'MLA1744-AM/FM-Y', 'attribute_group_id': 'SONIDO', 'name': 'AM/FM', 'value_name': 'Sí', 'attribute_group_name': 'Sonido', 'id': 'MLA1744-AM_FM'}, {'value_id': 'MLA1744-BLUETOOTH-N', 'attribute_group_id': 'SONIDO', 'name': 'Bluetooth', 'value_name': 'No', 'attribute_group_name': 'Sonido', 'id': 'MLA1744-BLUETOOTH'}, {'value_id': 'MLA1744-CAJACD-N', 'attribute_group_id': 'SONIDO', 'name': 'Caja de CD', 'value_name': 'No', 'attribute_group_name': 'Sonido', 'id': 'MLA1744-CAJACD'}, {'value_id': 'MLA1744-CARGADORCD-N', 'attribute_group_id': 'SONIDO', 'name': 'Cargador de CD', 'value_name': 'No', 'attribute_group_name': 'Sonido', 'id': 'MLA1744-CARGADORCD'}, {'value_id': 'MLA1744-CASET-N', 'attribute_group_id': 'SONIDO', 'name': 'Pasacassette', 'value_name': 'No', 'attribute_group_name': 'Sonido', 'id': 'MLA1744-CASET'}, {'value_id': 'MLA1744-COMANDOSAT-N', 'attribute_group_id': 'SONIDO', 'name': 'Comando satelital de stereo', 'value_name': 'No', 'attribute_group_name': 'Sonido', 'id': 'MLA1744-COMANDOSAT'}, {'value_id': 'MLA1744-DVD-N', 'attribute_group_id': 'SONIDO', 'name': 'DVD', 'value_name': 'No', 'attribute_group_name': 'Sonido', 'id': 'MLA1744-DVD'}, {'value_id': 'MLA1744-ENTAUXILIA-Y', 'attribute_group_id': 'SONIDO', 'name': 'Entrada auxiliar', 'value_name': 'Sí', 'attribute_group_name': 'Sonido', 'id': 'MLA1744-ENTAUXILIA'}, {'value_id': 'MLA1744-MP3-Y', 'attribute_group_id': 'SONIDO', 'name': 'MP3', 'value_name': 'Sí', 'attribute_group_name': 'Sonido', 'id': 'MLA1744-MP3'}, {'value_id': 'MLA1744-REPRODCD-Y', 'attribute_group_id': 'SONIDO', 'name': 'CD', 'value_name': 'Sí', 'attribute_group_name': 'Sonido', 'id': 'MLA1744-REPRODCD'}, {'value_id': 'MLA1744-TARJETASD-N', 'attribute_group_id': 'SONIDO', 'name': 'Tarjeta SD', 'value_name': 'No', 'attribute_group_name': 'Sonido', 'id': 'MLA1744-TARJETASD'}, {'value_id': 'MLA1744-USB-Y', 'attribute_group_id': 'SONIDO', 'name': 'Entrada USB', 'value_name': 'Sí', 'attribute_group_name': 'Sonido', 'id': 'MLA1744-USB'}]        1\n",
       "[{'value_id': '', 'attribute_group_id': 'ADICIONALES', 'name': 'Horario de contacto', 'value_name': '', 'attribute_group_name': 'Adicionales', 'id': 'MLA1459-HORPREF'}, {'value_id': 'MLA1475-ESTADO-BUENO', 'attribute_group_id': 'ADICIONALES', 'name': 'Estado del inmueble', 'value_name': 'Bueno', 'attribute_group_name': 'Adicionales', 'id': 'MLA1475-ESTADO'}, {'value_id': '', 'attribute_group_id': 'ADICIONALES', 'name': 'Expensas ($)', 'value_name': '', 'attribute_group_name': 'Adicionales', 'id': 'MLA1475-EXPENCEM'}, {'value_id': '', 'attribute_group_id': 'ADICIONALES', 'name': 'Cocheras', 'value_name': '', 'attribute_group_name': 'Adicionales', 'id': 'MLA1475-GARAGE'}, {'value_id': '', 'attribute_group_id': 'ADICIONALES', 'name': 'Luminosidad', 'value_name': '', 'attribute_group_name': 'Adicionales', 'id': 'MLA1475-LUMINOS'}, {'value_id': '', 'attribute_group_id': 'ADICIONALES', 'name': 'Plantas', 'value_name': '', 'attribute_group_name': 'Adicionales', 'id': 'MLA1475-PISOSQTY'}, {'value_id': 'MLA1475-AIRCEN-N', 'attribute_group_id': 'CARACTERISTICAS', 'name': 'Aire acondicionado', 'value_name': 'No', 'attribute_group_name': 'Caracteristicas Adicionales', 'id': 'MLA1475-AIRCEN'}, {'value_id': 'MLA1475-ALAR-N', 'attribute_group_id': 'CARACTERISTICAS', 'name': 'Alarma', 'value_name': 'No', 'attribute_group_name': 'Caracteristicas Adicionales', 'id': 'MLA1475-ALAR'}, {'value_id': 'MLA1475-CALEF-N', 'attribute_group_id': 'CARACTERISTICAS', 'name': 'Calefacción', 'value_name': 'No', 'attribute_group_name': 'Caracteristicas Adicionales', 'id': 'MLA1475-CALEF'}, {'value_id': 'MLA1475-COCI-Y', 'attribute_group_id': 'CARACTERISTICAS', 'name': 'Cocina', 'value_name': 'Sí', 'attribute_group_name': 'Caracteristicas Adicionales', 'id': 'MLA1475-COCI'}, {'value_id': 'MLA1475-COME-N', 'attribute_group_id': 'CARACTERISTICAS', 'name': 'Comedor', 'value_name': 'No', 'attribute_group_name': 'Caracteristicas Adicionales', 'id': 'MLA1475-COME'}, {'value_id': 'MLA1475-FUERMO-N', 'attribute_group_id': 'CARACTERISTICAS', 'name': 'Fuerza motriz', 'value_name': 'No', 'attribute_group_name': 'Caracteristicas Adicionales', 'id': 'MLA1475-FUERMO'}, {'value_id': 'MLA1475-INSPARR-N', 'attribute_group_id': 'CARACTERISTICAS', 'name': 'Instalación parrilla', 'value_name': 'No', 'attribute_group_name': 'Caracteristicas Adicionales', 'id': 'MLA1475-INSPARR'}, {'value_id': 'MLA1475-MONTA-N', 'attribute_group_id': 'CARACTERISTICAS', 'name': 'Montacarga', 'value_name': 'No', 'attribute_group_name': 'Caracteristicas Adicionales', 'id': 'MLA1475-MONTA'}, {'value_id': 'MLA1475-OFICINAS-Y', 'attribute_group_id': 'CARACTERISTICAS', 'name': 'Oficinas', 'value_name': 'Sí', 'attribute_group_name': 'Caracteristicas Adicionales', 'id': 'MLA1475-OFICINAS'}, {'value_id': 'MLA1475-PLAZAMA-N', 'attribute_group_id': 'CARACTERISTICAS', 'name': 'Plaza de maniobras', 'value_name': 'No', 'attribute_group_name': 'Caracteristicas Adicionales', 'id': 'MLA1475-PLAZAMA'}, {'value_id': 'MLA1475-PUERTAB-N', 'attribute_group_id': 'CARACTERISTICAS', 'name': 'Puerta blindada', 'value_name': 'No', 'attribute_group_name': 'Caracteristicas Adicionales', 'id': 'MLA1475-PUERTAB'}, {'value_id': 'MLA1475-SEGUR-N', 'attribute_group_id': 'CARACTERISTICAS', 'name': 'Seguridad', 'value_name': 'No', 'attribute_group_name': 'Caracteristicas Adicionales', 'id': 'MLA1475-SEGUR'}, {'value_id': 'MLA1475-TANQAGUA-N', 'attribute_group_id': 'CARACTERISTICAS', 'name': 'Tanque de agua', 'value_name': 'No', 'attribute_group_name': 'Caracteristicas Adicionales', 'id': 'MLA1475-TANQAGUA'}, {'value_id': 'MLA1475-TANQUEIN-N', 'attribute_group_id': 'CARACTERISTICAS', 'name': 'Tanque de incendio', 'value_name': 'No', 'attribute_group_name': 'Caracteristicas Adicionales', 'id': 'MLA1475-TANQUEIN'}, {'value_id': 'MLA1475-TELEF-Y', 'attribute_group_id': 'CARACTERISTICAS', 'name': 'Teléfono', 'value_name': 'Sí', 'attribute_group_name': 'Caracteristicas Adicionales', 'id': 'MLA1475-TELEF'}, {'value_id': 'MLA1475-TERMOT-N', 'attribute_group_id': 'CARACTERISTICAS', 'name': 'Termotanque', 'value_name': 'No', 'attribute_group_name': 'Caracteristicas Adicionales', 'id': 'MLA1475-TERMOT'}, {'value_id': 'MLA1475-TERRAZACL-N', 'attribute_group_id': 'CARACTERISTICAS', 'name': 'Terraza', 'value_name': 'No', 'attribute_group_name': 'Caracteristicas Adicionales', 'id': 'MLA1475-TERRAZACL'}, {'value_id': 'MLA1475-TVXCABDCL-N', 'attribute_group_id': 'CARACTERISTICAS', 'name': 'TV por cable', 'value_name': 'No', 'attribute_group_name': 'Caracteristicas Adicionales', 'id': 'MLA1475-TVXCABDCL'}, {'value_id': 'MLA1475-VESTUA-N', 'attribute_group_id': 'CARACTERISTICAS', 'name': 'Vestuarios', 'value_name': 'No', 'attribute_group_name': 'Caracteristicas Adicionales', 'id': 'MLA1475-VESTUA'}, {'value_id': 'MLA1475-VIVIENDA-N', 'attribute_group_id': 'CARACTERISTICAS', 'name': 'Vivienda', 'value_name': 'No', 'attribute_group_name': 'Caracteristicas Adicionales', 'id': 'MLA1475-VIVIENDA'}, {'value_id': 'MLA1459-INMUEBLE-DEPOSITOS_Y_GALPONES', 'attribute_group_id': 'FIND', 'name': 'Inmueble', 'value_name': 'Depósitos y Galpones', 'attribute_group_name': 'Ficha técnica', 'id': 'MLA1459-INMUEBLE'}, {'value_id': 'MLA1459-OPERACION-ALQUILER', 'attribute_group_id': 'FIND', 'name': 'Operación', 'value_name': 'Alquiler', 'attribute_group_name': 'Ficha técnica', 'id': 'MLA1459-OPERACION'}, {'value_id': '', 'attribute_group_id': 'FIND', 'name': 'Altura del techo (m)', 'value_name': '', 'attribute_group_name': 'Ficha técnica', 'id': 'MLA1475-ALTUTE'}, {'value_id': 'MLA1475-ANTIG-MAS_DE_40_ANOS', 'attribute_group_id': 'FIND', 'name': 'Antigüedad', 'value_name': 'Más de 40 años', 'attribute_group_name': 'Ficha técnica', 'id': 'MLA1475-ANTIG'}, {'value_id': '', 'attribute_group_id': 'FIND', 'name': 'Baños', 'value_name': '', 'attribute_group_name': 'Ficha técnica', 'id': 'MLA1475-BATHQTY'}, {'value_id': '', 'attribute_group_id': 'FIND', 'name': 'Sup playa de estacionamiento (m2)', 'value_name': '', 'attribute_group_name': 'Ficha técnica', 'id': 'MLA1475-ESTACCL'}, {'value_id': '', 'attribute_group_id': 'FIND', 'name': 'F.O.T (Factor de Ocupación Total)', 'value_name': '', 'attribute_group_name': 'Ficha técnica', 'id': 'MLA1475-F.O.T'}, {'value_id': '', 'attribute_group_id': 'FIND', 'name': 'Largo del terreno (mts)', 'value_name': '', 'attribute_group_name': 'Ficha técnica', 'id': 'MLA1475-LARGOT'}, {'value_id': '', 'attribute_group_id': 'FIND', 'name': 'Superficie cubierta (m²)', 'value_name': '318', 'attribute_group_name': 'Ficha técnica', 'id': 'MLA1475-MTRS'}, {'value_id': '', 'attribute_group_id': 'FIND', 'name': 'Frente del terreno (mts)', 'value_name': '', 'attribute_group_name': 'Ficha técnica', 'id': 'MLA1475-MTRSFRENTE'}, {'value_id': '', 'attribute_group_id': 'FIND', 'name': 'Superficie total (m²)', 'value_name': '330', 'attribute_group_name': 'Ficha técnica', 'id': 'MLA1475-MTRSTOTAL'}, {'value_id': 'MLA1475-TIPOINMUEB-DEPOSITO', 'attribute_group_id': 'FIND', 'name': 'Tipo de inmueble', 'value_name': 'Depósito', 'attribute_group_name': 'Ficha técnica', 'id': 'MLA1475-TIPOINMUEB'}]                                                                                                                                                                                                                                                                                                                                                                                                                                                                                                                                                                                                                                                                                                                                                                                                                                                                                                                                                                                                                                                                                                                                                                                                                                                                                                                                                                                                                                                                                                                                                                                                                                                                                                                                                                                                                                                                                                                                                                                                                                                                                                                                                                                                                                                                                                                                                                                                                                                                                                                                                                                                                                                                                                                                                                                                                                                                                                                                                                                                                                                                                                                                                                                                                                                                                                                                                                                                                                                                                                                                                                                                                                                                                                                                                                                                                                                                                                                                                                                                                                                                                                                                                                                                                                                                                                                                                                                                                                                                                                                                                                                                                                                                                1\n",
       "[{'value_id': '', 'attribute_group_id': 'DFLT', 'name': 'Número pieza', 'value_name': '', 'attribute_group_name': 'Otros', 'id': 'MLA-PART_NUMBER'}, {'value_id': '', 'attribute_group_id': 'DFLT', 'name': 'Número de pieza', 'value_name': '5750.VX', 'attribute_group_name': 'Otros', 'id': 'PART_NUMBER'}]                                                                                                                                                                                                                                                                                                                                                                                                                                                                                                                                                                                                                                                                                                                                                                                                                                                                                                                                                                                                                                                                                                                                                                                                                                                                                                                                                                                                                                                                                                                                                                                                                                                                                                                                                                                                                                                                                                                                                                                                                                                                                                                                                                                                                                                                                                                                                                                                                                                                                                                                                                                                                                                                                                                                                                                                                                                                                                                                                                                                                                                                                                                                                                                                                                                                                                                                                                                                                                                                                                                                                                                                                                                                                                                                                                                                                                                                                                                                                                                                                                                                                                                                                                                                                                                                                                                                                                                                                                                                                                                                                                                                                                                                                                                                                                                                                                                                                                                                                                                                                                                                                                                                                                                                                                                                                                                                                                                                                                                                                                                                                                                                                                                                                                                                                                                                                                                                                                                                                                                                                                                                                                                                                                                                                                                                                                                                                                                                                                                                                                                                                                                                                                                                                                                                                                                                                                                                                                                                                                                                                                                                                                                                                                                                                                                                                                                                                                                                                                                                                                                                                                                                                                                                                                                                                                                                                                                                                                                                                                                                                                                                                                                                                                                                                                                                                                                                                                                                                                                                                                                                                                                                                                                                                                                                                                                                                                                                                                                                                                                                                                                                                                                                                                                                                                                                                                                                                                                                                                                                                                                                                                                                                                                                                                                                                                                                                                                                                                                                                                                                                                                                                                                                                                                                                                                                                                                                                                                                                                                                                                                                                                                                                                                                                                                                                                                                                                                                                                                                                                                                                                                                                                                                                                                                                                                                                                                                                                                                                                                                                                                                                                                                                                                                                                                                                  1\n",
       "[{'value_id': '', 'attribute_group_id': 'DFLT', 'name': 'Número pieza', 'value_name': '59014', 'attribute_group_name': 'Otros', 'id': 'MLA-PART_NUMBER'}, {'value_id': '', 'attribute_group_id': 'DFLT', 'name': 'Número de pieza', 'value_name': '', 'attribute_group_name': 'Otros', 'id': 'PART_NUMBER'}]                                                                                                                                                                                                                                                                                                                                                                                                                                                                                                                                                                                                                                                                                                                                                                                                                                                                                                                                                                                                                                                                                                                                                                                                                                                                                                                                                                                                                                                                                                                                                                                                                                                                                                                                                                                                                                                                                                                                                                                                                                                                                                                                                                                                                                                                                                                                                                                                                                                                                                                                                                                                                                                                                                                                                                                                                                                                                                                                                                                                                                                                                                                                                                                                                                                                                                                                                                                                                                                                                                                                                                                                                                                                                                                                                                                                                                                                                                                                                                                                                                                                                                                                                                                                                                                                                                                                                                                                                                                                                                                                                                                                                                                                                                                                                                                                                                                                                                                                                                                                                                                                                                                                                                                                                                                                                                                                                                                                                                                                                                                                                                                                                                                                                                                                                                                                                                                                                                                                                                                                                                                                                                                                                                                                                                                                                                                                                                                                                                                                                                                                                                                                                                                                                                                                                                                                                                                                                                                                                                                                                                                                                                                                                                                                                                                                                                                                                                                                                                                                                                                                                                                                                                                                                                                                                                                                                                                                                                                                                                                                                                                                                                                                                                                                                                                                                                                                                                                                                                                                                                                                                                                                                                                                                                                                                                                                                                                                                                                                                                                                                                                                                                                                                                                                                                                                                                                                                                                                                                                                                                                                                                                                                                                                                                                                                                                                                                                                                                                                                                                                                                                                                                                                                                                                                                                                                                                                                                                                                                                                                                                                                                                                                                                                                                                                                                                                                                                                                                                                                                                                                                                                                                                                                                                                                                                                                                                                                                                                                                                                                                                                                                                                                                                                                                                                                    1\n",
       "[{'value_id': '', 'attribute_group_id': 'DFLT', 'name': 'Número pieza', 'value_name': 'ldz481932', 'attribute_group_name': 'Otros', 'id': 'MLA-PART_NUMBER'}, {'value_id': '', 'attribute_group_id': 'DFLT', 'name': 'Número de pieza', 'value_name': 'ldz481932', 'attribute_group_name': 'Otros', 'id': 'PART_NUMBER'}]                                                                                                                                                                                                                                                                                                                                                                                                                                                                                                                                                                                                                                                                                                                                                                                                                                                                                                                                                                                                                                                                                                                                                                                                                                                                                                                                                                                                                                                                                                                                                                                                                                                                                                                                                                                                                                                                                                                                                                                                                                                                                                                                                                                                                                                                                                                                                                                                                                                                                                                                                                                                                                                                                                                                                                                                                                                                                                                                                                                                                                                                                                                                                                                                                                                                                                                                                                                                                                                                                                                                                                                                                                                                                                                                                                                                                                                                                                                                                                                                                                                                                                                                                                                                                                                                                                                                                                                                                                                                                                                                                                                                                                                                                                                                                                                                                                                                                                                                                                                                                                                                                                                                                                                                                                                                                                                                                                                                                                                                                                                                                                                                                                                                                                                                                                                                                                                                                                                                                                                                                                                                                                                                                                                                                                                                                                                                                                                                                                                                                                                                                                                                                                                                                                                                                                                                                                                                                                                                                                                                                                                                                                                                                                                                                                                                                                                                                                                                                                                                                                                                                                                                                                                                                                                                                                                                                                                                                                                                                                                                                                                                                                                                                                                                                                                                                                                                                                                                                                                                                                                                                                                                                                                                                                                                                                                                                                                                                                                                                                                                                                                                                                                                                                                                                                                                                                                                                                                                                                                                                                                                                                                                                                                                                                                                                                                                                                                                                                                                                                                                                                                                                                                                                                                                                                                                                                                                                                                                                                                                                                                                                                                                                                                                                                                                                                                                                                                                                                                                                                                                                                                                                                                                                                                                                                                                                                                                                                                                                                                                                                                                                                                                                                                                                                                                       1\n",
       "Name: attributes, Length: 3118, dtype: int64"
      ]
     },
     "execution_count": 44,
     "metadata": {},
     "output_type": "execute_result"
    }
   ],
   "source": [
    "df[\"attributes\"].value_counts(dropna=False)"
   ]
  },
  {
   "cell_type": "code",
   "execution_count": 45,
   "id": "ae230e24-3df8-4833-89a9-19d316d7a032",
   "metadata": {},
   "outputs": [],
   "source": [
    "df[\"num_att\"] = df.pop(\"attributes\").apply(lambda x: len(x))"
   ]
  },
  {
   "cell_type": "markdown",
   "id": "2536e740-7a8a-4b41-af8f-b64fd493d92b",
   "metadata": {},
   "source": [
    "<h3> After converting and removing additional columns, we get:<h3/>"
   ]
  },
  {
   "cell_type": "code",
   "execution_count": 46,
   "id": "822362b6-32d0-4d58-bf8e-254b739146d8",
   "metadata": {},
   "outputs": [
    {
     "data": {
      "text/html": [
       "<div>\n",
       "<style scoped>\n",
       "    .dataframe tbody tr th:only-of-type {\n",
       "        vertical-align: middle;\n",
       "    }\n",
       "\n",
       "    .dataframe tbody tr th {\n",
       "        vertical-align: top;\n",
       "    }\n",
       "\n",
       "    .dataframe thead th {\n",
       "        text-align: right;\n",
       "    }\n",
       "</style>\n",
       "<table border=\"1\" class=\"dataframe\">\n",
       "  <thead>\n",
       "    <tr style=\"text-align: right;\">\n",
       "      <th></th>\n",
       "      <th>warranty</th>\n",
       "      <th>condition</th>\n",
       "      <th>base_price</th>\n",
       "      <th>listing_type_id</th>\n",
       "      <th>price</th>\n",
       "      <th>buying_mode</th>\n",
       "      <th>tags</th>\n",
       "      <th>category_id</th>\n",
       "      <th>pictures</th>\n",
       "      <th>accepts_mercadopago</th>\n",
       "      <th>title</th>\n",
       "      <th>automatic_relist</th>\n",
       "      <th>initial_quantity</th>\n",
       "      <th>sold_quantity</th>\n",
       "      <th>available_quantity</th>\n",
       "      <th>non_mercado_pago</th>\n",
       "      <th>shipping_mode</th>\n",
       "      <th>num_vars</th>\n",
       "      <th>num_att</th>\n",
       "    </tr>\n",
       "  </thead>\n",
       "  <tbody>\n",
       "    <tr>\n",
       "      <th>0</th>\n",
       "      <td>None</td>\n",
       "      <td>new</td>\n",
       "      <td>80.0</td>\n",
       "      <td>bronze</td>\n",
       "      <td>80.0</td>\n",
       "      <td>buy_it_now</td>\n",
       "      <td>[dragged_bids_and_visits]</td>\n",
       "      <td>MLA126406</td>\n",
       "      <td>2</td>\n",
       "      <td>True</td>\n",
       "      <td>Auriculares Samsung Originales Manos Libres Ca...</td>\n",
       "      <td>False</td>\n",
       "      <td>1</td>\n",
       "      <td>0</td>\n",
       "      <td>1</td>\n",
       "      <td>[Transferencia bancaria, Acordar con el compra...</td>\n",
       "      <td>not_specified</td>\n",
       "      <td>0</td>\n",
       "      <td>0</td>\n",
       "    </tr>\n",
       "    <tr>\n",
       "      <th>1</th>\n",
       "      <td>NUESTRA REPUTACION</td>\n",
       "      <td>used</td>\n",
       "      <td>2650.0</td>\n",
       "      <td>silver</td>\n",
       "      <td>2650.0</td>\n",
       "      <td>buy_it_now</td>\n",
       "      <td>[]</td>\n",
       "      <td>MLA10267</td>\n",
       "      <td>6</td>\n",
       "      <td>True</td>\n",
       "      <td>Cuchillo Daga Acero Carbón Casco Yelmo Solinge...</td>\n",
       "      <td>False</td>\n",
       "      <td>1</td>\n",
       "      <td>0</td>\n",
       "      <td>1</td>\n",
       "      <td>[Transferencia bancaria, Efectivo]</td>\n",
       "      <td>me2</td>\n",
       "      <td>0</td>\n",
       "      <td>0</td>\n",
       "    </tr>\n",
       "    <tr>\n",
       "      <th>2</th>\n",
       "      <td>None</td>\n",
       "      <td>used</td>\n",
       "      <td>60.0</td>\n",
       "      <td>bronze</td>\n",
       "      <td>60.0</td>\n",
       "      <td>buy_it_now</td>\n",
       "      <td>[dragged_bids_and_visits]</td>\n",
       "      <td>MLA1227</td>\n",
       "      <td>1</td>\n",
       "      <td>True</td>\n",
       "      <td>Antigua Revista Billiken, N° 1826, Año 1954</td>\n",
       "      <td>False</td>\n",
       "      <td>1</td>\n",
       "      <td>0</td>\n",
       "      <td>1</td>\n",
       "      <td>[Transferencia bancaria, Tarjeta de crédito, E...</td>\n",
       "      <td>me2</td>\n",
       "      <td>0</td>\n",
       "      <td>0</td>\n",
       "    </tr>\n",
       "    <tr>\n",
       "      <th>3</th>\n",
       "      <td>None</td>\n",
       "      <td>new</td>\n",
       "      <td>580.0</td>\n",
       "      <td>silver</td>\n",
       "      <td>580.0</td>\n",
       "      <td>buy_it_now</td>\n",
       "      <td>[]</td>\n",
       "      <td>MLA86345</td>\n",
       "      <td>2</td>\n",
       "      <td>True</td>\n",
       "      <td>Alarma Guardtex Gx412 Seguridad Para El Automo...</td>\n",
       "      <td>False</td>\n",
       "      <td>1</td>\n",
       "      <td>0</td>\n",
       "      <td>1</td>\n",
       "      <td>[Transferencia bancaria, Tarjeta de crédito, E...</td>\n",
       "      <td>me2</td>\n",
       "      <td>0</td>\n",
       "      <td>0</td>\n",
       "    </tr>\n",
       "    <tr>\n",
       "      <th>4</th>\n",
       "      <td>MI REPUTACION.</td>\n",
       "      <td>used</td>\n",
       "      <td>30.0</td>\n",
       "      <td>bronze</td>\n",
       "      <td>30.0</td>\n",
       "      <td>buy_it_now</td>\n",
       "      <td>[dragged_bids_and_visits]</td>\n",
       "      <td>MLA41287</td>\n",
       "      <td>2</td>\n",
       "      <td>True</td>\n",
       "      <td>Serenata - Jennifer Blake</td>\n",
       "      <td>False</td>\n",
       "      <td>1</td>\n",
       "      <td>0</td>\n",
       "      <td>1</td>\n",
       "      <td>[Transferencia bancaria, Acordar con el compra...</td>\n",
       "      <td>not_specified</td>\n",
       "      <td>0</td>\n",
       "      <td>0</td>\n",
       "    </tr>\n",
       "  </tbody>\n",
       "</table>\n",
       "</div>"
      ],
      "text/plain": [
       "             warranty condition  base_price listing_type_id   price  \\\n",
       "0                None       new        80.0          bronze    80.0   \n",
       "1  NUESTRA REPUTACION      used      2650.0          silver  2650.0   \n",
       "2                None      used        60.0          bronze    60.0   \n",
       "3                None       new       580.0          silver   580.0   \n",
       "4      MI REPUTACION.      used        30.0          bronze    30.0   \n",
       "\n",
       "  buying_mode                       tags category_id  pictures  \\\n",
       "0  buy_it_now  [dragged_bids_and_visits]   MLA126406         2   \n",
       "1  buy_it_now                         []    MLA10267         6   \n",
       "2  buy_it_now  [dragged_bids_and_visits]     MLA1227         1   \n",
       "3  buy_it_now                         []    MLA86345         2   \n",
       "4  buy_it_now  [dragged_bids_and_visits]    MLA41287         2   \n",
       "\n",
       "   accepts_mercadopago                                              title  \\\n",
       "0                 True  Auriculares Samsung Originales Manos Libres Ca...   \n",
       "1                 True  Cuchillo Daga Acero Carbón Casco Yelmo Solinge...   \n",
       "2                 True        Antigua Revista Billiken, N° 1826, Año 1954   \n",
       "3                 True  Alarma Guardtex Gx412 Seguridad Para El Automo...   \n",
       "4                 True                          Serenata - Jennifer Blake   \n",
       "\n",
       "   automatic_relist  initial_quantity  sold_quantity  available_quantity  \\\n",
       "0             False                 1              0                   1   \n",
       "1             False                 1              0                   1   \n",
       "2             False                 1              0                   1   \n",
       "3             False                 1              0                   1   \n",
       "4             False                 1              0                   1   \n",
       "\n",
       "                                    non_mercado_pago  shipping_mode  num_vars  \\\n",
       "0  [Transferencia bancaria, Acordar con el compra...  not_specified         0   \n",
       "1                 [Transferencia bancaria, Efectivo]            me2         0   \n",
       "2  [Transferencia bancaria, Tarjeta de crédito, E...            me2         0   \n",
       "3  [Transferencia bancaria, Tarjeta de crédito, E...            me2         0   \n",
       "4  [Transferencia bancaria, Acordar con el compra...  not_specified         0   \n",
       "\n",
       "   num_att  \n",
       "0        0  \n",
       "1        0  \n",
       "2        0  \n",
       "3        0  \n",
       "4        0  "
      ]
     },
     "execution_count": 46,
     "metadata": {},
     "output_type": "execute_result"
    }
   ],
   "source": [
    "df.head()"
   ]
  },
  {
   "cell_type": "code",
   "execution_count": 47,
   "id": "57f5cb7e-01ee-43c8-a221-e256dc8fd5ca",
   "metadata": {},
   "outputs": [
    {
     "data": {
      "text/plain": [
       "Index(['warranty', 'condition', 'base_price', 'listing_type_id', 'price',\n",
       "       'buying_mode', 'tags', 'category_id', 'pictures', 'accepts_mercadopago',\n",
       "       'title', 'automatic_relist', 'initial_quantity', 'sold_quantity',\n",
       "       'available_quantity', 'non_mercado_pago', 'shipping_mode', 'num_vars',\n",
       "       'num_att'],\n",
       "      dtype='object')"
      ]
     },
     "execution_count": 47,
     "metadata": {},
     "output_type": "execute_result"
    }
   ],
   "source": [
    "df.columns"
   ]
  },
  {
   "cell_type": "markdown",
   "id": "ec3ee5ae-0d1c-46fc-a70b-9397808457b5",
   "metadata": {},
   "source": [
    "<h2> 3. Export<h2/>\n"
   ]
  },
  {
   "cell_type": "markdown",
   "id": "adde8b3c-e3ae-46c9-8980-7d59a91de34d",
   "metadata": {},
   "source": [
    "All transformations can be summed up in:"
   ]
  },
  {
   "cell_type": "code",
   "execution_count": 48,
   "id": "950ad256-057a-4908-9d17-5279ec4545a4",
   "metadata": {},
   "outputs": [],
   "source": [
    "col_to_remove = [\"start_time\", \"stop_time\", \"date_created\", \"permalink\", \"thumbnail\", \"secure_thumbnail\", \n",
    "                 \"geolocation\", \"seller_contact\", \"seller_address\", \"last_updated\", \"seller_id\", \n",
    "                 \"sub_status\", \"deal_ids\", \"site_id\", \"listing_source\", \"coverage_areas\", \n",
    "                 \"international_delivery_mode\", \"official_store_id\", \"differential_pricing\", \n",
    "                 \"original_price\", \"currency_id\", \"status\", \"video_id\", \"catalog_product_id\", \n",
    "                 \"subtitle\", \"descriptions\", \"id\", \"parent_item_id\", \"location\"]\n",
    "\n",
    "def remove_columns(df, columns):\n",
    "    return df.drop(columns, axis=1)"
   ]
  },
  {
   "cell_type": "code",
   "execution_count": 50,
   "id": "ca71555e-820b-46ed-9802-b57faa9c7bb1",
   "metadata": {},
   "outputs": [],
   "source": [
    "col_to_len = [\"pictures\", \"variations\", \"attributes\"]\n",
    "\n",
    "def convert_list_into_len(df, columns):\n",
    "    df2 = df.copy()\n",
    "    for col in columns:\n",
    "        df2[f\"num_{col[:3]}\"] = df2.pop(col).apply(lambda x: len(x) if x else 0)\n",
    "\n",
    "    return df2"
   ]
  },
  {
   "cell_type": "code",
   "execution_count": 51,
   "id": "70f96b07-a77a-4e57-a9c4-2473303f63db",
   "metadata": {},
   "outputs": [],
   "source": [
    "def get_non_mercado_pago_info(df):\n",
    "    df2 = df.copy()\n",
    "    df2[\"non_mercado_pago\"] = df2.pop(\"non_mercado_pago_payment_methods\").apply(lambda x: [d[\"description\"] for d in x] if x else [\"N/a\"])\n",
    "    \n",
    "    return df2"
   ]
  },
  {
   "cell_type": "code",
   "execution_count": 52,
   "id": "4b6e0efc-5450-4410-a8d8-926e6be00cf8",
   "metadata": {},
   "outputs": [],
   "source": [
    "def get_shipping_mode_info(df):\n",
    "    df2 = df.copy()\n",
    "    df2[\"shipping_mode\"] = df2.pop([\"shipping\"]).apply(lambda x: x[\"mode\"])\n",
    "    \n",
    "    return df2"
   ]
  },
  {
   "cell_type": "code",
   "execution_count": null,
   "id": "5f77b084-cc05-4bd0-b784-f1f9ffa1c968",
   "metadata": {},
   "outputs": [],
   "source": []
  }
 ],
 "metadata": {
  "kernelspec": {
   "display_name": "Python 3",
   "language": "python",
   "name": "python3"
  },
  "language_info": {
   "codemirror_mode": {
    "name": "ipython",
    "version": 3
   },
   "file_extension": ".py",
   "mimetype": "text/x-python",
   "name": "python",
   "nbconvert_exporter": "python",
   "pygments_lexer": "ipython3",
   "version": "3.8.0"
  }
 },
 "nbformat": 4,
 "nbformat_minor": 5
}
