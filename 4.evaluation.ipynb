{
 "cells": [
  {
   "cell_type": "markdown",
   "id": "cc9db18d-cf0c-4013-a929-0c91a63b90c6",
   "metadata": {},
   "source": [
    "<h1>Evaluation<h1/>"
   ]
  },
  {
   "cell_type": "code",
   "execution_count": null,
   "id": "ffa3a16f-2c35-427e-a5b6-a2f41b628a9f",
   "metadata": {},
   "outputs": [],
   "source": [
    "from sklearn.metrics import accuracy_score, classification_report, confusion_matrix\n",
    "from joblib import load\n",
    "import pandas as pd\n",
    "from new_or_used import build_dataset\n",
    "\n",
    "from preprocessing import preprocess_testing"
   ]
  },
  {
   "cell_type": "markdown",
   "id": "ddec58f1-2182-45d0-914d-7d49001ef91f",
   "metadata": {},
   "source": [
    "<h2> 1. Loading Dataset<h2/>"
   ]
  },
  {
   "cell_type": "code",
   "execution_count": null,
   "id": "2d7f6423-070b-4f07-80ad-17022820aa29",
   "metadata": {},
   "outputs": [],
   "source": [
    "_, _, X_test, y_test = build_dataset()"
   ]
  },
  {
   "cell_type": "code",
   "execution_count": null,
   "id": "251a5aec-425e-4b5a-a7cf-82ae8bd37767",
   "metadata": {},
   "outputs": [],
   "source": [
    "df = pd.DataFrame.from_records(X_test)"
   ]
  },
  {
   "cell_type": "markdown",
   "id": "df58100a-8e65-4502-832f-0d77c5e87941",
   "metadata": {},
   "source": [
    "<h2> 2. Preprocessing<h2/>"
   ]
  },
  {
   "cell_type": "code",
   "execution_count": null,
   "id": "a9670e7c-529d-48f0-9f9a-a15a9275707b",
   "metadata": {},
   "outputs": [],
   "source": [
    "preprocessed_df = preprocess_testing(df)\n",
    "preprocessed_df"
   ]
  },
  {
   "cell_type": "code",
   "execution_count": null,
   "id": "1276ccec-3e10-4e16-b436-0076aa547ae0",
   "metadata": {},
   "outputs": [],
   "source": [
    "del df, X_test"
   ]
  },
  {
   "cell_type": "code",
   "execution_count": null,
   "id": "e763142e-d61b-4f89-b4e6-c9c8669bf17e",
   "metadata": {},
   "outputs": [],
   "source": [
    "X = preprocessed_df.loc[:, preprocessed_df.columns != 'condition'].values\n",
    "\n",
    "d = {\"new\": 0.0, \"used\":1.0}\n",
    "y_true = [d[el] for el in y_test]"
   ]
  },
  {
   "cell_type": "code",
   "execution_count": null,
   "id": "3b372176-68b9-4026-b5a5-47b2de7613e0",
   "metadata": {},
   "outputs": [],
   "source": [
    "print(f\"y_true[0]: {y_true[0]}\")\n",
    "print(f\"X[0]: {X[0]}\")"
   ]
  },
  {
   "cell_type": "markdown",
   "id": "dbdc0c18-4f42-4589-a924-5a36c53d142b",
   "metadata": {},
   "source": [
    "<h2> 3. Loading model and predict<h2/>"
   ]
  },
  {
   "cell_type": "code",
   "execution_count": null,
   "id": "19cd8363-7196-44ef-b0ba-2745ff6759fc",
   "metadata": {},
   "outputs": [],
   "source": [
    "clf = load('filename.joblib')"
   ]
  },
  {
   "cell_type": "code",
   "execution_count": null,
   "id": "47a2d1ef-06af-45ca-b5b0-7e8f106cc3ca",
   "metadata": {},
   "outputs": [],
   "source": [
    "y_pred = clf.predict(X)\n",
    "y_pred"
   ]
  },
  {
   "cell_type": "code",
   "execution_count": null,
   "id": "80f3c2dd-6f8e-4249-a247-61d2db4b1a1e",
   "metadata": {},
   "outputs": [],
   "source": [
    "y_score = clf.predict_proba(X)\n",
    "y_score"
   ]
  },
  {
   "cell_type": "markdown",
   "id": "92f4bfa7-1d49-4b0d-88e1-3fa43271af32",
   "metadata": {},
   "source": [
    "<h2> 4. Evaluating on Testing<h2/>"
   ]
  },
  {
   "cell_type": "code",
   "execution_count": null,
   "id": "f70e7703-ecfb-4c5d-8414-0285bc17d550",
   "metadata": {},
   "outputs": [],
   "source": [
    "print(\"Accuracy score: {}\".format(accuracy_score(y_true,y_pred)))"
   ]
  },
  {
   "cell_type": "code",
   "execution_count": null,
   "id": "5ae72b09-3d53-488e-8c31-19ee1a11936f",
   "metadata": {},
   "outputs": [],
   "source": [
    "print(classification_report(y_true,y_pred))"
   ]
  },
  {
   "cell_type": "code",
   "execution_count": null,
   "id": "e85008bb-7fe8-434a-ae30-018eb8caa97d",
   "metadata": {},
   "outputs": [],
   "source": [
    "confusion_df = pd.DataFrame(confusion_matrix(y_true,y_pred),\n",
    "             columns=[\"Predicted Class \" + str(class_name) for class_name in [0,1]],\n",
    "             index = [\"Class \" + str(class_name) for class_name in [0,1]])\n",
    "\n",
    "print(confusion_df)"
   ]
  },
  {
   "cell_type": "code",
   "execution_count": null,
   "id": "bc7e1d2b-190e-4b20-922c-b12007cb6893",
   "metadata": {},
   "outputs": [],
   "source": [
    "fpr = dict()\n",
    "tpr = dict()\n",
    "roc_auc = dict()\n",
    "\n",
    "for i in range(n_class):\n",
    "    fpr[i], tpr[i], _ = roc_curve(y_test[:, i], y_score[:, i])\n",
    "    roc_auc[i] = auc(fpr[i], tpr[i])"
   ]
  },
  {
   "cell_type": "code",
   "execution_count": null,
   "id": "77a7d19d-4f8e-4f89-8fb8-890a5d5a8eb9",
   "metadata": {},
   "outputs": [],
   "source": [
    "for i in range(n_class):\n",
    "    plt.figure(figsize=(10, 7))\n",
    "    plt.plot(fpr[i], tpr[i],'o--', label=f\"ROC Curve (AUC = {roc_auc[i]})\")\n",
    "    plt.plot([0, 1], [0, 1], 'k--')\n",
    "    plt.xlim([0.0, 1.0])\n",
    "    plt.ylim([0.0, 1.05])\n",
    "    plt.xlabel('False Positive Rate (FPR)')\n",
    "    plt.ylabel('True Positive Rate (TPR)')\n",
    "    plt.title(f\"ROC Curve: Class {i}\")\n",
    "    plt.legend(loc=\"lower right\")\n",
    "    plt.show()"
   ]
  }
 ],
 "metadata": {
  "kernelspec": {
   "display_name": "Python 3",
   "language": "python",
   "name": "python3"
  },
  "language_info": {
   "codemirror_mode": {
    "name": "ipython",
    "version": 3
   },
   "file_extension": ".py",
   "mimetype": "text/x-python",
   "name": "python",
   "nbconvert_exporter": "python",
   "pygments_lexer": "ipython3",
   "version": "3.8.0"
  }
 },
 "nbformat": 4,
 "nbformat_minor": 5
}
