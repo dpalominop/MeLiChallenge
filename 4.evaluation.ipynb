{
 "cells": [
  {
   "cell_type": "markdown",
   "id": "cc9db18d-cf0c-4013-a929-0c91a63b90c6",
   "metadata": {},
   "source": [
    "<h1>Evaluation<h1/>"
   ]
  },
  {
   "cell_type": "code",
   "execution_count": 27,
   "id": "ffa3a16f-2c35-427e-a5b6-a2f41b628a9f",
   "metadata": {},
   "outputs": [],
   "source": [
    "from joblib import load\n",
    "import pandas as pd\n",
    "import matplotlib.pyplot as plt\n",
    "from sklearn.metrics import accuracy_score, classification_report, confusion_matrix, roc_curve, auc\n",
    "\n",
    "from data.new_or_used import build_dataset\n",
    "from src.preprocessing import preprocess_testing"
   ]
  },
  {
   "cell_type": "markdown",
   "id": "ddec58f1-2182-45d0-914d-7d49001ef91f",
   "metadata": {},
   "source": [
    "<h2> 1. Loading Dataset<h2/>"
   ]
  },
  {
   "cell_type": "code",
   "execution_count": 2,
   "id": "2d7f6423-070b-4f07-80ad-17022820aa29",
   "metadata": {},
   "outputs": [],
   "source": [
    "_, _, X_test, y_test = build_dataset()"
   ]
  },
  {
   "cell_type": "code",
   "execution_count": 3,
   "id": "251a5aec-425e-4b5a-a7cf-82ae8bd37767",
   "metadata": {},
   "outputs": [],
   "source": [
    "df = pd.DataFrame.from_records(X_test)"
   ]
  },
  {
   "cell_type": "markdown",
   "id": "df58100a-8e65-4502-832f-0d77c5e87941",
   "metadata": {},
   "source": [
    "<h2> 2. Preprocessing<h2/>"
   ]
  },
  {
   "cell_type": "code",
   "execution_count": 4,
   "id": "a9670e7c-529d-48f0-9f9a-a15a9275707b",
   "metadata": {},
   "outputs": [
    {
     "data": {
      "text/html": [
       "<div>\n",
       "<style scoped>\n",
       "    .dataframe tbody tr th:only-of-type {\n",
       "        vertical-align: middle;\n",
       "    }\n",
       "\n",
       "    .dataframe tbody tr th {\n",
       "        vertical-align: top;\n",
       "    }\n",
       "\n",
       "    .dataframe thead th {\n",
       "        text-align: right;\n",
       "    }\n",
       "</style>\n",
       "<table border=\"1\" class=\"dataframe\">\n",
       "  <thead>\n",
       "    <tr style=\"text-align: right;\">\n",
       "      <th></th>\n",
       "      <th>accepts_mercadopago</th>\n",
       "      <th>automatic_relist</th>\n",
       "      <th>available_quantity</th>\n",
       "      <th>buy_mode._auction</th>\n",
       "      <th>buy_mode._buy_it_now</th>\n",
       "      <th>buy_mode._classified</th>\n",
       "      <th>cat._MLA1227</th>\n",
       "      <th>cat._MLA1383</th>\n",
       "      <th>cat._MLA15171</th>\n",
       "      <th>cat._MLA15328</th>\n",
       "      <th>...</th>\n",
       "      <th>shim._custom</th>\n",
       "      <th>shim._me1</th>\n",
       "      <th>shim._me2</th>\n",
       "      <th>shim._not_specified</th>\n",
       "      <th>sold_quantity</th>\n",
       "      <th>tag.dragged_bids_and_visits</th>\n",
       "      <th>tag.dragged_visits</th>\n",
       "      <th>tag.free_relist</th>\n",
       "      <th>tag.good_quality_thumbnail</th>\n",
       "      <th>tag.poor_quality_thumbnail</th>\n",
       "    </tr>\n",
       "  </thead>\n",
       "  <tbody>\n",
       "    <tr>\n",
       "      <th>0</th>\n",
       "      <td>1.0</td>\n",
       "      <td>0.0</td>\n",
       "      <td>0.0000</td>\n",
       "      <td>0.0</td>\n",
       "      <td>1.0</td>\n",
       "      <td>0.0</td>\n",
       "      <td>0.0</td>\n",
       "      <td>0.0</td>\n",
       "      <td>0.0</td>\n",
       "      <td>0.0</td>\n",
       "      <td>...</td>\n",
       "      <td>1.0</td>\n",
       "      <td>0.0</td>\n",
       "      <td>0.0</td>\n",
       "      <td>0.0</td>\n",
       "      <td>0.000000</td>\n",
       "      <td>1.0</td>\n",
       "      <td>0.0</td>\n",
       "      <td>0.0</td>\n",
       "      <td>0.0</td>\n",
       "      <td>0.0</td>\n",
       "    </tr>\n",
       "    <tr>\n",
       "      <th>1</th>\n",
       "      <td>1.0</td>\n",
       "      <td>0.0</td>\n",
       "      <td>0.0018</td>\n",
       "      <td>0.0</td>\n",
       "      <td>1.0</td>\n",
       "      <td>0.0</td>\n",
       "      <td>0.0</td>\n",
       "      <td>0.0</td>\n",
       "      <td>0.0</td>\n",
       "      <td>0.0</td>\n",
       "      <td>...</td>\n",
       "      <td>0.0</td>\n",
       "      <td>0.0</td>\n",
       "      <td>0.0</td>\n",
       "      <td>1.0</td>\n",
       "      <td>0.000000</td>\n",
       "      <td>1.0</td>\n",
       "      <td>0.0</td>\n",
       "      <td>0.0</td>\n",
       "      <td>0.0</td>\n",
       "      <td>0.0</td>\n",
       "    </tr>\n",
       "    <tr>\n",
       "      <th>2</th>\n",
       "      <td>1.0</td>\n",
       "      <td>0.0</td>\n",
       "      <td>0.0001</td>\n",
       "      <td>0.0</td>\n",
       "      <td>1.0</td>\n",
       "      <td>0.0</td>\n",
       "      <td>0.0</td>\n",
       "      <td>0.0</td>\n",
       "      <td>0.0</td>\n",
       "      <td>0.0</td>\n",
       "      <td>...</td>\n",
       "      <td>0.0</td>\n",
       "      <td>0.0</td>\n",
       "      <td>1.0</td>\n",
       "      <td>0.0</td>\n",
       "      <td>0.000000</td>\n",
       "      <td>1.0</td>\n",
       "      <td>0.0</td>\n",
       "      <td>0.0</td>\n",
       "      <td>0.0</td>\n",
       "      <td>0.0</td>\n",
       "    </tr>\n",
       "    <tr>\n",
       "      <th>3</th>\n",
       "      <td>1.0</td>\n",
       "      <td>0.0</td>\n",
       "      <td>0.0000</td>\n",
       "      <td>0.0</td>\n",
       "      <td>1.0</td>\n",
       "      <td>0.0</td>\n",
       "      <td>0.0</td>\n",
       "      <td>0.0</td>\n",
       "      <td>0.0</td>\n",
       "      <td>0.0</td>\n",
       "      <td>...</td>\n",
       "      <td>0.0</td>\n",
       "      <td>0.0</td>\n",
       "      <td>1.0</td>\n",
       "      <td>0.0</td>\n",
       "      <td>0.000000</td>\n",
       "      <td>1.0</td>\n",
       "      <td>0.0</td>\n",
       "      <td>0.0</td>\n",
       "      <td>0.0</td>\n",
       "      <td>0.0</td>\n",
       "    </tr>\n",
       "    <tr>\n",
       "      <th>4</th>\n",
       "      <td>1.0</td>\n",
       "      <td>0.0</td>\n",
       "      <td>0.0000</td>\n",
       "      <td>0.0</td>\n",
       "      <td>1.0</td>\n",
       "      <td>0.0</td>\n",
       "      <td>0.0</td>\n",
       "      <td>0.0</td>\n",
       "      <td>0.0</td>\n",
       "      <td>0.0</td>\n",
       "      <td>...</td>\n",
       "      <td>0.0</td>\n",
       "      <td>0.0</td>\n",
       "      <td>0.0</td>\n",
       "      <td>1.0</td>\n",
       "      <td>0.000115</td>\n",
       "      <td>1.0</td>\n",
       "      <td>0.0</td>\n",
       "      <td>0.0</td>\n",
       "      <td>0.0</td>\n",
       "      <td>0.0</td>\n",
       "    </tr>\n",
       "    <tr>\n",
       "      <th>...</th>\n",
       "      <td>...</td>\n",
       "      <td>...</td>\n",
       "      <td>...</td>\n",
       "      <td>...</td>\n",
       "      <td>...</td>\n",
       "      <td>...</td>\n",
       "      <td>...</td>\n",
       "      <td>...</td>\n",
       "      <td>...</td>\n",
       "      <td>...</td>\n",
       "      <td>...</td>\n",
       "      <td>...</td>\n",
       "      <td>...</td>\n",
       "      <td>...</td>\n",
       "      <td>...</td>\n",
       "      <td>...</td>\n",
       "      <td>...</td>\n",
       "      <td>...</td>\n",
       "      <td>...</td>\n",
       "      <td>...</td>\n",
       "      <td>...</td>\n",
       "    </tr>\n",
       "    <tr>\n",
       "      <th>9995</th>\n",
       "      <td>1.0</td>\n",
       "      <td>0.0</td>\n",
       "      <td>0.0000</td>\n",
       "      <td>0.0</td>\n",
       "      <td>1.0</td>\n",
       "      <td>0.0</td>\n",
       "      <td>0.0</td>\n",
       "      <td>0.0</td>\n",
       "      <td>0.0</td>\n",
       "      <td>0.0</td>\n",
       "      <td>...</td>\n",
       "      <td>0.0</td>\n",
       "      <td>0.0</td>\n",
       "      <td>1.0</td>\n",
       "      <td>0.0</td>\n",
       "      <td>0.000000</td>\n",
       "      <td>1.0</td>\n",
       "      <td>0.0</td>\n",
       "      <td>0.0</td>\n",
       "      <td>0.0</td>\n",
       "      <td>0.0</td>\n",
       "    </tr>\n",
       "    <tr>\n",
       "      <th>9996</th>\n",
       "      <td>1.0</td>\n",
       "      <td>0.0</td>\n",
       "      <td>0.0004</td>\n",
       "      <td>0.0</td>\n",
       "      <td>1.0</td>\n",
       "      <td>0.0</td>\n",
       "      <td>0.0</td>\n",
       "      <td>0.0</td>\n",
       "      <td>0.0</td>\n",
       "      <td>0.0</td>\n",
       "      <td>...</td>\n",
       "      <td>0.0</td>\n",
       "      <td>0.0</td>\n",
       "      <td>0.0</td>\n",
       "      <td>1.0</td>\n",
       "      <td>0.000000</td>\n",
       "      <td>0.0</td>\n",
       "      <td>0.0</td>\n",
       "      <td>0.0</td>\n",
       "      <td>0.0</td>\n",
       "      <td>0.0</td>\n",
       "    </tr>\n",
       "    <tr>\n",
       "      <th>9997</th>\n",
       "      <td>1.0</td>\n",
       "      <td>0.0</td>\n",
       "      <td>0.0000</td>\n",
       "      <td>0.0</td>\n",
       "      <td>1.0</td>\n",
       "      <td>0.0</td>\n",
       "      <td>0.0</td>\n",
       "      <td>0.0</td>\n",
       "      <td>0.0</td>\n",
       "      <td>0.0</td>\n",
       "      <td>...</td>\n",
       "      <td>0.0</td>\n",
       "      <td>0.0</td>\n",
       "      <td>1.0</td>\n",
       "      <td>0.0</td>\n",
       "      <td>0.000000</td>\n",
       "      <td>0.0</td>\n",
       "      <td>0.0</td>\n",
       "      <td>0.0</td>\n",
       "      <td>0.0</td>\n",
       "      <td>0.0</td>\n",
       "    </tr>\n",
       "    <tr>\n",
       "      <th>9998</th>\n",
       "      <td>1.0</td>\n",
       "      <td>0.0</td>\n",
       "      <td>0.0000</td>\n",
       "      <td>0.0</td>\n",
       "      <td>1.0</td>\n",
       "      <td>0.0</td>\n",
       "      <td>0.0</td>\n",
       "      <td>0.0</td>\n",
       "      <td>0.0</td>\n",
       "      <td>0.0</td>\n",
       "      <td>...</td>\n",
       "      <td>0.0</td>\n",
       "      <td>0.0</td>\n",
       "      <td>1.0</td>\n",
       "      <td>0.0</td>\n",
       "      <td>0.000000</td>\n",
       "      <td>1.0</td>\n",
       "      <td>0.0</td>\n",
       "      <td>0.0</td>\n",
       "      <td>0.0</td>\n",
       "      <td>0.0</td>\n",
       "    </tr>\n",
       "    <tr>\n",
       "      <th>9999</th>\n",
       "      <td>1.0</td>\n",
       "      <td>0.0</td>\n",
       "      <td>0.0000</td>\n",
       "      <td>0.0</td>\n",
       "      <td>1.0</td>\n",
       "      <td>0.0</td>\n",
       "      <td>0.0</td>\n",
       "      <td>0.0</td>\n",
       "      <td>0.0</td>\n",
       "      <td>0.0</td>\n",
       "      <td>...</td>\n",
       "      <td>0.0</td>\n",
       "      <td>0.0</td>\n",
       "      <td>1.0</td>\n",
       "      <td>0.0</td>\n",
       "      <td>0.000000</td>\n",
       "      <td>1.0</td>\n",
       "      <td>0.0</td>\n",
       "      <td>0.0</td>\n",
       "      <td>0.0</td>\n",
       "      <td>0.0</td>\n",
       "    </tr>\n",
       "  </tbody>\n",
       "</table>\n",
       "<p>10000 rows × 46 columns</p>\n",
       "</div>"
      ],
      "text/plain": [
       "      accepts_mercadopago  automatic_relist  available_quantity  \\\n",
       "0                     1.0               0.0              0.0000   \n",
       "1                     1.0               0.0              0.0018   \n",
       "2                     1.0               0.0              0.0001   \n",
       "3                     1.0               0.0              0.0000   \n",
       "4                     1.0               0.0              0.0000   \n",
       "...                   ...               ...                 ...   \n",
       "9995                  1.0               0.0              0.0000   \n",
       "9996                  1.0               0.0              0.0004   \n",
       "9997                  1.0               0.0              0.0000   \n",
       "9998                  1.0               0.0              0.0000   \n",
       "9999                  1.0               0.0              0.0000   \n",
       "\n",
       "      buy_mode._auction  buy_mode._buy_it_now  buy_mode._classified  \\\n",
       "0                   0.0                   1.0                   0.0   \n",
       "1                   0.0                   1.0                   0.0   \n",
       "2                   0.0                   1.0                   0.0   \n",
       "3                   0.0                   1.0                   0.0   \n",
       "4                   0.0                   1.0                   0.0   \n",
       "...                 ...                   ...                   ...   \n",
       "9995                0.0                   1.0                   0.0   \n",
       "9996                0.0                   1.0                   0.0   \n",
       "9997                0.0                   1.0                   0.0   \n",
       "9998                0.0                   1.0                   0.0   \n",
       "9999                0.0                   1.0                   0.0   \n",
       "\n",
       "      cat._MLA1227  cat._MLA1383  cat._MLA15171  cat._MLA15328  ...  \\\n",
       "0              0.0           0.0            0.0            0.0  ...   \n",
       "1              0.0           0.0            0.0            0.0  ...   \n",
       "2              0.0           0.0            0.0            0.0  ...   \n",
       "3              0.0           0.0            0.0            0.0  ...   \n",
       "4              0.0           0.0            0.0            0.0  ...   \n",
       "...            ...           ...            ...            ...  ...   \n",
       "9995           0.0           0.0            0.0            0.0  ...   \n",
       "9996           0.0           0.0            0.0            0.0  ...   \n",
       "9997           0.0           0.0            0.0            0.0  ...   \n",
       "9998           0.0           0.0            0.0            0.0  ...   \n",
       "9999           0.0           0.0            0.0            0.0  ...   \n",
       "\n",
       "      shim._custom  shim._me1  shim._me2  shim._not_specified  sold_quantity  \\\n",
       "0              1.0        0.0        0.0                  0.0       0.000000   \n",
       "1              0.0        0.0        0.0                  1.0       0.000000   \n",
       "2              0.0        0.0        1.0                  0.0       0.000000   \n",
       "3              0.0        0.0        1.0                  0.0       0.000000   \n",
       "4              0.0        0.0        0.0                  1.0       0.000115   \n",
       "...            ...        ...        ...                  ...            ...   \n",
       "9995           0.0        0.0        1.0                  0.0       0.000000   \n",
       "9996           0.0        0.0        0.0                  1.0       0.000000   \n",
       "9997           0.0        0.0        1.0                  0.0       0.000000   \n",
       "9998           0.0        0.0        1.0                  0.0       0.000000   \n",
       "9999           0.0        0.0        1.0                  0.0       0.000000   \n",
       "\n",
       "      tag.dragged_bids_and_visits  tag.dragged_visits  tag.free_relist  \\\n",
       "0                             1.0                 0.0              0.0   \n",
       "1                             1.0                 0.0              0.0   \n",
       "2                             1.0                 0.0              0.0   \n",
       "3                             1.0                 0.0              0.0   \n",
       "4                             1.0                 0.0              0.0   \n",
       "...                           ...                 ...              ...   \n",
       "9995                          1.0                 0.0              0.0   \n",
       "9996                          0.0                 0.0              0.0   \n",
       "9997                          0.0                 0.0              0.0   \n",
       "9998                          1.0                 0.0              0.0   \n",
       "9999                          1.0                 0.0              0.0   \n",
       "\n",
       "      tag.good_quality_thumbnail  tag.poor_quality_thumbnail  \n",
       "0                            0.0                         0.0  \n",
       "1                            0.0                         0.0  \n",
       "2                            0.0                         0.0  \n",
       "3                            0.0                         0.0  \n",
       "4                            0.0                         0.0  \n",
       "...                          ...                         ...  \n",
       "9995                         0.0                         0.0  \n",
       "9996                         0.0                         0.0  \n",
       "9997                         0.0                         0.0  \n",
       "9998                         0.0                         0.0  \n",
       "9999                         0.0                         0.0  \n",
       "\n",
       "[10000 rows x 46 columns]"
      ]
     },
     "execution_count": 4,
     "metadata": {},
     "output_type": "execute_result"
    }
   ],
   "source": [
    "preprocessed_df = preprocess_testing(df)\n",
    "preprocessed_df"
   ]
  },
  {
   "cell_type": "code",
   "execution_count": 5,
   "id": "1276ccec-3e10-4e16-b436-0076aa547ae0",
   "metadata": {},
   "outputs": [],
   "source": [
    "del df, X_test"
   ]
  },
  {
   "cell_type": "code",
   "execution_count": 6,
   "id": "e763142e-d61b-4f89-b4e6-c9c8669bf17e",
   "metadata": {},
   "outputs": [],
   "source": [
    "X = preprocessed_df.loc[:, preprocessed_df.columns != 'condition'].values\n",
    "\n",
    "d = {\"new\": 0.0, \"used\":1.0}\n",
    "y_true = [d[el] for el in y_test]"
   ]
  },
  {
   "cell_type": "code",
   "execution_count": 7,
   "id": "48286e76-310a-41d9-8fcc-ef0d652b67c0",
   "metadata": {},
   "outputs": [
    {
     "name": "stdout",
     "output_type": "stream",
     "text": [
      "X shape: (10000, 46)\n",
      "X shape: (10000,)\n"
     ]
    }
   ],
   "source": [
    "print(f\"X shape: {X.shape}\")\n",
    "print(f\"X shape: ({len(y_true)},)\")"
   ]
  },
  {
   "cell_type": "code",
   "execution_count": 8,
   "id": "3b372176-68b9-4026-b5a5-47b2de7613e0",
   "metadata": {},
   "outputs": [
    {
     "name": "stdout",
     "output_type": "stream",
     "text": [
      "y_true[0]: 1.0\n",
      "X[0]: [1.         0.         0.         0.         1.         0.\n",
      " 0.         0.         0.         0.         0.         0.\n",
      " 0.         0.         1.         0.         0.33333333 0.\n",
      " 0.         0.         0.         0.         1.         0.\n",
      " 0.         0.         0.         0.         1.         1.\n",
      " 0.         0.         0.         0.27272727 0.         0.00446898\n",
      " 1.         0.         0.         0.         0.         1.\n",
      " 0.         0.         0.         0.        ]\n"
     ]
    }
   ],
   "source": [
    "print(f\"y_true[0]: {y_true[0]}\")\n",
    "print(f\"X[0]: {X[0]}\")"
   ]
  },
  {
   "cell_type": "markdown",
   "id": "dbdc0c18-4f42-4589-a924-5a36c53d142b",
   "metadata": {},
   "source": [
    "<h2> 3. Loading model and predict<h2/>"
   ]
  },
  {
   "cell_type": "code",
   "execution_count": 9,
   "id": "19cd8363-7196-44ef-b0ba-2745ff6759fc",
   "metadata": {},
   "outputs": [],
   "source": [
    "clf = load('models/best_model.joblib')"
   ]
  },
  {
   "cell_type": "code",
   "execution_count": 10,
   "id": "47a2d1ef-06af-45ca-b5b0-7e8f106cc3ca",
   "metadata": {},
   "outputs": [
    {
     "data": {
      "text/plain": [
       "array([0., 0., 0., ..., 0., 0., 0.])"
      ]
     },
     "execution_count": 10,
     "metadata": {},
     "output_type": "execute_result"
    }
   ],
   "source": [
    "y_pred = clf.predict(X)\n",
    "y_pred"
   ]
  },
  {
   "cell_type": "code",
   "execution_count": 11,
   "id": "80f3c2dd-6f8e-4249-a247-61d2db4b1a1e",
   "metadata": {},
   "outputs": [
    {
     "data": {
      "text/plain": [
       "array([[0.95743293, 0.04256707],\n",
       "       [0.72695506, 0.27304494],\n",
       "       [0.72779857, 0.27220143],\n",
       "       ...,\n",
       "       [0.72763439, 0.27236561],\n",
       "       [0.72767288, 0.27232712],\n",
       "       [0.72768523, 0.27231477]])"
      ]
     },
     "execution_count": 11,
     "metadata": {},
     "output_type": "execute_result"
    }
   ],
   "source": [
    "y_pred_score = clf.predict_proba(X)\n",
    "y_pred_score"
   ]
  },
  {
   "cell_type": "markdown",
   "id": "92f4bfa7-1d49-4b0d-88e1-3fa43271af32",
   "metadata": {},
   "source": [
    "<h2> 4. Evaluating on Testing<h2/>"
   ]
  },
  {
   "cell_type": "markdown",
   "id": "6ae084bf-5f2f-4abe-b107-7a15d7d263a0",
   "metadata": {},
   "source": [
    "Coonsidering class \"new\" = 0.0 and class \"used\" = 1.0, we can evaluate the enst metrics:"
   ]
  },
  {
   "cell_type": "markdown",
   "id": "35930d2c-bf4a-40b4-8459-89f7f9356f74",
   "metadata": {},
   "source": [
    "### 4.1 Accuracy"
   ]
  },
  {
   "cell_type": "code",
   "execution_count": 12,
   "id": "f70e7703-ecfb-4c5d-8414-0285bc17d550",
   "metadata": {},
   "outputs": [
    {
     "name": "stdout",
     "output_type": "stream",
     "text": [
      "Accuracy score: 0.7626\n"
     ]
    }
   ],
   "source": [
    "print(\"Accuracy score: {}\".format(accuracy_score(y_true,y_pred)))"
   ]
  },
  {
   "cell_type": "markdown",
   "id": "0306ea9c-6767-4432-9f90-666be36809f1",
   "metadata": {},
   "source": [
    "### 4.2 Classification report"
   ]
  },
  {
   "cell_type": "code",
   "execution_count": 13,
   "id": "5ae72b09-3d53-488e-8c31-19ee1a11936f",
   "metadata": {},
   "outputs": [
    {
     "name": "stdout",
     "output_type": "stream",
     "text": [
      "              precision    recall  f1-score   support\n",
      "\n",
      "         0.0       0.71      0.94      0.81      5406\n",
      "         1.0       0.89      0.56      0.68      4594\n",
      "\n",
      "    accuracy                           0.76     10000\n",
      "   macro avg       0.80      0.75      0.75     10000\n",
      "weighted avg       0.79      0.76      0.75     10000\n",
      "\n"
     ]
    }
   ],
   "source": [
    "print(classification_report(y_true,y_pred))"
   ]
  },
  {
   "cell_type": "markdown",
   "id": "ff22c8a5-b0bf-4514-9654-39b147eb1e6f",
   "metadata": {},
   "source": [
    "### 4.3 Confussion Matrix"
   ]
  },
  {
   "cell_type": "code",
   "execution_count": 14,
   "id": "e85008bb-7fe8-434a-ae30-018eb8caa97d",
   "metadata": {},
   "outputs": [
    {
     "name": "stdout",
     "output_type": "stream",
     "text": [
      "         Predicted Class 0  Predicted Class 1\n",
      "Class 0               5076                330\n",
      "Class 1               2044               2550\n"
     ]
    }
   ],
   "source": [
    "confusion_df = pd.DataFrame(confusion_matrix(y_true,y_pred),\n",
    "             columns=[\"Predicted Class \" + str(class_name) for class_name in [0,1]],\n",
    "             index = [\"Class \" + str(class_name) for class_name in [0,1]])\n",
    "\n",
    "print(confusion_df)"
   ]
  },
  {
   "cell_type": "markdown",
   "id": "5664ee0b-0b33-4050-b1be-7337430d7903",
   "metadata": {},
   "source": [
    "### 4.4 ROC/AUC"
   ]
  },
  {
   "cell_type": "code",
   "execution_count": 32,
   "id": "bc7e1d2b-190e-4b20-922c-b12007cb6893",
   "metadata": {},
   "outputs": [],
   "source": [
    "fpr, tpr, _ = roc_curve(y_true, y_pred_score[:, 1])\n",
    "roc_auc[i] = auc(fpr, tpr)"
   ]
  },
  {
   "cell_type": "code",
   "execution_count": 34,
   "id": "77a7d19d-4f8e-4f89-8fb8-890a5d5a8eb9",
   "metadata": {},
   "outputs": [
    {
     "data": {
      "image/png": "[encoded data removed]",
      "text/plain": [
       "<Figure size 720x504 with 1 Axes>"
      ]
     },
     "metadata": {
      "needs_background": "light"
     },
     "output_type": "display_data"
    }
   ],
   "source": [
    "plt.figure(figsize=(10, 7))\n",
    "plt.plot(fpr, tpr,'o--', label=f\"ROC Curve (AUC = {roc_auc})\")\n",
    "plt.plot([0, 1], [0, 1], 'k--')\n",
    "plt.xlim([0.0, 1.0])\n",
    "plt.ylim([0.0, 1.05])\n",
    "plt.xlabel('False Positive Rate (FPR)')\n",
    "plt.ylabel('True Positive Rate (TPR)')\n",
    "plt.title(f\"ROC Curve: Class \\'used\\'=1.0\")\n",
    "plt.legend(loc=\"lower right\")\n",
    "plt.show()"
   ]
  },
  {
   "cell_type": "code",
   "execution_count": null,
   "id": "46f89961-76a4-4783-98c9-d4cafea756e1",
   "metadata": {},
   "outputs": [],
   "source": []
  }
 ],
 "metadata": {
  "kernelspec": {
   "display_name": "Python 3",
   "language": "python",
   "name": "python3"
  },
  "language_info": {
   "codemirror_mode": {
    "name": "ipython",
    "version": 3
   },
   "file_extension": ".py",
   "mimetype": "text/x-python",
   "name": "python",
   "nbconvert_exporter": "python",
   "pygments_lexer": "ipython3",
   "version": "3.8.0"
  }
 },
 "nbformat": 4,
 "nbformat_minor": 5
}
