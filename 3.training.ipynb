{
 "cells": [
  {
   "cell_type": "markdown",
   "id": "0befb130-11e7-409e-bea1-373aea055fbd",
   "metadata": {},
   "source": [
    "<h1>Training<h1/>"
   ]
  },
  {
   "cell_type": "code",
   "execution_count": 1,
   "id": "3b9701df-8bfb-4ddb-ab5f-6320ac1b00f6",
   "metadata": {},
   "outputs": [],
   "source": [
    "from sklearn import svm\n",
    "from sklearn.ensemble import RandomForestClassifier\n",
    "from sklearn.linear_model import LogisticRegression\n",
    "from sklearn.naive_bayes import GaussianNB\n",
    "from sklearn.naive_bayes import MultinomialNB\n",
    "from sklearn.tree import DecisionTreeClassifier\n",
    "from sklearn.model_selection import GridSearchCV\n",
    "\n",
    "import pandas as pd\n",
    "from data.new_or_used import build_dataset\n",
    "\n",
    "from src.preprocessing import preprocess_training"
   ]
  },
  {
   "cell_type": "markdown",
   "id": "ee53759a-b243-43ba-be1b-865e7bf73e4f",
   "metadata": {},
   "source": [
    "<h2> 1. Loading Dataset<h2/>"
   ]
  },
  {
   "cell_type": "code",
   "execution_count": 2,
   "id": "a35a03cd-0308-484b-a577-e537bdbecc3a",
   "metadata": {},
   "outputs": [],
   "source": [
    "X_train, _, _, _ = build_dataset()"
   ]
  },
  {
   "cell_type": "code",
   "execution_count": 3,
   "id": "d0e1c7f1-ad7b-46eb-a8ba-9d9943c93860",
   "metadata": {},
   "outputs": [],
   "source": [
    "df = pd.DataFrame.from_records(X_train)"
   ]
  },
  {
   "cell_type": "markdown",
   "id": "ab60ce51-e3fa-42cc-a6ed-c5acbceb6a82",
   "metadata": {},
   "source": [
    "<h2> 2. Preprocessing<h2/>"
   ]
  },
  {
   "cell_type": "code",
   "execution_count": 4,
   "id": "fd95fb69-59e9-4f3a-9170-6b19d63a42a6",
   "metadata": {},
   "outputs": [],
   "source": [
    "preprocessed_df = preprocess_training(df)\n",
    "del df, X_train"
   ]
  },
  {
   "cell_type": "code",
   "execution_count": 5,
   "id": "0c90c893-0b15-42b6-af0a-33c5a87782a5",
   "metadata": {},
   "outputs": [
    {
     "data": {
      "text/html": [
       "<div>\n",
       "<style scoped>\n",
       "    .dataframe tbody tr th:only-of-type {\n",
       "        vertical-align: middle;\n",
       "    }\n",
       "\n",
       "    .dataframe tbody tr th {\n",
       "        vertical-align: top;\n",
       "    }\n",
       "\n",
       "    .dataframe thead th {\n",
       "        text-align: right;\n",
       "    }\n",
       "</style>\n",
       "<table border=\"1\" class=\"dataframe\">\n",
       "  <thead>\n",
       "    <tr style=\"text-align: right;\">\n",
       "      <th></th>\n",
       "      <th>accepts_mercadopago</th>\n",
       "      <th>automatic_relist</th>\n",
       "      <th>available_quantity</th>\n",
       "      <th>buy_mode._auction</th>\n",
       "      <th>buy_mode._buy_it_now</th>\n",
       "      <th>buy_mode._classified</th>\n",
       "      <th>cat._MLA1227</th>\n",
       "      <th>cat._MLA1383</th>\n",
       "      <th>cat._MLA15171</th>\n",
       "      <th>cat._MLA15328</th>\n",
       "      <th>...</th>\n",
       "      <th>shim._custom</th>\n",
       "      <th>shim._me1</th>\n",
       "      <th>shim._me2</th>\n",
       "      <th>shim._not_specified</th>\n",
       "      <th>sold_quantity</th>\n",
       "      <th>tag.dragged_bids_and_visits</th>\n",
       "      <th>tag.dragged_visits</th>\n",
       "      <th>tag.free_relist</th>\n",
       "      <th>tag.good_quality_thumbnail</th>\n",
       "      <th>tag.poor_quality_thumbnail</th>\n",
       "    </tr>\n",
       "  </thead>\n",
       "  <tbody>\n",
       "    <tr>\n",
       "      <th>0</th>\n",
       "      <td>1.0</td>\n",
       "      <td>0.0</td>\n",
       "      <td>0.0</td>\n",
       "      <td>0.0</td>\n",
       "      <td>1.0</td>\n",
       "      <td>0.0</td>\n",
       "      <td>0.0</td>\n",
       "      <td>0.0</td>\n",
       "      <td>0.0</td>\n",
       "      <td>0.0</td>\n",
       "      <td>...</td>\n",
       "      <td>0.0</td>\n",
       "      <td>0.0</td>\n",
       "      <td>0.0</td>\n",
       "      <td>1.0</td>\n",
       "      <td>0.0</td>\n",
       "      <td>1.0</td>\n",
       "      <td>0.0</td>\n",
       "      <td>0.0</td>\n",
       "      <td>0.0</td>\n",
       "      <td>0.0</td>\n",
       "    </tr>\n",
       "    <tr>\n",
       "      <th>1</th>\n",
       "      <td>1.0</td>\n",
       "      <td>0.0</td>\n",
       "      <td>0.0</td>\n",
       "      <td>0.0</td>\n",
       "      <td>1.0</td>\n",
       "      <td>0.0</td>\n",
       "      <td>0.0</td>\n",
       "      <td>0.0</td>\n",
       "      <td>0.0</td>\n",
       "      <td>0.0</td>\n",
       "      <td>...</td>\n",
       "      <td>0.0</td>\n",
       "      <td>0.0</td>\n",
       "      <td>1.0</td>\n",
       "      <td>0.0</td>\n",
       "      <td>0.0</td>\n",
       "      <td>0.0</td>\n",
       "      <td>0.0</td>\n",
       "      <td>0.0</td>\n",
       "      <td>0.0</td>\n",
       "      <td>0.0</td>\n",
       "    </tr>\n",
       "    <tr>\n",
       "      <th>2</th>\n",
       "      <td>1.0</td>\n",
       "      <td>0.0</td>\n",
       "      <td>0.0</td>\n",
       "      <td>0.0</td>\n",
       "      <td>1.0</td>\n",
       "      <td>0.0</td>\n",
       "      <td>1.0</td>\n",
       "      <td>0.0</td>\n",
       "      <td>0.0</td>\n",
       "      <td>0.0</td>\n",
       "      <td>...</td>\n",
       "      <td>0.0</td>\n",
       "      <td>0.0</td>\n",
       "      <td>1.0</td>\n",
       "      <td>0.0</td>\n",
       "      <td>0.0</td>\n",
       "      <td>1.0</td>\n",
       "      <td>0.0</td>\n",
       "      <td>0.0</td>\n",
       "      <td>0.0</td>\n",
       "      <td>0.0</td>\n",
       "    </tr>\n",
       "    <tr>\n",
       "      <th>3</th>\n",
       "      <td>1.0</td>\n",
       "      <td>0.0</td>\n",
       "      <td>0.0</td>\n",
       "      <td>0.0</td>\n",
       "      <td>1.0</td>\n",
       "      <td>0.0</td>\n",
       "      <td>0.0</td>\n",
       "      <td>0.0</td>\n",
       "      <td>0.0</td>\n",
       "      <td>0.0</td>\n",
       "      <td>...</td>\n",
       "      <td>0.0</td>\n",
       "      <td>0.0</td>\n",
       "      <td>1.0</td>\n",
       "      <td>0.0</td>\n",
       "      <td>0.0</td>\n",
       "      <td>0.0</td>\n",
       "      <td>0.0</td>\n",
       "      <td>0.0</td>\n",
       "      <td>0.0</td>\n",
       "      <td>0.0</td>\n",
       "    </tr>\n",
       "    <tr>\n",
       "      <th>4</th>\n",
       "      <td>1.0</td>\n",
       "      <td>0.0</td>\n",
       "      <td>0.0</td>\n",
       "      <td>0.0</td>\n",
       "      <td>1.0</td>\n",
       "      <td>0.0</td>\n",
       "      <td>0.0</td>\n",
       "      <td>0.0</td>\n",
       "      <td>0.0</td>\n",
       "      <td>0.0</td>\n",
       "      <td>...</td>\n",
       "      <td>0.0</td>\n",
       "      <td>0.0</td>\n",
       "      <td>0.0</td>\n",
       "      <td>1.0</td>\n",
       "      <td>0.0</td>\n",
       "      <td>1.0</td>\n",
       "      <td>0.0</td>\n",
       "      <td>0.0</td>\n",
       "      <td>0.0</td>\n",
       "      <td>0.0</td>\n",
       "    </tr>\n",
       "  </tbody>\n",
       "</table>\n",
       "<p>5 rows × 47 columns</p>\n",
       "</div>"
      ],
      "text/plain": [
       "   accepts_mercadopago  automatic_relist  available_quantity  \\\n",
       "0                  1.0               0.0                 0.0   \n",
       "1                  1.0               0.0                 0.0   \n",
       "2                  1.0               0.0                 0.0   \n",
       "3                  1.0               0.0                 0.0   \n",
       "4                  1.0               0.0                 0.0   \n",
       "\n",
       "   buy_mode._auction  buy_mode._buy_it_now  buy_mode._classified  \\\n",
       "0                0.0                   1.0                   0.0   \n",
       "1                0.0                   1.0                   0.0   \n",
       "2                0.0                   1.0                   0.0   \n",
       "3                0.0                   1.0                   0.0   \n",
       "4                0.0                   1.0                   0.0   \n",
       "\n",
       "   cat._MLA1227  cat._MLA1383  cat._MLA15171  cat._MLA15328  ...  \\\n",
       "0           0.0           0.0            0.0            0.0  ...   \n",
       "1           0.0           0.0            0.0            0.0  ...   \n",
       "2           1.0           0.0            0.0            0.0  ...   \n",
       "3           0.0           0.0            0.0            0.0  ...   \n",
       "4           0.0           0.0            0.0            0.0  ...   \n",
       "\n",
       "   shim._custom  shim._me1  shim._me2  shim._not_specified  sold_quantity  \\\n",
       "0           0.0        0.0        0.0                  1.0            0.0   \n",
       "1           0.0        0.0        1.0                  0.0            0.0   \n",
       "2           0.0        0.0        1.0                  0.0            0.0   \n",
       "3           0.0        0.0        1.0                  0.0            0.0   \n",
       "4           0.0        0.0        0.0                  1.0            0.0   \n",
       "\n",
       "   tag.dragged_bids_and_visits  tag.dragged_visits  tag.free_relist  \\\n",
       "0                          1.0                 0.0              0.0   \n",
       "1                          0.0                 0.0              0.0   \n",
       "2                          1.0                 0.0              0.0   \n",
       "3                          0.0                 0.0              0.0   \n",
       "4                          1.0                 0.0              0.0   \n",
       "\n",
       "   tag.good_quality_thumbnail  tag.poor_quality_thumbnail  \n",
       "0                         0.0                         0.0  \n",
       "1                         0.0                         0.0  \n",
       "2                         0.0                         0.0  \n",
       "3                         0.0                         0.0  \n",
       "4                         0.0                         0.0  \n",
       "\n",
       "[5 rows x 47 columns]"
      ]
     },
     "execution_count": 5,
     "metadata": {},
     "output_type": "execute_result"
    }
   ],
   "source": [
    "preprocessed_df.head()"
   ]
  },
  {
   "cell_type": "code",
   "execution_count": 6,
   "id": "bce85485-9fbc-4232-8ab2-e5a425d42058",
   "metadata": {},
   "outputs": [
    {
     "data": {
      "text/plain": [
       "accepts_mercadopago             0\n",
       "automatic_relist                0\n",
       "available_quantity              0\n",
       "buy_mode._auction               0\n",
       "buy_mode._buy_it_now            0\n",
       "buy_mode._classified            0\n",
       "cat._MLA1227                    0\n",
       "cat._MLA1383                    0\n",
       "cat._MLA15171                   0\n",
       "cat._MLA15328                   0\n",
       "cat._MLA2038                    0\n",
       "cat._MLA2044                    0\n",
       "cat._MLA3530                    0\n",
       "cat._MLA41287                   0\n",
       "cat._others                     0\n",
       "condition                       0\n",
       "initial_quantity                0\n",
       "listing_type_id                 0\n",
       "nmp.Acordar con el comprador    0\n",
       "nmp.American Express            0\n",
       "nmp.Cheque certificado          0\n",
       "nmp.Contra reembolso            0\n",
       "nmp.Diners                      0\n",
       "nmp.Efectivo                    0\n",
       "nmp.Giro postal                 0\n",
       "nmp.MasterCard                  0\n",
       "nmp.Mastercard Maestro          0\n",
       "nmp.MercadoPago                 0\n",
       "nmp.N/a                         0\n",
       "nmp.Tarjeta de crédito          0\n",
       "nmp.Transferencia bancaria      0\n",
       "nmp.Visa                        0\n",
       "nmp.Visa Electron               0\n",
       "num_att                         0\n",
       "num_pic                         0\n",
       "num_var                         0\n",
       "price                           0\n",
       "shim._custom                    0\n",
       "shim._me1                       0\n",
       "shim._me2                       0\n",
       "shim._not_specified             0\n",
       "sold_quantity                   0\n",
       "tag.dragged_bids_and_visits     0\n",
       "tag.dragged_visits              0\n",
       "tag.free_relist                 0\n",
       "tag.good_quality_thumbnail      0\n",
       "tag.poor_quality_thumbnail      0\n",
       "dtype: int64"
      ]
     },
     "execution_count": 6,
     "metadata": {},
     "output_type": "execute_result"
    }
   ],
   "source": [
    "preprocessed_df.isnull().sum()"
   ]
  },
  {
   "cell_type": "code",
   "execution_count": 7,
   "id": "04a96b17-c98e-48b7-a8c2-3f86ae10d025",
   "metadata": {},
   "outputs": [
    {
     "data": {
      "text/html": [
       "<div>\n",
       "<style scoped>\n",
       "    .dataframe tbody tr th:only-of-type {\n",
       "        vertical-align: middle;\n",
       "    }\n",
       "\n",
       "    .dataframe tbody tr th {\n",
       "        vertical-align: top;\n",
       "    }\n",
       "\n",
       "    .dataframe thead th {\n",
       "        text-align: right;\n",
       "    }\n",
       "</style>\n",
       "<table border=\"1\" class=\"dataframe\">\n",
       "  <thead>\n",
       "    <tr style=\"text-align: right;\">\n",
       "      <th></th>\n",
       "      <th>accepts_mercadopago</th>\n",
       "      <th>automatic_relist</th>\n",
       "      <th>available_quantity</th>\n",
       "      <th>buy_mode._auction</th>\n",
       "      <th>buy_mode._buy_it_now</th>\n",
       "      <th>buy_mode._classified</th>\n",
       "      <th>cat._MLA1227</th>\n",
       "      <th>cat._MLA1383</th>\n",
       "      <th>cat._MLA15171</th>\n",
       "      <th>cat._MLA15328</th>\n",
       "      <th>...</th>\n",
       "      <th>shim._custom</th>\n",
       "      <th>shim._me1</th>\n",
       "      <th>shim._me2</th>\n",
       "      <th>shim._not_specified</th>\n",
       "      <th>sold_quantity</th>\n",
       "      <th>tag.dragged_bids_and_visits</th>\n",
       "      <th>tag.dragged_visits</th>\n",
       "      <th>tag.free_relist</th>\n",
       "      <th>tag.good_quality_thumbnail</th>\n",
       "      <th>tag.poor_quality_thumbnail</th>\n",
       "    </tr>\n",
       "  </thead>\n",
       "  <tbody>\n",
       "  </tbody>\n",
       "</table>\n",
       "<p>0 rows × 47 columns</p>\n",
       "</div>"
      ],
      "text/plain": [
       "Empty DataFrame\n",
       "Columns: [accepts_mercadopago, automatic_relist, available_quantity, buy_mode._auction, buy_mode._buy_it_now, buy_mode._classified, cat._MLA1227, cat._MLA1383, cat._MLA15171, cat._MLA15328, cat._MLA2038, cat._MLA2044, cat._MLA3530, cat._MLA41287, cat._others, condition, initial_quantity, listing_type_id, nmp.Acordar con el comprador, nmp.American Express, nmp.Cheque certificado, nmp.Contra reembolso, nmp.Diners, nmp.Efectivo, nmp.Giro postal, nmp.MasterCard, nmp.Mastercard Maestro, nmp.MercadoPago, nmp.N/a, nmp.Tarjeta de crédito, nmp.Transferencia bancaria, nmp.Visa, nmp.Visa Electron, num_att, num_pic, num_var, price, shim._custom, shim._me1, shim._me2, shim._not_specified, sold_quantity, tag.dragged_bids_and_visits, tag.dragged_visits, tag.free_relist, tag.good_quality_thumbnail, tag.poor_quality_thumbnail]\n",
       "Index: []\n",
       "\n",
       "[0 rows x 47 columns]"
      ]
     },
     "execution_count": 7,
     "metadata": {},
     "output_type": "execute_result"
    }
   ],
   "source": [
    "preprocessed_df[preprocessed_df.duplicated()]"
   ]
  },
  {
   "cell_type": "code",
   "execution_count": 8,
   "id": "91edf42f-6b29-49e9-8672-37d3f7c97a7f",
   "metadata": {},
   "outputs": [
    {
     "name": "stdout",
     "output_type": "stream",
     "text": [
      "DataFrame Shape: (68197, 47)\n"
     ]
    }
   ],
   "source": [
    "print(f\"DataFrame Shape: {preprocessed_df.shape}\")"
   ]
  },
  {
   "cell_type": "code",
   "execution_count": 9,
   "id": "243f7ab8-dbe4-447e-b23c-04b1d143337c",
   "metadata": {},
   "outputs": [],
   "source": [
    "X = preprocessed_df.loc[:, preprocessed_df.columns != 'condition'].values\n",
    "y = preprocessed_df['condition'].values"
   ]
  },
  {
   "cell_type": "code",
   "execution_count": 10,
   "id": "ae202a79-b96e-49ec-ad23-f1fac1cfe930",
   "metadata": {},
   "outputs": [
    {
     "data": {
      "text/plain": [
       "Index(['accepts_mercadopago', 'automatic_relist', 'available_quantity',\n",
       "       'buy_mode._auction', 'buy_mode._buy_it_now', 'buy_mode._classified',\n",
       "       'cat._MLA1227', 'cat._MLA1383', 'cat._MLA15171', 'cat._MLA15328',\n",
       "       'cat._MLA2038', 'cat._MLA2044', 'cat._MLA3530', 'cat._MLA41287',\n",
       "       'cat._others', 'initial_quantity', 'listing_type_id',\n",
       "       'nmp.Acordar con el comprador', 'nmp.American Express',\n",
       "       'nmp.Cheque certificado', 'nmp.Contra reembolso', 'nmp.Diners',\n",
       "       'nmp.Efectivo', 'nmp.Giro postal', 'nmp.MasterCard',\n",
       "       'nmp.Mastercard Maestro', 'nmp.MercadoPago', 'nmp.N/a',\n",
       "       'nmp.Tarjeta de crédito', 'nmp.Transferencia bancaria', 'nmp.Visa',\n",
       "       'nmp.Visa Electron', 'num_att', 'num_pic', 'num_var', 'price',\n",
       "       'shim._custom', 'shim._me1', 'shim._me2', 'shim._not_specified',\n",
       "       'sold_quantity', 'tag.dragged_bids_and_visits', 'tag.dragged_visits',\n",
       "       'tag.free_relist', 'tag.good_quality_thumbnail',\n",
       "       'tag.poor_quality_thumbnail'],\n",
       "      dtype='object')"
      ]
     },
     "execution_count": 10,
     "metadata": {},
     "output_type": "execute_result"
    }
   ],
   "source": [
    "preprocessed_df.loc[:, preprocessed_df.columns != 'condition'].columns"
   ]
  },
  {
   "cell_type": "markdown",
   "id": "b7ccf4b9-5d0a-47b8-9f19-664715f3f883",
   "metadata": {},
   "source": [
    "<h2> 2. Hyperparameters Tunning<h2/>"
   ]
  },
  {
   "cell_type": "code",
   "execution_count": 11,
   "id": "32fe8127-3388-495f-aacb-0f494029ece9",
   "metadata": {},
   "outputs": [],
   "source": [
    "model_params = {\n",
    "    'svm': {\n",
    "        'model': svm.SVC(gamma='auto'),\n",
    "        'params' : {\n",
    "            'C': [1,10],\n",
    "            'kernel': ['rbf']\n",
    "        }  \n",
    "    },\n",
    "    'random_forest': {\n",
    "        'model': RandomForestClassifier(),\n",
    "        'params' : {\n",
    "            'n_estimators': [1,5,10]\n",
    "        }\n",
    "    },\n",
    "    'logistic_regression' : {\n",
    "        'model': LogisticRegression(solver='liblinear',multi_class='auto'),\n",
    "        'params': {\n",
    "            'C': [1,5,10]\n",
    "        }\n",
    "    },\n",
    "    'naive_bayes_gaussian': {\n",
    "        'model': GaussianNB(),\n",
    "        'params': {}\n",
    "    },\n",
    "    'naive_bayes_multinomial': {\n",
    "        'model': MultinomialNB(),\n",
    "        'params': {}\n",
    "    },\n",
    "    'decision_tree': {\n",
    "        'model': DecisionTreeClassifier(),\n",
    "        'params': {\n",
    "            'criterion': ['gini','entropy'],\n",
    "            \n",
    "        }\n",
    "    }     \n",
    "}"
   ]
  },
  {
   "cell_type": "code",
   "execution_count": 12,
   "id": "19c110cd-6977-4e90-b21f-e5736323da7d",
   "metadata": {},
   "outputs": [
    {
     "name": "stdout",
     "output_type": "stream",
     "text": [
      "{'model': 'svm', 'best_score': 0.8100504407857493, 'best_params': {'C': 10, 'kernel': 'rbf'}}\n",
      "{'model': 'random_forest', 'best_score': 0.795636401693522, 'best_params': {'n_estimators': 10}}\n",
      "{'model': 'logistic_regression', 'best_score': 0.8077189270289464, 'best_params': {'C': 10}}\n",
      "{'model': 'naive_bayes_gaussian', 'best_score': 0.48458137770783677, 'best_params': {}}\n",
      "{'model': 'naive_bayes_multinomial', 'best_score': 0.6971861010097188, 'best_params': {}}\n",
      "{'model': 'decision_tree', 'best_score': 0.7657084307786517, 'best_params': {'criterion': 'entropy'}}\n"
     ]
    },
    {
     "data": {
      "text/html": [
       "<div>\n",
       "<style scoped>\n",
       "    .dataframe tbody tr th:only-of-type {\n",
       "        vertical-align: middle;\n",
       "    }\n",
       "\n",
       "    .dataframe tbody tr th {\n",
       "        vertical-align: top;\n",
       "    }\n",
       "\n",
       "    .dataframe thead th {\n",
       "        text-align: right;\n",
       "    }\n",
       "</style>\n",
       "<table border=\"1\" class=\"dataframe\">\n",
       "  <thead>\n",
       "    <tr style=\"text-align: right;\">\n",
       "      <th></th>\n",
       "      <th>model</th>\n",
       "      <th>best_score</th>\n",
       "      <th>best_params</th>\n",
       "    </tr>\n",
       "  </thead>\n",
       "  <tbody>\n",
       "    <tr>\n",
       "      <th>0</th>\n",
       "      <td>svm</td>\n",
       "      <td>0.810050</td>\n",
       "      <td>{'C': 10, 'kernel': 'rbf'}</td>\n",
       "    </tr>\n",
       "    <tr>\n",
       "      <th>1</th>\n",
       "      <td>random_forest</td>\n",
       "      <td>0.795636</td>\n",
       "      <td>{'n_estimators': 10}</td>\n",
       "    </tr>\n",
       "    <tr>\n",
       "      <th>2</th>\n",
       "      <td>logistic_regression</td>\n",
       "      <td>0.807719</td>\n",
       "      <td>{'C': 10}</td>\n",
       "    </tr>\n",
       "    <tr>\n",
       "      <th>3</th>\n",
       "      <td>naive_bayes_gaussian</td>\n",
       "      <td>0.484581</td>\n",
       "      <td>{}</td>\n",
       "    </tr>\n",
       "    <tr>\n",
       "      <th>4</th>\n",
       "      <td>naive_bayes_multinomial</td>\n",
       "      <td>0.697186</td>\n",
       "      <td>{}</td>\n",
       "    </tr>\n",
       "    <tr>\n",
       "      <th>5</th>\n",
       "      <td>decision_tree</td>\n",
       "      <td>0.765708</td>\n",
       "      <td>{'criterion': 'entropy'}</td>\n",
       "    </tr>\n",
       "  </tbody>\n",
       "</table>\n",
       "</div>"
      ],
      "text/plain": [
       "                     model  best_score                 best_params\n",
       "0                      svm    0.810050  {'C': 10, 'kernel': 'rbf'}\n",
       "1            random_forest    0.795636        {'n_estimators': 10}\n",
       "2      logistic_regression    0.807719                   {'C': 10}\n",
       "3     naive_bayes_gaussian    0.484581                          {}\n",
       "4  naive_bayes_multinomial    0.697186                          {}\n",
       "5            decision_tree    0.765708    {'criterion': 'entropy'}"
      ]
     },
     "execution_count": 12,
     "metadata": {},
     "output_type": "execute_result"
    }
   ],
   "source": [
    "scores = []\n",
    "\n",
    "for model_name, mp in model_params.items():\n",
    "    clf =  GridSearchCV(mp['model'], mp['params'], n_jobs=5, cv=5, return_train_score=False)\n",
    "    clf.fit(X, y)\n",
    "    scores.append({\n",
    "        'model': model_name,\n",
    "        'best_score': clf.best_score_,\n",
    "        'best_params': clf.best_params_\n",
    "    })\n",
    "    print({\n",
    "        'model': model_name,\n",
    "        'best_score': clf.best_score_,\n",
    "        'best_params': clf.best_params_\n",
    "    })\n",
    "\n",
    "results_df = pd.DataFrame(scores, columns=['model','best_score','best_params'])\n",
    "results_df"
   ]
  },
  {
   "cell_type": "markdown",
   "id": "d2348ef6-7ac8-45b1-9349-261534024bd9",
   "metadata": {},
   "source": [
    "<h2> 3. Training<h2/>"
   ]
  },
  {
   "cell_type": "markdown",
   "id": "e5426bdf-3c28-4cae-9a73-358162301992",
   "metadata": {},
   "source": [
    "From before experiment, SVM is the best approach, so:"
   ]
  },
  {
   "cell_type": "code",
   "execution_count": 17,
   "id": "5aeeee9d-c1cd-45da-855e-84bea85bd071",
   "metadata": {},
   "outputs": [
    {
     "data": {
      "text/plain": [
       "GridSearchCV(cv=5, estimator=SVC(C=10, gamma='auto', probability=True),\n",
       "             n_jobs=5, param_grid={})"
      ]
     },
     "execution_count": 17,
     "metadata": {},
     "output_type": "execute_result"
    }
   ],
   "source": [
    "clf =  GridSearchCV(svm.SVC(gamma='auto', C=10, kernel=\"rbf\", probability=True), {}, n_jobs=5, cv=5, return_train_score=False)\n",
    "clf.fit(X, y)"
   ]
  },
  {
   "cell_type": "code",
   "execution_count": 18,
   "id": "2a4c14ef-e43a-4348-a8f4-c0fc6efa8d80",
   "metadata": {},
   "outputs": [
    {
     "data": {
      "text/plain": [
       "['models/best_model.joblib']"
      ]
     },
     "execution_count": 18,
     "metadata": {},
     "output_type": "execute_result"
    }
   ],
   "source": [
    "from joblib import dump, load\n",
    "dump(clf, 'models/best_model.joblib')"
   ]
  },
  {
   "cell_type": "code",
   "execution_count": null,
   "id": "7f2468cb-103c-42d9-8f7e-d15f4927ab2c",
   "metadata": {},
   "outputs": [],
   "source": []
  }
 ],
 "metadata": {
  "kernelspec": {
   "display_name": "Python 3",
   "language": "python",
   "name": "python3"
  },
  "language_info": {
   "codemirror_mode": {
    "name": "ipython",
    "version": 3
   },
   "file_extension": ".py",
   "mimetype": "text/x-python",
   "name": "python",
   "nbconvert_exporter": "python",
   "pygments_lexer": "ipython3",
   "version": "3.8.0"
  }
 },
 "nbformat": 4,
 "nbformat_minor": 5
}
