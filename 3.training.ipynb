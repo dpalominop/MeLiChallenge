{
 "cells": [
  {
   "cell_type": "markdown",
   "id": "5e5c157d-96eb-490e-8f36-963bb41fd582",
   "metadata": {},
   "source": [
    "<h1>Training<h1/>"
   ]
  },
  {
   "cell_type": "markdown",
   "id": "0befb130-11e7-409e-bea1-373aea055fbd",
   "metadata": {},
   "source": [
    "<h1>Training<h1/>"
   ]
  },
  {
   "cell_type": "code",
   "execution_count": 1,
   "id": "3b9701df-8bfb-4ddb-ab5f-6320ac1b00f6",
   "metadata": {},
   "outputs": [],
   "source": [
    "from sklearn import svm\n",
    "from sklearn.ensemble import RandomForestClassifier\n",
    "from sklearn.linear_model import LogisticRegression\n",
    "from sklearn.naive_bayes import GaussianNB\n",
    "from sklearn.naive_bayes import MultinomialNB\n",
    "from sklearn.tree import DecisionTreeClassifier\n",
    "from sklearn.model_selection import GridSearchCV\n",
    "\n",
    "import pandas as pd\n",
    "from data.new_or_used import build_dataset\n",
    "\n",
    "from src.preprocessing import preprocess_training"
   ]
  },
  {
   "cell_type": "markdown",
   "id": "ee53759a-b243-43ba-be1b-865e7bf73e4f",
   "metadata": {},
   "source": [
    "<h2> 1. Loading Dataset<h2/>"
   ]
  },
  {
   "cell_type": "code",
   "execution_count": 2,
   "id": "a35a03cd-0308-484b-a577-e537bdbecc3a",
   "metadata": {},
   "outputs": [],
   "source": [
    "X_train, _, _, _ = build_dataset()"
   ]
  },
  {
   "cell_type": "code",
   "execution_count": 3,
   "id": "d0e1c7f1-ad7b-46eb-a8ba-9d9943c93860",
   "metadata": {},
   "outputs": [],
   "source": [
    "df = pd.DataFrame.from_records(X_train)"
   ]
  },
  {
   "cell_type": "markdown",
   "id": "ab60ce51-e3fa-42cc-a6ed-c5acbceb6a82",
   "metadata": {},
   "source": [
    "<h2> 2. Preprocessing<h2/>"
   ]
  },
  {
   "cell_type": "code",
   "execution_count": 4,
   "id": "fd95fb69-59e9-4f3a-9170-6b19d63a42a6",
   "metadata": {},
   "outputs": [],
   "source": [
    "preprocessed_df = preprocess_training(df)\n",
    "del df, X_train"
   ]
  },
  {
   "cell_type": "code",
   "execution_count": 5,
   "id": "0c90c893-0b15-42b6-af0a-33c5a87782a5",
   "metadata": {},
   "outputs": [
    {
     "data": {
      "text/html": [
       "<div>\n",
       "<style scoped>\n",
       "    .dataframe tbody tr th:only-of-type {\n",
       "        vertical-align: middle;\n",
       "    }\n",
       "\n",
       "    .dataframe tbody tr th {\n",
       "        vertical-align: top;\n",
       "    }\n",
       "\n",
       "    .dataframe thead th {\n",
       "        text-align: right;\n",
       "    }\n",
       "</style>\n",
       "<table border=\"1\" class=\"dataframe\">\n",
       "  <thead>\n",
       "    <tr style=\"text-align: right;\">\n",
       "      <th></th>\n",
       "      <th>condition</th>\n",
       "      <th>base_price</th>\n",
       "      <th>listing_type_id</th>\n",
       "      <th>price</th>\n",
       "      <th>accepts_mercadopago</th>\n",
       "      <th>automatic_relist</th>\n",
       "      <th>initial_quantity</th>\n",
       "      <th>sold_quantity</th>\n",
       "      <th>available_quantity</th>\n",
       "      <th>num_pic</th>\n",
       "      <th>...</th>\n",
       "      <th>nmp.Visa</th>\n",
       "      <th>nmp.Diners</th>\n",
       "      <th>nmp.American Express</th>\n",
       "      <th>nmp.Giro postal</th>\n",
       "      <th>nmp.MercadoPago</th>\n",
       "      <th>nmp.Cheque certificado</th>\n",
       "      <th>shim._custom</th>\n",
       "      <th>shim._me1</th>\n",
       "      <th>shim._me2</th>\n",
       "      <th>shim._not_specified</th>\n",
       "    </tr>\n",
       "  </thead>\n",
       "  <tbody>\n",
       "    <tr>\n",
       "      <th>0</th>\n",
       "      <td>0.0</td>\n",
       "      <td>0.000007</td>\n",
       "      <td>0.166667</td>\n",
       "      <td>0.000007</td>\n",
       "      <td>1.0</td>\n",
       "      <td>0.0</td>\n",
       "      <td>0.0</td>\n",
       "      <td>0.0</td>\n",
       "      <td>0.0</td>\n",
       "      <td>0.055556</td>\n",
       "      <td>...</td>\n",
       "      <td>0.0</td>\n",
       "      <td>0.0</td>\n",
       "      <td>0.0</td>\n",
       "      <td>0.0</td>\n",
       "      <td>0.0</td>\n",
       "      <td>0.0</td>\n",
       "      <td>0.0</td>\n",
       "      <td>0.0</td>\n",
       "      <td>0.0</td>\n",
       "      <td>1.0</td>\n",
       "    </tr>\n",
       "    <tr>\n",
       "      <th>1</th>\n",
       "      <td>1.0</td>\n",
       "      <td>0.000238</td>\n",
       "      <td>0.333333</td>\n",
       "      <td>0.000238</td>\n",
       "      <td>1.0</td>\n",
       "      <td>0.0</td>\n",
       "      <td>0.0</td>\n",
       "      <td>0.0</td>\n",
       "      <td>0.0</td>\n",
       "      <td>0.166667</td>\n",
       "      <td>...</td>\n",
       "      <td>0.0</td>\n",
       "      <td>0.0</td>\n",
       "      <td>0.0</td>\n",
       "      <td>0.0</td>\n",
       "      <td>0.0</td>\n",
       "      <td>0.0</td>\n",
       "      <td>0.0</td>\n",
       "      <td>0.0</td>\n",
       "      <td>1.0</td>\n",
       "      <td>0.0</td>\n",
       "    </tr>\n",
       "    <tr>\n",
       "      <th>2</th>\n",
       "      <td>1.0</td>\n",
       "      <td>0.000005</td>\n",
       "      <td>0.166667</td>\n",
       "      <td>0.000005</td>\n",
       "      <td>1.0</td>\n",
       "      <td>0.0</td>\n",
       "      <td>0.0</td>\n",
       "      <td>0.0</td>\n",
       "      <td>0.0</td>\n",
       "      <td>0.027778</td>\n",
       "      <td>...</td>\n",
       "      <td>0.0</td>\n",
       "      <td>0.0</td>\n",
       "      <td>0.0</td>\n",
       "      <td>0.0</td>\n",
       "      <td>0.0</td>\n",
       "      <td>0.0</td>\n",
       "      <td>0.0</td>\n",
       "      <td>0.0</td>\n",
       "      <td>1.0</td>\n",
       "      <td>0.0</td>\n",
       "    </tr>\n",
       "    <tr>\n",
       "      <th>3</th>\n",
       "      <td>0.0</td>\n",
       "      <td>0.000052</td>\n",
       "      <td>0.333333</td>\n",
       "      <td>0.000052</td>\n",
       "      <td>1.0</td>\n",
       "      <td>0.0</td>\n",
       "      <td>0.0</td>\n",
       "      <td>0.0</td>\n",
       "      <td>0.0</td>\n",
       "      <td>0.055556</td>\n",
       "      <td>...</td>\n",
       "      <td>0.0</td>\n",
       "      <td>0.0</td>\n",
       "      <td>0.0</td>\n",
       "      <td>0.0</td>\n",
       "      <td>0.0</td>\n",
       "      <td>0.0</td>\n",
       "      <td>0.0</td>\n",
       "      <td>0.0</td>\n",
       "      <td>1.0</td>\n",
       "      <td>0.0</td>\n",
       "    </tr>\n",
       "    <tr>\n",
       "      <th>4</th>\n",
       "      <td>1.0</td>\n",
       "      <td>0.000003</td>\n",
       "      <td>0.166667</td>\n",
       "      <td>0.000003</td>\n",
       "      <td>1.0</td>\n",
       "      <td>0.0</td>\n",
       "      <td>0.0</td>\n",
       "      <td>0.0</td>\n",
       "      <td>0.0</td>\n",
       "      <td>0.055556</td>\n",
       "      <td>...</td>\n",
       "      <td>0.0</td>\n",
       "      <td>0.0</td>\n",
       "      <td>0.0</td>\n",
       "      <td>0.0</td>\n",
       "      <td>0.0</td>\n",
       "      <td>0.0</td>\n",
       "      <td>0.0</td>\n",
       "      <td>0.0</td>\n",
       "      <td>0.0</td>\n",
       "      <td>1.0</td>\n",
       "    </tr>\n",
       "  </tbody>\n",
       "</table>\n",
       "<p>5 rows × 48 columns</p>\n",
       "</div>"
      ],
      "text/plain": [
       "   condition  base_price  listing_type_id     price  accepts_mercadopago  \\\n",
       "0        0.0    0.000007         0.166667  0.000007                  1.0   \n",
       "1        1.0    0.000238         0.333333  0.000238                  1.0   \n",
       "2        1.0    0.000005         0.166667  0.000005                  1.0   \n",
       "3        0.0    0.000052         0.333333  0.000052                  1.0   \n",
       "4        1.0    0.000003         0.166667  0.000003                  1.0   \n",
       "\n",
       "   automatic_relist  initial_quantity  sold_quantity  available_quantity  \\\n",
       "0               0.0               0.0            0.0                 0.0   \n",
       "1               0.0               0.0            0.0                 0.0   \n",
       "2               0.0               0.0            0.0                 0.0   \n",
       "3               0.0               0.0            0.0                 0.0   \n",
       "4               0.0               0.0            0.0                 0.0   \n",
       "\n",
       "    num_pic  ...  nmp.Visa  nmp.Diners  nmp.American Express  nmp.Giro postal  \\\n",
       "0  0.055556  ...       0.0         0.0                   0.0              0.0   \n",
       "1  0.166667  ...       0.0         0.0                   0.0              0.0   \n",
       "2  0.027778  ...       0.0         0.0                   0.0              0.0   \n",
       "3  0.055556  ...       0.0         0.0                   0.0              0.0   \n",
       "4  0.055556  ...       0.0         0.0                   0.0              0.0   \n",
       "\n",
       "   nmp.MercadoPago  nmp.Cheque certificado  shim._custom  shim._me1  \\\n",
       "0              0.0                     0.0           0.0        0.0   \n",
       "1              0.0                     0.0           0.0        0.0   \n",
       "2              0.0                     0.0           0.0        0.0   \n",
       "3              0.0                     0.0           0.0        0.0   \n",
       "4              0.0                     0.0           0.0        0.0   \n",
       "\n",
       "   shim._me2  shim._not_specified  \n",
       "0        0.0                  1.0  \n",
       "1        1.0                  0.0  \n",
       "2        1.0                  0.0  \n",
       "3        1.0                  0.0  \n",
       "4        0.0                  1.0  \n",
       "\n",
       "[5 rows x 48 columns]"
      ]
     },
     "execution_count": 5,
     "metadata": {},
     "output_type": "execute_result"
    }
   ],
   "source": [
    "preprocessed_df.head()"
   ]
  },
  {
   "cell_type": "code",
   "execution_count": 6,
   "id": "bce85485-9fbc-4232-8ab2-e5a425d42058",
   "metadata": {},
   "outputs": [
    {
     "data": {
      "text/plain": [
       "condition                       0\n",
       "base_price                      0\n",
       "listing_type_id                 0\n",
       "price                           0\n",
       "accepts_mercadopago             0\n",
       "automatic_relist                0\n",
       "initial_quantity                0\n",
       "sold_quantity                   0\n",
       "available_quantity              0\n",
       "num_pic                         0\n",
       "num_var                         0\n",
       "num_att                         0\n",
       "buy_mode._auction               0\n",
       "buy_mode._buy_it_now            0\n",
       "buy_mode._classified            0\n",
       "tag.dragged_bids_and_visits     0\n",
       "tag.good_quality_thumbnail      0\n",
       "tag.dragged_visits              0\n",
       "tag.free_relist                 0\n",
       "tag.poor_quality_thumbnail      0\n",
       "cat._MLA1227                    0\n",
       "cat._MLA1383                    0\n",
       "cat._MLA15171                   0\n",
       "cat._MLA15328                   0\n",
       "cat._MLA2038                    0\n",
       "cat._MLA2044                    0\n",
       "cat._MLA3530                    0\n",
       "cat._MLA41287                   0\n",
       "cat._others                     0\n",
       "nmp.Transferencia bancaria      0\n",
       "nmp.Acordar con el comprador    0\n",
       "nmp.Efectivo                    0\n",
       "nmp.Tarjeta de crédito          0\n",
       "nmp.N/a                         0\n",
       "nmp.MasterCard                  0\n",
       "nmp.Mastercard Maestro          0\n",
       "nmp.Visa Electron               0\n",
       "nmp.Contra reembolso            0\n",
       "nmp.Visa                        0\n",
       "nmp.Diners                      0\n",
       "nmp.American Express            0\n",
       "nmp.Giro postal                 0\n",
       "nmp.MercadoPago                 0\n",
       "nmp.Cheque certificado          0\n",
       "shim._custom                    0\n",
       "shim._me1                       0\n",
       "shim._me2                       0\n",
       "shim._not_specified             0\n",
       "dtype: int64"
      ]
     },
     "execution_count": 6,
     "metadata": {},
     "output_type": "execute_result"
    }
   ],
   "source": [
    "preprocessed_df.isnull().sum()"
   ]
  },
  {
   "cell_type": "code",
   "execution_count": 7,
   "id": "04a96b17-c98e-48b7-a8c2-3f86ae10d025",
   "metadata": {},
   "outputs": [
    {
     "data": {
      "text/html": [
       "<div>\n",
       "<style scoped>\n",
       "    .dataframe tbody tr th:only-of-type {\n",
       "        vertical-align: middle;\n",
       "    }\n",
       "\n",
       "    .dataframe tbody tr th {\n",
       "        vertical-align: top;\n",
       "    }\n",
       "\n",
       "    .dataframe thead th {\n",
       "        text-align: right;\n",
       "    }\n",
       "</style>\n",
       "<table border=\"1\" class=\"dataframe\">\n",
       "  <thead>\n",
       "    <tr style=\"text-align: right;\">\n",
       "      <th></th>\n",
       "      <th>condition</th>\n",
       "      <th>base_price</th>\n",
       "      <th>listing_type_id</th>\n",
       "      <th>price</th>\n",
       "      <th>accepts_mercadopago</th>\n",
       "      <th>automatic_relist</th>\n",
       "      <th>initial_quantity</th>\n",
       "      <th>sold_quantity</th>\n",
       "      <th>available_quantity</th>\n",
       "      <th>num_pic</th>\n",
       "      <th>...</th>\n",
       "      <th>nmp.Visa</th>\n",
       "      <th>nmp.Diners</th>\n",
       "      <th>nmp.American Express</th>\n",
       "      <th>nmp.Giro postal</th>\n",
       "      <th>nmp.MercadoPago</th>\n",
       "      <th>nmp.Cheque certificado</th>\n",
       "      <th>shim._custom</th>\n",
       "      <th>shim._me1</th>\n",
       "      <th>shim._me2</th>\n",
       "      <th>shim._not_specified</th>\n",
       "    </tr>\n",
       "  </thead>\n",
       "  <tbody>\n",
       "  </tbody>\n",
       "</table>\n",
       "<p>0 rows × 48 columns</p>\n",
       "</div>"
      ],
      "text/plain": [
       "Empty DataFrame\n",
       "Columns: [condition, base_price, listing_type_id, price, accepts_mercadopago, automatic_relist, initial_quantity, sold_quantity, available_quantity, num_pic, num_var, num_att, buy_mode._auction, buy_mode._buy_it_now, buy_mode._classified, tag.dragged_bids_and_visits, tag.good_quality_thumbnail, tag.dragged_visits, tag.free_relist, tag.poor_quality_thumbnail, cat._MLA1227, cat._MLA1383, cat._MLA15171, cat._MLA15328, cat._MLA2038, cat._MLA2044, cat._MLA3530, cat._MLA41287, cat._others, nmp.Transferencia bancaria, nmp.Acordar con el comprador, nmp.Efectivo, nmp.Tarjeta de crédito, nmp.N/a, nmp.MasterCard, nmp.Mastercard Maestro, nmp.Visa Electron, nmp.Contra reembolso, nmp.Visa, nmp.Diners, nmp.American Express, nmp.Giro postal, nmp.MercadoPago, nmp.Cheque certificado, shim._custom, shim._me1, shim._me2, shim._not_specified]\n",
       "Index: []\n",
       "\n",
       "[0 rows x 48 columns]"
      ]
     },
     "execution_count": 7,
     "metadata": {},
     "output_type": "execute_result"
    }
   ],
   "source": [
    "preprocessed_df[preprocessed_df.duplicated()]"
   ]
  },
  {
   "cell_type": "code",
   "execution_count": 8,
   "id": "91edf42f-6b29-49e9-8672-37d3f7c97a7f",
   "metadata": {},
   "outputs": [
    {
     "name": "stdout",
     "output_type": "stream",
     "text": [
      "DataFrame Shape: (68198, 48)\n"
     ]
    }
   ],
   "source": [
    "print(f\"DataFrame Shape: {preprocessed_df.shape}\")"
   ]
  },
  {
   "cell_type": "code",
   "execution_count": 9,
   "id": "243f7ab8-dbe4-447e-b23c-04b1d143337c",
   "metadata": {},
   "outputs": [],
   "source": [
    "X = preprocessed_df.loc[:, preprocessed_df.columns != 'condition'].values\n",
    "y = preprocessed_df['condition'].values"
   ]
  },
  {
   "cell_type": "markdown",
   "id": "b7ccf4b9-5d0a-47b8-9f19-664715f3f883",
   "metadata": {},
   "source": [
    "<h2> 2. Hyperparameters Tunning<h2/>"
   ]
  },
  {
   "cell_type": "code",
   "execution_count": 10,
   "id": "32fe8127-3388-495f-aacb-0f494029ece9",
   "metadata": {},
   "outputs": [],
   "source": [
    "model_params = {\n",
    "    'svm': {\n",
    "        'model': svm.SVC(gamma='auto'),\n",
    "        'params' : {\n",
    "            'C': [1,10,20],\n",
    "            'kernel': ['rbf','linear']\n",
    "        }  \n",
    "    },\n",
    "    'random_forest': {\n",
    "        'model': RandomForestClassifier(),\n",
    "        'params' : {\n",
    "            'n_estimators': [1,5,10]\n",
    "        }\n",
    "    },\n",
    "    'logistic_regression' : {\n",
    "        'model': LogisticRegression(solver='liblinear',multi_class='auto'),\n",
    "        'params': {\n",
    "            'C': [1,5,10]\n",
    "        }\n",
    "    },\n",
    "    'naive_bayes_gaussian': {\n",
    "        'model': GaussianNB(),\n",
    "        'params': {}\n",
    "    },\n",
    "    'naive_bayes_multinomial': {\n",
    "        'model': MultinomialNB(),\n",
    "        'params': {}\n",
    "    },\n",
    "    'decision_tree': {\n",
    "        'model': DecisionTreeClassifier(),\n",
    "        'params': {\n",
    "            'criterion': ['gini','entropy'],\n",
    "            \n",
    "        }\n",
    "    }     \n",
    "}"
   ]
  },
  {
   "cell_type": "code",
   "execution_count": null,
   "id": "19c110cd-6977-4e90-b21f-e5736323da7d",
   "metadata": {},
   "outputs": [],
   "source": [
    "scores = []\n",
    "\n",
    "for model_name, mp in model_params.items():\n",
    "    clf =  GridSearchCV(mp['model'], mp['params'], n_jobs=9, cv=5, return_train_score=False)\n",
    "    clf.fit(X, y)\n",
    "    scores.append({\n",
    "        'model': model_name,\n",
    "        'best_score': clf.best_score_,\n",
    "        'best_params': clf.best_params_\n",
    "    })\n",
    "\n",
    "results_df = pd.DataFrame(scores, columns=['model','best_score','best_params'])\n",
    "results_df"
   ]
  },
  {
   "cell_type": "markdown",
   "id": "d2348ef6-7ac8-45b1-9349-261534024bd9",
   "metadata": {},
   "source": [
    "<h2> 3. Training<h2/>"
   ]
  },
  {
   "cell_type": "code",
   "execution_count": null,
   "id": "5aeeee9d-c1cd-45da-855e-84bea85bd071",
   "metadata": {},
   "outputs": [],
   "source": [
    "clf = \n",
    "clf.fit(X,y)"
   ]
  },
  {
   "cell_type": "code",
   "execution_count": null,
   "id": "2a4c14ef-e43a-4348-a8f4-c0fc6efa8d80",
   "metadata": {},
   "outputs": [],
   "source": [
    "from joblib import dump, load\n",
    "dump(clf, 'models/best_model.joblib')"
   ]
  },
  {
   "cell_type": "code",
   "execution_count": null,
   "id": "7f2468cb-103c-42d9-8f7e-d15f4927ab2c",
   "metadata": {},
   "outputs": [],
   "source": []
  }
 ],
 "metadata": {
  "kernelspec": {
   "display_name": "Python 3",
   "language": "python",
   "name": "python3"
  },
  "language_info": {
   "codemirror_mode": {
    "name": "ipython",
    "version": 3
   },
   "file_extension": ".py",
   "mimetype": "text/x-python",
   "name": "python",
   "nbconvert_exporter": "python",
   "pygments_lexer": "ipython3",
   "version": "3.8.0"
  }
 },
 "nbformat": 4,
 "nbformat_minor": 5
}
